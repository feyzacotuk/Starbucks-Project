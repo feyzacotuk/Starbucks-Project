{
 "cells": [
  {
   "cell_type": "markdown",
   "metadata": {},
   "source": [
    "# STARBUCKS CAPSTONE\n",
    "The dataset simulates customer interactions on the Starbucks Rewards mobile app. Periodically, Starbucks sends offers to users through the app. These offers range from simple advertisements for drinks to promotional deals like discounts or buy-one-get-one-free (BOGO). However, not every user receives an offer each week, and the types of offers sent vary among users. The goal is to analyze this dataset to identify which demographic groups are most responsive to specific offer types.\n",
    "\n",
    "The challenge lies in integrating transaction, demographic, and offer data to discern patterns in customer responses. Although the dataset is a simplified version of the real app experience, focusing on a single product type, it still provides valuable insights. Each offer in the dataset has a set validity period during which it can be redeemed. For example, a BOGO offer might only be redeemable within five days. Informational offers also have validity periods, during which the customer is likely influenced by the ad, even if it’s just an informational message about a product.\n",
    "\n",
    "The transactional data includes records of purchases made through the app, noting the time of purchase and the amount spent. It also tracks each offer a user receives, views, and completes. Importantly, customers can still make purchases without receiving or viewing any offer.\n",
    "## Problem Statement :\n",
    "The problem statement involves predicting which type of offer will elicit the strongest customer response or lead to actions such as ‘offer received,’ ‘offer viewed,’ ‘transaction,’ or ‘offer completed,’ using customer demographic data and offer attributes."
   ]
  },
  {
   "cell_type": "markdown",
   "metadata": {},
   "source": [
    "### Importing Libraries & Loading Datasets "
   ]
  },
  {
   "cell_type": "code",
   "execution_count": 7,
   "metadata": {},
   "outputs": [],
   "source": [
    "import pandas as pd\n",
    "import numpy as np\n",
    "import math\n",
    "import json\n",
    "import matplotlib.pyplot as plt\n",
    "import seaborn as sns\n",
    "from sklearn.preprocessing import StandardScaler\n",
    "from sklearn.model_selection import train_test_split\n",
    "import tensorflow as tf\n",
    "import keras\n",
    "%matplotlib inline\n",
    "\n",
    "# read in the json files\n",
    "portfolio = pd.read_json('data/portfolio.jsonl', orient='records', lines=True)\n",
    "profile = pd.read_json('data/profile.jsonl', orient='records', lines=True)\n",
    "transcript = pd.read_json('data/transcript.jsonl', orient='records', lines=True)"
   ]
  },
  {
   "cell_type": "code",
   "execution_count": 8,
   "metadata": {},
   "outputs": [
    {
     "data": {
      "text/html": [
       "<div>\n",
       "<style scoped>\n",
       "    .dataframe tbody tr th:only-of-type {\n",
       "        vertical-align: middle;\n",
       "    }\n",
       "\n",
       "    .dataframe tbody tr th {\n",
       "        vertical-align: top;\n",
       "    }\n",
       "\n",
       "    .dataframe thead th {\n",
       "        text-align: right;\n",
       "    }\n",
       "</style>\n",
       "<table border=\"1\" class=\"dataframe\">\n",
       "  <thead>\n",
       "    <tr style=\"text-align: right;\">\n",
       "      <th></th>\n",
       "      <th>reward</th>\n",
       "      <th>channels</th>\n",
       "      <th>difficulty</th>\n",
       "      <th>duration</th>\n",
       "      <th>offer_type</th>\n",
       "      <th>id</th>\n",
       "    </tr>\n",
       "  </thead>\n",
       "  <tbody>\n",
       "    <tr>\n",
       "      <th>0</th>\n",
       "      <td>10</td>\n",
       "      <td>[email, mobile, social]</td>\n",
       "      <td>10</td>\n",
       "      <td>7</td>\n",
       "      <td>bogo</td>\n",
       "      <td>ae264e3637204a6fb9bb56bc8210ddfd</td>\n",
       "    </tr>\n",
       "    <tr>\n",
       "      <th>1</th>\n",
       "      <td>10</td>\n",
       "      <td>[web, email, mobile, social]</td>\n",
       "      <td>10</td>\n",
       "      <td>5</td>\n",
       "      <td>bogo</td>\n",
       "      <td>4d5c57ea9a6940dd891ad53e9dbe8da0</td>\n",
       "    </tr>\n",
       "    <tr>\n",
       "      <th>2</th>\n",
       "      <td>0</td>\n",
       "      <td>[web, email, mobile]</td>\n",
       "      <td>0</td>\n",
       "      <td>4</td>\n",
       "      <td>informational</td>\n",
       "      <td>3f207df678b143eea3cee63160fa8bed</td>\n",
       "    </tr>\n",
       "  </tbody>\n",
       "</table>\n",
       "</div>"
      ],
      "text/plain": [
       "   reward                      channels  difficulty  duration     offer_type  \\\n",
       "0      10       [email, mobile, social]          10         7           bogo   \n",
       "1      10  [web, email, mobile, social]          10         5           bogo   \n",
       "2       0          [web, email, mobile]           0         4  informational   \n",
       "\n",
       "                                 id  \n",
       "0  ae264e3637204a6fb9bb56bc8210ddfd  \n",
       "1  4d5c57ea9a6940dd891ad53e9dbe8da0  \n",
       "2  3f207df678b143eea3cee63160fa8bed  "
      ]
     },
     "execution_count": 8,
     "metadata": {},
     "output_type": "execute_result"
    }
   ],
   "source": [
    "portfolio.head(3) "
   ]
  },
  {
   "cell_type": "code",
   "execution_count": 9,
   "metadata": {},
   "outputs": [
    {
     "data": {
      "text/html": [
       "<div>\n",
       "<style scoped>\n",
       "    .dataframe tbody tr th:only-of-type {\n",
       "        vertical-align: middle;\n",
       "    }\n",
       "\n",
       "    .dataframe tbody tr th {\n",
       "        vertical-align: top;\n",
       "    }\n",
       "\n",
       "    .dataframe thead th {\n",
       "        text-align: right;\n",
       "    }\n",
       "</style>\n",
       "<table border=\"1\" class=\"dataframe\">\n",
       "  <thead>\n",
       "    <tr style=\"text-align: right;\">\n",
       "      <th></th>\n",
       "      <th>person</th>\n",
       "      <th>event</th>\n",
       "      <th>value</th>\n",
       "      <th>time</th>\n",
       "    </tr>\n",
       "  </thead>\n",
       "  <tbody>\n",
       "    <tr>\n",
       "      <th>0</th>\n",
       "      <td>78afa995795e4d85b5d9ceeca43f5fef</td>\n",
       "      <td>offer received</td>\n",
       "      <td>{'offer id': '9b98b8c7a33c4b65b9aebfe6a799e6d9'}</td>\n",
       "      <td>0</td>\n",
       "    </tr>\n",
       "    <tr>\n",
       "      <th>1</th>\n",
       "      <td>a03223e636434f42ac4c3df47e8bac43</td>\n",
       "      <td>offer received</td>\n",
       "      <td>{'offer id': '0b1e1539f2cc45b7b9fa7c272da2e1d7'}</td>\n",
       "      <td>0</td>\n",
       "    </tr>\n",
       "    <tr>\n",
       "      <th>2</th>\n",
       "      <td>e2127556f4f64592b11af22de27a7932</td>\n",
       "      <td>offer received</td>\n",
       "      <td>{'offer id': '2906b810c7d4411798c6938adc9daaa5'}</td>\n",
       "      <td>0</td>\n",
       "    </tr>\n",
       "  </tbody>\n",
       "</table>\n",
       "</div>"
      ],
      "text/plain": [
       "                             person           event  \\\n",
       "0  78afa995795e4d85b5d9ceeca43f5fef  offer received   \n",
       "1  a03223e636434f42ac4c3df47e8bac43  offer received   \n",
       "2  e2127556f4f64592b11af22de27a7932  offer received   \n",
       "\n",
       "                                              value  time  \n",
       "0  {'offer id': '9b98b8c7a33c4b65b9aebfe6a799e6d9'}     0  \n",
       "1  {'offer id': '0b1e1539f2cc45b7b9fa7c272da2e1d7'}     0  \n",
       "2  {'offer id': '2906b810c7d4411798c6938adc9daaa5'}     0  "
      ]
     },
     "execution_count": 9,
     "metadata": {},
     "output_type": "execute_result"
    }
   ],
   "source": [
    "transcript.head(3)"
   ]
  },
  {
   "cell_type": "code",
   "execution_count": 10,
   "metadata": {},
   "outputs": [
    {
     "data": {
      "text/html": [
       "<div>\n",
       "<style scoped>\n",
       "    .dataframe tbody tr th:only-of-type {\n",
       "        vertical-align: middle;\n",
       "    }\n",
       "\n",
       "    .dataframe tbody tr th {\n",
       "        vertical-align: top;\n",
       "    }\n",
       "\n",
       "    .dataframe thead th {\n",
       "        text-align: right;\n",
       "    }\n",
       "</style>\n",
       "<table border=\"1\" class=\"dataframe\">\n",
       "  <thead>\n",
       "    <tr style=\"text-align: right;\">\n",
       "      <th></th>\n",
       "      <th>gender</th>\n",
       "      <th>age</th>\n",
       "      <th>id</th>\n",
       "      <th>became_member_on</th>\n",
       "      <th>income</th>\n",
       "    </tr>\n",
       "  </thead>\n",
       "  <tbody>\n",
       "    <tr>\n",
       "      <th>0</th>\n",
       "      <td>None</td>\n",
       "      <td>118</td>\n",
       "      <td>68be06ca386d4c31939f3a4f0e3dd783</td>\n",
       "      <td>20170212</td>\n",
       "      <td>NaN</td>\n",
       "    </tr>\n",
       "    <tr>\n",
       "      <th>1</th>\n",
       "      <td>F</td>\n",
       "      <td>55</td>\n",
       "      <td>0610b486422d4921ae7d2bf64640c50b</td>\n",
       "      <td>20170715</td>\n",
       "      <td>112000.0</td>\n",
       "    </tr>\n",
       "    <tr>\n",
       "      <th>2</th>\n",
       "      <td>None</td>\n",
       "      <td>118</td>\n",
       "      <td>38fe809add3b4fcf9315a9694bb96ff5</td>\n",
       "      <td>20180712</td>\n",
       "      <td>NaN</td>\n",
       "    </tr>\n",
       "  </tbody>\n",
       "</table>\n",
       "</div>"
      ],
      "text/plain": [
       "  gender  age                                id  became_member_on    income\n",
       "0   None  118  68be06ca386d4c31939f3a4f0e3dd783          20170212       NaN\n",
       "1      F   55  0610b486422d4921ae7d2bf64640c50b          20170715  112000.0\n",
       "2   None  118  38fe809add3b4fcf9315a9694bb96ff5          20180712       NaN"
      ]
     },
     "execution_count": 10,
     "metadata": {},
     "output_type": "execute_result"
    }
   ],
   "source": [
    "profile.head(3) "
   ]
  },
  {
   "cell_type": "markdown",
   "metadata": {},
   "source": [
    "### Data Accessing and Cleaning:\n",
    "#### 1. Portfolio Data\n",
    "\n",
    "**Dataset Overview:**\n",
    "\n",
    "- **File:** `portfolio.json`\n",
    "- **Fields:**\n",
    "  - **id (string):** Unique identifier for each offer.\n",
    "  - **offer_type (string):** Type of the offer, such as BOGO (Buy-One-Get-One), discount, or informational.\n",
    "  - **difficulty (int):** Minimum amount of money a user must spend to qualify for the offer.\n",
    "  - **reward (int):** Incentive given upon successful completion of the offer.\n",
    "  - **duration (int):** The period, in days, during which the offer is active.\n",
    "  - **channels (list of strings):** Different platforms through which the offer can be distributed.\n",
    "\n",
    "There are three main types of offers in this dataset: Buy-One-Get-One (BOGO), discount, and informational.\n",
    "\n",
    "- **BOGO (Buy-One-Get-One):** Requires the user to spend a specified amount, which then unlocks a reward equivalent to that amount.\n",
    "- **Discount:** Grants a reward proportional to the amount the user spends, effectively reducing the cost of purchases.\n",
    "- **Informational:** No monetary reward is associated with this type, nor is there any spending requirement; it serves purely as a product advertisement.\n"
   ]
  },
  {
   "cell_type": "code",
   "execution_count": 11,
   "metadata": {},
   "outputs": [
    {
     "data": {
      "text/html": [
       "<div>\n",
       "<style scoped>\n",
       "    .dataframe tbody tr th:only-of-type {\n",
       "        vertical-align: middle;\n",
       "    }\n",
       "\n",
       "    .dataframe tbody tr th {\n",
       "        vertical-align: top;\n",
       "    }\n",
       "\n",
       "    .dataframe thead th {\n",
       "        text-align: right;\n",
       "    }\n",
       "</style>\n",
       "<table border=\"1\" class=\"dataframe\">\n",
       "  <thead>\n",
       "    <tr style=\"text-align: right;\">\n",
       "      <th></th>\n",
       "      <th>reward</th>\n",
       "      <th>channels</th>\n",
       "      <th>difficulty</th>\n",
       "      <th>duration</th>\n",
       "      <th>offer_type</th>\n",
       "      <th>id</th>\n",
       "    </tr>\n",
       "  </thead>\n",
       "  <tbody>\n",
       "    <tr>\n",
       "      <th>0</th>\n",
       "      <td>10</td>\n",
       "      <td>[email, mobile, social]</td>\n",
       "      <td>10</td>\n",
       "      <td>7</td>\n",
       "      <td>bogo</td>\n",
       "      <td>ae264e3637204a6fb9bb56bc8210ddfd</td>\n",
       "    </tr>\n",
       "    <tr>\n",
       "      <th>1</th>\n",
       "      <td>10</td>\n",
       "      <td>[web, email, mobile, social]</td>\n",
       "      <td>10</td>\n",
       "      <td>5</td>\n",
       "      <td>bogo</td>\n",
       "      <td>4d5c57ea9a6940dd891ad53e9dbe8da0</td>\n",
       "    </tr>\n",
       "    <tr>\n",
       "      <th>2</th>\n",
       "      <td>0</td>\n",
       "      <td>[web, email, mobile]</td>\n",
       "      <td>0</td>\n",
       "      <td>4</td>\n",
       "      <td>informational</td>\n",
       "      <td>3f207df678b143eea3cee63160fa8bed</td>\n",
       "    </tr>\n",
       "    <tr>\n",
       "      <th>3</th>\n",
       "      <td>5</td>\n",
       "      <td>[web, email, mobile]</td>\n",
       "      <td>5</td>\n",
       "      <td>7</td>\n",
       "      <td>bogo</td>\n",
       "      <td>9b98b8c7a33c4b65b9aebfe6a799e6d9</td>\n",
       "    </tr>\n",
       "    <tr>\n",
       "      <th>4</th>\n",
       "      <td>5</td>\n",
       "      <td>[web, email]</td>\n",
       "      <td>20</td>\n",
       "      <td>10</td>\n",
       "      <td>discount</td>\n",
       "      <td>0b1e1539f2cc45b7b9fa7c272da2e1d7</td>\n",
       "    </tr>\n",
       "  </tbody>\n",
       "</table>\n",
       "</div>"
      ],
      "text/plain": [
       "   reward                      channels  difficulty  duration     offer_type  \\\n",
       "0      10       [email, mobile, social]          10         7           bogo   \n",
       "1      10  [web, email, mobile, social]          10         5           bogo   \n",
       "2       0          [web, email, mobile]           0         4  informational   \n",
       "3       5          [web, email, mobile]           5         7           bogo   \n",
       "4       5                  [web, email]          20        10       discount   \n",
       "\n",
       "                                 id  \n",
       "0  ae264e3637204a6fb9bb56bc8210ddfd  \n",
       "1  4d5c57ea9a6940dd891ad53e9dbe8da0  \n",
       "2  3f207df678b143eea3cee63160fa8bed  \n",
       "3  9b98b8c7a33c4b65b9aebfe6a799e6d9  \n",
       "4  0b1e1539f2cc45b7b9fa7c272da2e1d7  "
      ]
     },
     "execution_count": 11,
     "metadata": {},
     "output_type": "execute_result"
    }
   ],
   "source": [
    "portfolio.head()"
   ]
  },
  {
   "cell_type": "code",
   "execution_count": 12,
   "metadata": {},
   "outputs": [
    {
     "data": {
      "text/plain": [
       "(10, 6)"
      ]
     },
     "execution_count": 12,
     "metadata": {},
     "output_type": "execute_result"
    }
   ],
   "source": [
    "portfolio.shape"
   ]
  },
  {
   "cell_type": "code",
   "execution_count": 13,
   "metadata": {},
   "outputs": [
    {
     "data": {
      "text/html": [
       "<div>\n",
       "<style scoped>\n",
       "    .dataframe tbody tr th:only-of-type {\n",
       "        vertical-align: middle;\n",
       "    }\n",
       "\n",
       "    .dataframe tbody tr th {\n",
       "        vertical-align: top;\n",
       "    }\n",
       "\n",
       "    .dataframe thead th {\n",
       "        text-align: right;\n",
       "    }\n",
       "</style>\n",
       "<table border=\"1\" class=\"dataframe\">\n",
       "  <thead>\n",
       "    <tr style=\"text-align: right;\">\n",
       "      <th></th>\n",
       "      <th>reward</th>\n",
       "      <th>difficulty</th>\n",
       "      <th>duration</th>\n",
       "    </tr>\n",
       "  </thead>\n",
       "  <tbody>\n",
       "    <tr>\n",
       "      <th>count</th>\n",
       "      <td>10.000000</td>\n",
       "      <td>10.000000</td>\n",
       "      <td>10.000000</td>\n",
       "    </tr>\n",
       "    <tr>\n",
       "      <th>mean</th>\n",
       "      <td>4.200000</td>\n",
       "      <td>7.700000</td>\n",
       "      <td>6.500000</td>\n",
       "    </tr>\n",
       "    <tr>\n",
       "      <th>std</th>\n",
       "      <td>3.583915</td>\n",
       "      <td>5.831905</td>\n",
       "      <td>2.321398</td>\n",
       "    </tr>\n",
       "    <tr>\n",
       "      <th>min</th>\n",
       "      <td>0.000000</td>\n",
       "      <td>0.000000</td>\n",
       "      <td>3.000000</td>\n",
       "    </tr>\n",
       "    <tr>\n",
       "      <th>25%</th>\n",
       "      <td>2.000000</td>\n",
       "      <td>5.000000</td>\n",
       "      <td>5.000000</td>\n",
       "    </tr>\n",
       "    <tr>\n",
       "      <th>50%</th>\n",
       "      <td>4.000000</td>\n",
       "      <td>8.500000</td>\n",
       "      <td>7.000000</td>\n",
       "    </tr>\n",
       "    <tr>\n",
       "      <th>75%</th>\n",
       "      <td>5.000000</td>\n",
       "      <td>10.000000</td>\n",
       "      <td>7.000000</td>\n",
       "    </tr>\n",
       "    <tr>\n",
       "      <th>max</th>\n",
       "      <td>10.000000</td>\n",
       "      <td>20.000000</td>\n",
       "      <td>10.000000</td>\n",
       "    </tr>\n",
       "  </tbody>\n",
       "</table>\n",
       "</div>"
      ],
      "text/plain": [
       "          reward  difficulty   duration\n",
       "count  10.000000   10.000000  10.000000\n",
       "mean    4.200000    7.700000   6.500000\n",
       "std     3.583915    5.831905   2.321398\n",
       "min     0.000000    0.000000   3.000000\n",
       "25%     2.000000    5.000000   5.000000\n",
       "50%     4.000000    8.500000   7.000000\n",
       "75%     5.000000   10.000000   7.000000\n",
       "max    10.000000   20.000000  10.000000"
      ]
     },
     "execution_count": 13,
     "metadata": {},
     "output_type": "execute_result"
    }
   ],
   "source": [
    "portfolio.describe()"
   ]
  },
  {
   "cell_type": "code",
   "execution_count": 14,
   "metadata": {},
   "outputs": [
    {
     "name": "stdout",
     "output_type": "stream",
     "text": [
      "<class 'pandas.core.frame.DataFrame'>\n",
      "RangeIndex: 10 entries, 0 to 9\n",
      "Data columns (total 6 columns):\n",
      " #   Column      Non-Null Count  Dtype \n",
      "---  ------      --------------  ----- \n",
      " 0   reward      10 non-null     int64 \n",
      " 1   channels    10 non-null     object\n",
      " 2   difficulty  10 non-null     int64 \n",
      " 3   duration    10 non-null     int64 \n",
      " 4   offer_type  10 non-null     object\n",
      " 5   id          10 non-null     object\n",
      "dtypes: int64(3), object(3)\n",
      "memory usage: 612.0+ bytes\n"
     ]
    }
   ],
   "source": [
    "portfolio.info()"
   ]
  },
  {
   "cell_type": "code",
   "execution_count": 15,
   "metadata": {},
   "outputs": [
    {
     "data": {
      "text/plain": [
       "0         [email, mobile, social]\n",
       "1    [web, email, mobile, social]\n",
       "2            [web, email, mobile]\n",
       "3            [web, email, mobile]\n",
       "4                    [web, email]\n",
       "5    [web, email, mobile, social]\n",
       "6    [web, email, mobile, social]\n",
       "7         [email, mobile, social]\n",
       "8    [web, email, mobile, social]\n",
       "9            [web, email, mobile]\n",
       "Name: channels, dtype: object"
      ]
     },
     "execution_count": 15,
     "metadata": {},
     "output_type": "execute_result"
    }
   ],
   "source": [
    "portfolio['channels']"
   ]
  },
  {
   "cell_type": "markdown",
   "metadata": {},
   "source": [
    "### Data Cleaning - Portfolio"
   ]
  },
  {
   "cell_type": "code",
   "execution_count": 16,
   "metadata": {},
   "outputs": [
    {
     "data": {
      "text/html": [
       "<div>\n",
       "<style scoped>\n",
       "    .dataframe tbody tr th:only-of-type {\n",
       "        vertical-align: middle;\n",
       "    }\n",
       "\n",
       "    .dataframe tbody tr th {\n",
       "        vertical-align: top;\n",
       "    }\n",
       "\n",
       "    .dataframe thead th {\n",
       "        text-align: right;\n",
       "    }\n",
       "</style>\n",
       "<table border=\"1\" class=\"dataframe\">\n",
       "  <thead>\n",
       "    <tr style=\"text-align: right;\">\n",
       "      <th></th>\n",
       "      <th>reward</th>\n",
       "      <th>difficulty</th>\n",
       "      <th>duration</th>\n",
       "      <th>offer_type</th>\n",
       "      <th>offer_id</th>\n",
       "      <th>email</th>\n",
       "      <th>mobile</th>\n",
       "      <th>social</th>\n",
       "      <th>web</th>\n",
       "    </tr>\n",
       "  </thead>\n",
       "  <tbody>\n",
       "    <tr>\n",
       "      <th>0</th>\n",
       "      <td>10</td>\n",
       "      <td>10</td>\n",
       "      <td>7</td>\n",
       "      <td>bogo</td>\n",
       "      <td>ae264e3637204a6fb9bb56bc8210ddfd</td>\n",
       "      <td>1.0</td>\n",
       "      <td>1.0</td>\n",
       "      <td>1.0</td>\n",
       "      <td>0.0</td>\n",
       "    </tr>\n",
       "    <tr>\n",
       "      <th>1</th>\n",
       "      <td>10</td>\n",
       "      <td>10</td>\n",
       "      <td>5</td>\n",
       "      <td>bogo</td>\n",
       "      <td>4d5c57ea9a6940dd891ad53e9dbe8da0</td>\n",
       "      <td>1.0</td>\n",
       "      <td>1.0</td>\n",
       "      <td>1.0</td>\n",
       "      <td>1.0</td>\n",
       "    </tr>\n",
       "    <tr>\n",
       "      <th>2</th>\n",
       "      <td>0</td>\n",
       "      <td>0</td>\n",
       "      <td>4</td>\n",
       "      <td>informational</td>\n",
       "      <td>3f207df678b143eea3cee63160fa8bed</td>\n",
       "      <td>1.0</td>\n",
       "      <td>1.0</td>\n",
       "      <td>0.0</td>\n",
       "      <td>1.0</td>\n",
       "    </tr>\n",
       "    <tr>\n",
       "      <th>3</th>\n",
       "      <td>5</td>\n",
       "      <td>5</td>\n",
       "      <td>7</td>\n",
       "      <td>bogo</td>\n",
       "      <td>9b98b8c7a33c4b65b9aebfe6a799e6d9</td>\n",
       "      <td>1.0</td>\n",
       "      <td>1.0</td>\n",
       "      <td>0.0</td>\n",
       "      <td>1.0</td>\n",
       "    </tr>\n",
       "    <tr>\n",
       "      <th>4</th>\n",
       "      <td>5</td>\n",
       "      <td>20</td>\n",
       "      <td>10</td>\n",
       "      <td>discount</td>\n",
       "      <td>0b1e1539f2cc45b7b9fa7c272da2e1d7</td>\n",
       "      <td>1.0</td>\n",
       "      <td>0.0</td>\n",
       "      <td>0.0</td>\n",
       "      <td>1.0</td>\n",
       "    </tr>\n",
       "    <tr>\n",
       "      <th>5</th>\n",
       "      <td>3</td>\n",
       "      <td>7</td>\n",
       "      <td>7</td>\n",
       "      <td>discount</td>\n",
       "      <td>2298d6c36e964ae4a3e7e9706d1fb8c2</td>\n",
       "      <td>1.0</td>\n",
       "      <td>1.0</td>\n",
       "      <td>1.0</td>\n",
       "      <td>1.0</td>\n",
       "    </tr>\n",
       "    <tr>\n",
       "      <th>6</th>\n",
       "      <td>2</td>\n",
       "      <td>10</td>\n",
       "      <td>10</td>\n",
       "      <td>discount</td>\n",
       "      <td>fafdcd668e3743c1bb461111dcafc2a4</td>\n",
       "      <td>1.0</td>\n",
       "      <td>1.0</td>\n",
       "      <td>1.0</td>\n",
       "      <td>1.0</td>\n",
       "    </tr>\n",
       "    <tr>\n",
       "      <th>7</th>\n",
       "      <td>0</td>\n",
       "      <td>0</td>\n",
       "      <td>3</td>\n",
       "      <td>informational</td>\n",
       "      <td>5a8bc65990b245e5a138643cd4eb9837</td>\n",
       "      <td>1.0</td>\n",
       "      <td>1.0</td>\n",
       "      <td>1.0</td>\n",
       "      <td>0.0</td>\n",
       "    </tr>\n",
       "    <tr>\n",
       "      <th>8</th>\n",
       "      <td>5</td>\n",
       "      <td>5</td>\n",
       "      <td>5</td>\n",
       "      <td>bogo</td>\n",
       "      <td>f19421c1d4aa40978ebb69ca19b0e20d</td>\n",
       "      <td>1.0</td>\n",
       "      <td>1.0</td>\n",
       "      <td>1.0</td>\n",
       "      <td>1.0</td>\n",
       "    </tr>\n",
       "    <tr>\n",
       "      <th>9</th>\n",
       "      <td>2</td>\n",
       "      <td>10</td>\n",
       "      <td>7</td>\n",
       "      <td>discount</td>\n",
       "      <td>2906b810c7d4411798c6938adc9daaa5</td>\n",
       "      <td>1.0</td>\n",
       "      <td>1.0</td>\n",
       "      <td>0.0</td>\n",
       "      <td>1.0</td>\n",
       "    </tr>\n",
       "  </tbody>\n",
       "</table>\n",
       "</div>"
      ],
      "text/plain": [
       "   reward  difficulty  duration     offer_type  \\\n",
       "0      10          10         7           bogo   \n",
       "1      10          10         5           bogo   \n",
       "2       0           0         4  informational   \n",
       "3       5           5         7           bogo   \n",
       "4       5          20        10       discount   \n",
       "5       3           7         7       discount   \n",
       "6       2          10        10       discount   \n",
       "7       0           0         3  informational   \n",
       "8       5           5         5           bogo   \n",
       "9       2          10         7       discount   \n",
       "\n",
       "                           offer_id  email  mobile  social  web  \n",
       "0  ae264e3637204a6fb9bb56bc8210ddfd    1.0     1.0     1.0  0.0  \n",
       "1  4d5c57ea9a6940dd891ad53e9dbe8da0    1.0     1.0     1.0  1.0  \n",
       "2  3f207df678b143eea3cee63160fa8bed    1.0     1.0     0.0  1.0  \n",
       "3  9b98b8c7a33c4b65b9aebfe6a799e6d9    1.0     1.0     0.0  1.0  \n",
       "4  0b1e1539f2cc45b7b9fa7c272da2e1d7    1.0     0.0     0.0  1.0  \n",
       "5  2298d6c36e964ae4a3e7e9706d1fb8c2    1.0     1.0     1.0  1.0  \n",
       "6  fafdcd668e3743c1bb461111dcafc2a4    1.0     1.0     1.0  1.0  \n",
       "7  5a8bc65990b245e5a138643cd4eb9837    1.0     1.0     1.0  0.0  \n",
       "8  f19421c1d4aa40978ebb69ca19b0e20d    1.0     1.0     1.0  1.0  \n",
       "9  2906b810c7d4411798c6938adc9daaa5    1.0     1.0     0.0  1.0  "
      ]
     },
     "execution_count": 16,
     "metadata": {},
     "output_type": "execute_result"
    }
   ],
   "source": [
    "\n",
    "# Make a copy of the original dataframe for further processing.\n",
    "df_portfolio = portfolio.copy()\n",
    "\n",
    "# Split the 'channels' column into separate columns for each channel type.\n",
    "channels_expanded = df_portfolio['channels'].apply(lambda x: pd.Series(1, index=x)).fillna(0)\n",
    "\n",
    "# Merge the expanded channels with the original dataframe.\n",
    "df_portfolio = df_portfolio.join(channels_expanded)\n",
    "\n",
    "# Drop the original 'channels' column.\n",
    "df_portfolio.drop(columns='channels', inplace=True)\n",
    "\n",
    "# Rename the 'id' column to 'offer_id'.\n",
    "df_portfolio.rename(columns={'id': 'offer_id'}, inplace=True)\n",
    "\n",
    "df_portfolio\n"
   ]
  },
  {
   "cell_type": "markdown",
   "metadata": {},
   "source": [
    "### 2. Profile Data\n",
    "**Dataset Overview:**\n",
    "\n",
    "- **File:** `profile.json`\n",
    "- **Fields:**\n",
    "  - **age (int):** The age of the customer.\n",
    "  - **became_member_on (int):** The date when the customer registered for an app account.\n",
    "  - **gender (str):** The gender of the customer, where some entries include 'O' for other, in addition to 'M' (Male) and 'F' (Female).\n",
    "  - **id (str):** Unique identifier for each customer.\n",
    "  - **income (float):** The income level of the customer.\n"
   ]
  },
  {
   "cell_type": "code",
   "execution_count": 17,
   "metadata": {},
   "outputs": [
    {
     "data": {
      "text/html": [
       "<div>\n",
       "<style scoped>\n",
       "    .dataframe tbody tr th:only-of-type {\n",
       "        vertical-align: middle;\n",
       "    }\n",
       "\n",
       "    .dataframe tbody tr th {\n",
       "        vertical-align: top;\n",
       "    }\n",
       "\n",
       "    .dataframe thead th {\n",
       "        text-align: right;\n",
       "    }\n",
       "</style>\n",
       "<table border=\"1\" class=\"dataframe\">\n",
       "  <thead>\n",
       "    <tr style=\"text-align: right;\">\n",
       "      <th></th>\n",
       "      <th>gender</th>\n",
       "      <th>age</th>\n",
       "      <th>id</th>\n",
       "      <th>became_member_on</th>\n",
       "      <th>income</th>\n",
       "    </tr>\n",
       "  </thead>\n",
       "  <tbody>\n",
       "    <tr>\n",
       "      <th>0</th>\n",
       "      <td>None</td>\n",
       "      <td>118</td>\n",
       "      <td>68be06ca386d4c31939f3a4f0e3dd783</td>\n",
       "      <td>20170212</td>\n",
       "      <td>NaN</td>\n",
       "    </tr>\n",
       "    <tr>\n",
       "      <th>1</th>\n",
       "      <td>F</td>\n",
       "      <td>55</td>\n",
       "      <td>0610b486422d4921ae7d2bf64640c50b</td>\n",
       "      <td>20170715</td>\n",
       "      <td>112000.0</td>\n",
       "    </tr>\n",
       "    <tr>\n",
       "      <th>2</th>\n",
       "      <td>None</td>\n",
       "      <td>118</td>\n",
       "      <td>38fe809add3b4fcf9315a9694bb96ff5</td>\n",
       "      <td>20180712</td>\n",
       "      <td>NaN</td>\n",
       "    </tr>\n",
       "    <tr>\n",
       "      <th>3</th>\n",
       "      <td>F</td>\n",
       "      <td>75</td>\n",
       "      <td>78afa995795e4d85b5d9ceeca43f5fef</td>\n",
       "      <td>20170509</td>\n",
       "      <td>100000.0</td>\n",
       "    </tr>\n",
       "    <tr>\n",
       "      <th>4</th>\n",
       "      <td>None</td>\n",
       "      <td>118</td>\n",
       "      <td>a03223e636434f42ac4c3df47e8bac43</td>\n",
       "      <td>20170804</td>\n",
       "      <td>NaN</td>\n",
       "    </tr>\n",
       "  </tbody>\n",
       "</table>\n",
       "</div>"
      ],
      "text/plain": [
       "  gender  age                                id  became_member_on    income\n",
       "0   None  118  68be06ca386d4c31939f3a4f0e3dd783          20170212       NaN\n",
       "1      F   55  0610b486422d4921ae7d2bf64640c50b          20170715  112000.0\n",
       "2   None  118  38fe809add3b4fcf9315a9694bb96ff5          20180712       NaN\n",
       "3      F   75  78afa995795e4d85b5d9ceeca43f5fef          20170509  100000.0\n",
       "4   None  118  a03223e636434f42ac4c3df47e8bac43          20170804       NaN"
      ]
     },
     "execution_count": 17,
     "metadata": {},
     "output_type": "execute_result"
    }
   ],
   "source": [
    "profile.head()"
   ]
  },
  {
   "cell_type": "code",
   "execution_count": 18,
   "metadata": {},
   "outputs": [
    {
     "data": {
      "text/plain": [
       "(17000, 5)"
      ]
     },
     "execution_count": 18,
     "metadata": {},
     "output_type": "execute_result"
    }
   ],
   "source": [
    "profile.shape   "
   ]
  },
  {
   "cell_type": "code",
   "execution_count": 19,
   "metadata": {},
   "outputs": [
    {
     "name": "stdout",
     "output_type": "stream",
     "text": [
      "<class 'pandas.core.frame.DataFrame'>\n",
      "RangeIndex: 17000 entries, 0 to 16999\n",
      "Data columns (total 5 columns):\n",
      " #   Column            Non-Null Count  Dtype  \n",
      "---  ------            --------------  -----  \n",
      " 0   gender            14825 non-null  object \n",
      " 1   age               17000 non-null  int64  \n",
      " 2   id                17000 non-null  object \n",
      " 3   became_member_on  17000 non-null  int64  \n",
      " 4   income            14825 non-null  float64\n",
      "dtypes: float64(1), int64(2), object(2)\n",
      "memory usage: 664.2+ KB\n"
     ]
    }
   ],
   "source": [
    "profile.info()"
   ]
  },
  {
   "cell_type": "code",
   "execution_count": 20,
   "metadata": {},
   "outputs": [
    {
     "data": {
      "text/html": [
       "<div>\n",
       "<style scoped>\n",
       "    .dataframe tbody tr th:only-of-type {\n",
       "        vertical-align: middle;\n",
       "    }\n",
       "\n",
       "    .dataframe tbody tr th {\n",
       "        vertical-align: top;\n",
       "    }\n",
       "\n",
       "    .dataframe thead th {\n",
       "        text-align: right;\n",
       "    }\n",
       "</style>\n",
       "<table border=\"1\" class=\"dataframe\">\n",
       "  <thead>\n",
       "    <tr style=\"text-align: right;\">\n",
       "      <th></th>\n",
       "      <th>age</th>\n",
       "      <th>became_member_on</th>\n",
       "      <th>income</th>\n",
       "    </tr>\n",
       "  </thead>\n",
       "  <tbody>\n",
       "    <tr>\n",
       "      <th>count</th>\n",
       "      <td>17000.000000</td>\n",
       "      <td>1.700000e+04</td>\n",
       "      <td>14825.000000</td>\n",
       "    </tr>\n",
       "    <tr>\n",
       "      <th>mean</th>\n",
       "      <td>62.531412</td>\n",
       "      <td>2.016703e+07</td>\n",
       "      <td>65404.991568</td>\n",
       "    </tr>\n",
       "    <tr>\n",
       "      <th>std</th>\n",
       "      <td>26.738580</td>\n",
       "      <td>1.167750e+04</td>\n",
       "      <td>21598.299410</td>\n",
       "    </tr>\n",
       "    <tr>\n",
       "      <th>min</th>\n",
       "      <td>18.000000</td>\n",
       "      <td>2.013073e+07</td>\n",
       "      <td>30000.000000</td>\n",
       "    </tr>\n",
       "    <tr>\n",
       "      <th>25%</th>\n",
       "      <td>45.000000</td>\n",
       "      <td>2.016053e+07</td>\n",
       "      <td>49000.000000</td>\n",
       "    </tr>\n",
       "    <tr>\n",
       "      <th>50%</th>\n",
       "      <td>58.000000</td>\n",
       "      <td>2.017080e+07</td>\n",
       "      <td>64000.000000</td>\n",
       "    </tr>\n",
       "    <tr>\n",
       "      <th>75%</th>\n",
       "      <td>73.000000</td>\n",
       "      <td>2.017123e+07</td>\n",
       "      <td>80000.000000</td>\n",
       "    </tr>\n",
       "    <tr>\n",
       "      <th>max</th>\n",
       "      <td>118.000000</td>\n",
       "      <td>2.018073e+07</td>\n",
       "      <td>120000.000000</td>\n",
       "    </tr>\n",
       "  </tbody>\n",
       "</table>\n",
       "</div>"
      ],
      "text/plain": [
       "                age  became_member_on         income\n",
       "count  17000.000000      1.700000e+04   14825.000000\n",
       "mean      62.531412      2.016703e+07   65404.991568\n",
       "std       26.738580      1.167750e+04   21598.299410\n",
       "min       18.000000      2.013073e+07   30000.000000\n",
       "25%       45.000000      2.016053e+07   49000.000000\n",
       "50%       58.000000      2.017080e+07   64000.000000\n",
       "75%       73.000000      2.017123e+07   80000.000000\n",
       "max      118.000000      2.018073e+07  120000.000000"
      ]
     },
     "execution_count": 20,
     "metadata": {},
     "output_type": "execute_result"
    }
   ],
   "source": [
    "profile.describe()"
   ]
  },
  {
   "cell_type": "code",
   "execution_count": 21,
   "metadata": {},
   "outputs": [
    {
     "data": {
      "text/plain": [
       "0"
      ]
     },
     "execution_count": 21,
     "metadata": {},
     "output_type": "execute_result"
    }
   ],
   "source": [
    "profile.duplicated().sum()"
   ]
  },
  {
   "cell_type": "markdown",
   "metadata": {},
   "source": [
    "### Data Cleaning - Profile"
   ]
  },
  {
   "cell_type": "code",
   "execution_count": 22,
   "metadata": {},
   "outputs": [
    {
     "data": {
      "text/html": [
       "<div>\n",
       "<style scoped>\n",
       "    .dataframe tbody tr th:only-of-type {\n",
       "        vertical-align: middle;\n",
       "    }\n",
       "\n",
       "    .dataframe tbody tr th {\n",
       "        vertical-align: top;\n",
       "    }\n",
       "\n",
       "    .dataframe thead th {\n",
       "        text-align: right;\n",
       "    }\n",
       "</style>\n",
       "<table border=\"1\" class=\"dataframe\">\n",
       "  <thead>\n",
       "    <tr style=\"text-align: right;\">\n",
       "      <th></th>\n",
       "      <th>gender</th>\n",
       "      <th>age</th>\n",
       "      <th>customer_id</th>\n",
       "      <th>became_member_on</th>\n",
       "      <th>income</th>\n",
       "    </tr>\n",
       "  </thead>\n",
       "  <tbody>\n",
       "    <tr>\n",
       "      <th>0</th>\n",
       "      <td>None</td>\n",
       "      <td>118</td>\n",
       "      <td>68be06ca386d4c31939f3a4f0e3dd783</td>\n",
       "      <td>2017-02-12</td>\n",
       "      <td>NaN</td>\n",
       "    </tr>\n",
       "    <tr>\n",
       "      <th>1</th>\n",
       "      <td>F</td>\n",
       "      <td>55</td>\n",
       "      <td>0610b486422d4921ae7d2bf64640c50b</td>\n",
       "      <td>2017-07-15</td>\n",
       "      <td>112000.0</td>\n",
       "    </tr>\n",
       "    <tr>\n",
       "      <th>2</th>\n",
       "      <td>None</td>\n",
       "      <td>118</td>\n",
       "      <td>38fe809add3b4fcf9315a9694bb96ff5</td>\n",
       "      <td>2018-07-12</td>\n",
       "      <td>NaN</td>\n",
       "    </tr>\n",
       "    <tr>\n",
       "      <th>3</th>\n",
       "      <td>F</td>\n",
       "      <td>75</td>\n",
       "      <td>78afa995795e4d85b5d9ceeca43f5fef</td>\n",
       "      <td>2017-05-09</td>\n",
       "      <td>100000.0</td>\n",
       "    </tr>\n",
       "    <tr>\n",
       "      <th>4</th>\n",
       "      <td>None</td>\n",
       "      <td>118</td>\n",
       "      <td>a03223e636434f42ac4c3df47e8bac43</td>\n",
       "      <td>2017-08-04</td>\n",
       "      <td>NaN</td>\n",
       "    </tr>\n",
       "    <tr>\n",
       "      <th>5</th>\n",
       "      <td>M</td>\n",
       "      <td>68</td>\n",
       "      <td>e2127556f4f64592b11af22de27a7932</td>\n",
       "      <td>2018-04-26</td>\n",
       "      <td>70000.0</td>\n",
       "    </tr>\n",
       "    <tr>\n",
       "      <th>6</th>\n",
       "      <td>None</td>\n",
       "      <td>118</td>\n",
       "      <td>8ec6ce2a7e7949b1bf142def7d0e0586</td>\n",
       "      <td>2017-09-25</td>\n",
       "      <td>NaN</td>\n",
       "    </tr>\n",
       "    <tr>\n",
       "      <th>7</th>\n",
       "      <td>None</td>\n",
       "      <td>118</td>\n",
       "      <td>68617ca6246f4fbc85e91a2a49552598</td>\n",
       "      <td>2017-10-02</td>\n",
       "      <td>NaN</td>\n",
       "    </tr>\n",
       "    <tr>\n",
       "      <th>8</th>\n",
       "      <td>M</td>\n",
       "      <td>65</td>\n",
       "      <td>389bc3fa690240e798340f5a15918d5c</td>\n",
       "      <td>2018-02-09</td>\n",
       "      <td>53000.0</td>\n",
       "    </tr>\n",
       "    <tr>\n",
       "      <th>9</th>\n",
       "      <td>None</td>\n",
       "      <td>118</td>\n",
       "      <td>8974fc5686fe429db53ddde067b88302</td>\n",
       "      <td>2016-11-22</td>\n",
       "      <td>NaN</td>\n",
       "    </tr>\n",
       "  </tbody>\n",
       "</table>\n",
       "</div>"
      ],
      "text/plain": [
       "  gender  age                       customer_id became_member_on    income\n",
       "0   None  118  68be06ca386d4c31939f3a4f0e3dd783       2017-02-12       NaN\n",
       "1      F   55  0610b486422d4921ae7d2bf64640c50b       2017-07-15  112000.0\n",
       "2   None  118  38fe809add3b4fcf9315a9694bb96ff5       2018-07-12       NaN\n",
       "3      F   75  78afa995795e4d85b5d9ceeca43f5fef       2017-05-09  100000.0\n",
       "4   None  118  a03223e636434f42ac4c3df47e8bac43       2017-08-04       NaN\n",
       "5      M   68  e2127556f4f64592b11af22de27a7932       2018-04-26   70000.0\n",
       "6   None  118  8ec6ce2a7e7949b1bf142def7d0e0586       2017-09-25       NaN\n",
       "7   None  118  68617ca6246f4fbc85e91a2a49552598       2017-10-02       NaN\n",
       "8      M   65  389bc3fa690240e798340f5a15918d5c       2018-02-09   53000.0\n",
       "9   None  118  8974fc5686fe429db53ddde067b88302       2016-11-22       NaN"
      ]
     },
     "execution_count": 22,
     "metadata": {},
     "output_type": "execute_result"
    }
   ],
   "source": [
    "# Data Cleaning\n",
    "# Create a copy of the original profile dataframe for further processing.\n",
    "df_profile = profile.copy()\n",
    "\n",
    "# Convert the 'became_member_on' column to a datetime format.\n",
    "df_profile['became_member_on'] = pd.to_datetime(df_profile['became_member_on'], format='%Y%m%d')\n",
    "\n",
    "# Rename the 'id' column to 'customer_id'.\n",
    "df_profile.rename(columns={'id': 'customer_id'}, inplace=True)\n",
    "\n",
    "# Display the first 10 rows of the cleaned dataframe.\n",
    "df_profile.head(10)\n"
   ]
  },
  {
   "cell_type": "markdown",
   "metadata": {},
   "source": [
    "### 3. Transcript Data\n",
    "**Dataset Overview:**\n",
    "\n",
    "- **File:** `transcript.json`\n",
    "- **Fields:**\n",
    "  - **event (str):** Description of the recorded activity (e.g., transaction, offer received, offer viewed, etc.).\n",
    "  - **person (str):** Unique identifier for the customer.\n",
    "  - **time (int):** Time in hours since the start of the experiment, beginning at t=0.\n",
    "  - **value (dict of strings):** Contains either an offer id or a transaction amount, depending on the type of record.\n"
   ]
  },
  {
   "cell_type": "code",
   "execution_count": 23,
   "metadata": {},
   "outputs": [
    {
     "data": {
      "text/html": [
       "<div>\n",
       "<style scoped>\n",
       "    .dataframe tbody tr th:only-of-type {\n",
       "        vertical-align: middle;\n",
       "    }\n",
       "\n",
       "    .dataframe tbody tr th {\n",
       "        vertical-align: top;\n",
       "    }\n",
       "\n",
       "    .dataframe thead th {\n",
       "        text-align: right;\n",
       "    }\n",
       "</style>\n",
       "<table border=\"1\" class=\"dataframe\">\n",
       "  <thead>\n",
       "    <tr style=\"text-align: right;\">\n",
       "      <th></th>\n",
       "      <th>person</th>\n",
       "      <th>event</th>\n",
       "      <th>value</th>\n",
       "      <th>time</th>\n",
       "    </tr>\n",
       "  </thead>\n",
       "  <tbody>\n",
       "    <tr>\n",
       "      <th>0</th>\n",
       "      <td>78afa995795e4d85b5d9ceeca43f5fef</td>\n",
       "      <td>offer received</td>\n",
       "      <td>{'offer id': '9b98b8c7a33c4b65b9aebfe6a799e6d9'}</td>\n",
       "      <td>0</td>\n",
       "    </tr>\n",
       "    <tr>\n",
       "      <th>1</th>\n",
       "      <td>a03223e636434f42ac4c3df47e8bac43</td>\n",
       "      <td>offer received</td>\n",
       "      <td>{'offer id': '0b1e1539f2cc45b7b9fa7c272da2e1d7'}</td>\n",
       "      <td>0</td>\n",
       "    </tr>\n",
       "    <tr>\n",
       "      <th>2</th>\n",
       "      <td>e2127556f4f64592b11af22de27a7932</td>\n",
       "      <td>offer received</td>\n",
       "      <td>{'offer id': '2906b810c7d4411798c6938adc9daaa5'}</td>\n",
       "      <td>0</td>\n",
       "    </tr>\n",
       "    <tr>\n",
       "      <th>3</th>\n",
       "      <td>8ec6ce2a7e7949b1bf142def7d0e0586</td>\n",
       "      <td>offer received</td>\n",
       "      <td>{'offer id': 'fafdcd668e3743c1bb461111dcafc2a4'}</td>\n",
       "      <td>0</td>\n",
       "    </tr>\n",
       "    <tr>\n",
       "      <th>4</th>\n",
       "      <td>68617ca6246f4fbc85e91a2a49552598</td>\n",
       "      <td>offer received</td>\n",
       "      <td>{'offer id': '4d5c57ea9a6940dd891ad53e9dbe8da0'}</td>\n",
       "      <td>0</td>\n",
       "    </tr>\n",
       "  </tbody>\n",
       "</table>\n",
       "</div>"
      ],
      "text/plain": [
       "                             person           event  \\\n",
       "0  78afa995795e4d85b5d9ceeca43f5fef  offer received   \n",
       "1  a03223e636434f42ac4c3df47e8bac43  offer received   \n",
       "2  e2127556f4f64592b11af22de27a7932  offer received   \n",
       "3  8ec6ce2a7e7949b1bf142def7d0e0586  offer received   \n",
       "4  68617ca6246f4fbc85e91a2a49552598  offer received   \n",
       "\n",
       "                                              value  time  \n",
       "0  {'offer id': '9b98b8c7a33c4b65b9aebfe6a799e6d9'}     0  \n",
       "1  {'offer id': '0b1e1539f2cc45b7b9fa7c272da2e1d7'}     0  \n",
       "2  {'offer id': '2906b810c7d4411798c6938adc9daaa5'}     0  \n",
       "3  {'offer id': 'fafdcd668e3743c1bb461111dcafc2a4'}     0  \n",
       "4  {'offer id': '4d5c57ea9a6940dd891ad53e9dbe8da0'}     0  "
      ]
     },
     "execution_count": 23,
     "metadata": {},
     "output_type": "execute_result"
    }
   ],
   "source": [
    "transcript.head()"
   ]
  },
  {
   "cell_type": "code",
   "execution_count": 24,
   "metadata": {},
   "outputs": [
    {
     "data": {
      "text/plain": [
       "(306534, 4)"
      ]
     },
     "execution_count": 24,
     "metadata": {},
     "output_type": "execute_result"
    }
   ],
   "source": [
    "transcript.shape"
   ]
  },
  {
   "cell_type": "code",
   "execution_count": 25,
   "metadata": {},
   "outputs": [
    {
     "name": "stdout",
     "output_type": "stream",
     "text": [
      "<class 'pandas.core.frame.DataFrame'>\n",
      "RangeIndex: 306534 entries, 0 to 306533\n",
      "Data columns (total 4 columns):\n",
      " #   Column  Non-Null Count   Dtype \n",
      "---  ------  --------------   ----- \n",
      " 0   person  306534 non-null  object\n",
      " 1   event   306534 non-null  object\n",
      " 2   value   306534 non-null  object\n",
      " 3   time    306534 non-null  int64 \n",
      "dtypes: int64(1), object(3)\n",
      "memory usage: 9.4+ MB\n"
     ]
    }
   ],
   "source": [
    "transcript.info()"
   ]
  },
  {
   "cell_type": "code",
   "execution_count": 26,
   "metadata": {},
   "outputs": [
    {
     "data": {
      "text/html": [
       "<div>\n",
       "<style scoped>\n",
       "    .dataframe tbody tr th:only-of-type {\n",
       "        vertical-align: middle;\n",
       "    }\n",
       "\n",
       "    .dataframe tbody tr th {\n",
       "        vertical-align: top;\n",
       "    }\n",
       "\n",
       "    .dataframe thead th {\n",
       "        text-align: right;\n",
       "    }\n",
       "</style>\n",
       "<table border=\"1\" class=\"dataframe\">\n",
       "  <thead>\n",
       "    <tr style=\"text-align: right;\">\n",
       "      <th></th>\n",
       "      <th>time</th>\n",
       "    </tr>\n",
       "  </thead>\n",
       "  <tbody>\n",
       "    <tr>\n",
       "      <th>count</th>\n",
       "      <td>306534.000000</td>\n",
       "    </tr>\n",
       "    <tr>\n",
       "      <th>mean</th>\n",
       "      <td>366.382940</td>\n",
       "    </tr>\n",
       "    <tr>\n",
       "      <th>std</th>\n",
       "      <td>200.326314</td>\n",
       "    </tr>\n",
       "    <tr>\n",
       "      <th>min</th>\n",
       "      <td>0.000000</td>\n",
       "    </tr>\n",
       "    <tr>\n",
       "      <th>25%</th>\n",
       "      <td>186.000000</td>\n",
       "    </tr>\n",
       "    <tr>\n",
       "      <th>50%</th>\n",
       "      <td>408.000000</td>\n",
       "    </tr>\n",
       "    <tr>\n",
       "      <th>75%</th>\n",
       "      <td>528.000000</td>\n",
       "    </tr>\n",
       "    <tr>\n",
       "      <th>max</th>\n",
       "      <td>714.000000</td>\n",
       "    </tr>\n",
       "  </tbody>\n",
       "</table>\n",
       "</div>"
      ],
      "text/plain": [
       "                time\n",
       "count  306534.000000\n",
       "mean      366.382940\n",
       "std       200.326314\n",
       "min         0.000000\n",
       "25%       186.000000\n",
       "50%       408.000000\n",
       "75%       528.000000\n",
       "max       714.000000"
      ]
     },
     "execution_count": 26,
     "metadata": {},
     "output_type": "execute_result"
    }
   ],
   "source": [
    "transcript.describe()"
   ]
  },
  {
   "cell_type": "code",
   "execution_count": 27,
   "metadata": {},
   "outputs": [
    {
     "data": {
      "text/plain": [
       "0         {'offer id': '9b98b8c7a33c4b65b9aebfe6a799e6d9'}\n",
       "1         {'offer id': '0b1e1539f2cc45b7b9fa7c272da2e1d7'}\n",
       "2         {'offer id': '2906b810c7d4411798c6938adc9daaa5'}\n",
       "3         {'offer id': 'fafdcd668e3743c1bb461111dcafc2a4'}\n",
       "4         {'offer id': '4d5c57ea9a6940dd891ad53e9dbe8da0'}\n",
       "                                ...                       \n",
       "306529                      {'amount': 1.5899999999999999}\n",
       "306530                                    {'amount': 9.53}\n",
       "306531                                    {'amount': 3.61}\n",
       "306532                      {'amount': 3.5300000000000002}\n",
       "306533                                    {'amount': 4.05}\n",
       "Name: value, Length: 306534, dtype: object"
      ]
     },
     "execution_count": 27,
     "metadata": {},
     "output_type": "execute_result"
    }
   ],
   "source": [
    "transcript['value']"
   ]
  },
  {
   "cell_type": "code",
   "execution_count": 28,
   "metadata": {},
   "outputs": [
    {
     "data": {
      "text/plain": [
       "array(['offer received', 'offer viewed', 'transaction', 'offer completed'],\n",
       "      dtype=object)"
      ]
     },
     "execution_count": 28,
     "metadata": {},
     "output_type": "execute_result"
    }
   ],
   "source": [
    "transcript['event'].unique()"
   ]
  },
  {
   "cell_type": "code",
   "execution_count": 29,
   "metadata": {},
   "outputs": [
    {
     "data": {
      "text/plain": [
       "event\n",
       "transaction        138953\n",
       "offer received      76277\n",
       "offer viewed        57725\n",
       "offer completed     33579\n",
       "Name: count, dtype: int64"
      ]
     },
     "execution_count": 29,
     "metadata": {},
     "output_type": "execute_result"
    }
   ],
   "source": [
    "transcript['event'].value_counts()\n"
   ]
  },
  {
   "cell_type": "markdown",
   "metadata": {},
   "source": [
    "### Data Cleaning - Transcript"
   ]
  },
  {
   "cell_type": "code",
   "execution_count": 30,
   "metadata": {},
   "outputs": [
    {
     "name": "stdout",
     "output_type": "stream",
     "text": [
      "event\n",
      "transaction        138953\n",
      "offer-received      76277\n",
      "offer-viewed        57725\n",
      "offer-completed     33579\n",
      "Name: count, dtype: int64\n"
     ]
    },
    {
     "data": {
      "text/html": [
       "<div>\n",
       "<style scoped>\n",
       "    .dataframe tbody tr th:only-of-type {\n",
       "        vertical-align: middle;\n",
       "    }\n",
       "\n",
       "    .dataframe tbody tr th {\n",
       "        vertical-align: top;\n",
       "    }\n",
       "\n",
       "    .dataframe thead th {\n",
       "        text-align: right;\n",
       "    }\n",
       "</style>\n",
       "<table border=\"1\" class=\"dataframe\">\n",
       "  <thead>\n",
       "    <tr style=\"text-align: right;\">\n",
       "      <th></th>\n",
       "      <th>customer_id</th>\n",
       "      <th>event</th>\n",
       "      <th>value</th>\n",
       "      <th>time</th>\n",
       "      <th>offer-completed</th>\n",
       "      <th>offer-received</th>\n",
       "      <th>offer-viewed</th>\n",
       "      <th>transaction</th>\n",
       "    </tr>\n",
       "  </thead>\n",
       "  <tbody>\n",
       "    <tr>\n",
       "      <th>0</th>\n",
       "      <td>78afa995795e4d85b5d9ceeca43f5fef</td>\n",
       "      <td>offer-received</td>\n",
       "      <td>{'offer id': '9b98b8c7a33c4b65b9aebfe6a799e6d9'}</td>\n",
       "      <td>0</td>\n",
       "      <td>False</td>\n",
       "      <td>True</td>\n",
       "      <td>False</td>\n",
       "      <td>False</td>\n",
       "    </tr>\n",
       "    <tr>\n",
       "      <th>1</th>\n",
       "      <td>a03223e636434f42ac4c3df47e8bac43</td>\n",
       "      <td>offer-received</td>\n",
       "      <td>{'offer id': '0b1e1539f2cc45b7b9fa7c272da2e1d7'}</td>\n",
       "      <td>0</td>\n",
       "      <td>False</td>\n",
       "      <td>True</td>\n",
       "      <td>False</td>\n",
       "      <td>False</td>\n",
       "    </tr>\n",
       "    <tr>\n",
       "      <th>2</th>\n",
       "      <td>e2127556f4f64592b11af22de27a7932</td>\n",
       "      <td>offer-received</td>\n",
       "      <td>{'offer id': '2906b810c7d4411798c6938adc9daaa5'}</td>\n",
       "      <td>0</td>\n",
       "      <td>False</td>\n",
       "      <td>True</td>\n",
       "      <td>False</td>\n",
       "      <td>False</td>\n",
       "    </tr>\n",
       "    <tr>\n",
       "      <th>3</th>\n",
       "      <td>8ec6ce2a7e7949b1bf142def7d0e0586</td>\n",
       "      <td>offer-received</td>\n",
       "      <td>{'offer id': 'fafdcd668e3743c1bb461111dcafc2a4'}</td>\n",
       "      <td>0</td>\n",
       "      <td>False</td>\n",
       "      <td>True</td>\n",
       "      <td>False</td>\n",
       "      <td>False</td>\n",
       "    </tr>\n",
       "    <tr>\n",
       "      <th>4</th>\n",
       "      <td>68617ca6246f4fbc85e91a2a49552598</td>\n",
       "      <td>offer-received</td>\n",
       "      <td>{'offer id': '4d5c57ea9a6940dd891ad53e9dbe8da0'}</td>\n",
       "      <td>0</td>\n",
       "      <td>False</td>\n",
       "      <td>True</td>\n",
       "      <td>False</td>\n",
       "      <td>False</td>\n",
       "    </tr>\n",
       "  </tbody>\n",
       "</table>\n",
       "</div>"
      ],
      "text/plain": [
       "                        customer_id           event  \\\n",
       "0  78afa995795e4d85b5d9ceeca43f5fef  offer-received   \n",
       "1  a03223e636434f42ac4c3df47e8bac43  offer-received   \n",
       "2  e2127556f4f64592b11af22de27a7932  offer-received   \n",
       "3  8ec6ce2a7e7949b1bf142def7d0e0586  offer-received   \n",
       "4  68617ca6246f4fbc85e91a2a49552598  offer-received   \n",
       "\n",
       "                                              value  time  offer-completed  \\\n",
       "0  {'offer id': '9b98b8c7a33c4b65b9aebfe6a799e6d9'}     0            False   \n",
       "1  {'offer id': '0b1e1539f2cc45b7b9fa7c272da2e1d7'}     0            False   \n",
       "2  {'offer id': '2906b810c7d4411798c6938adc9daaa5'}     0            False   \n",
       "3  {'offer id': 'fafdcd668e3743c1bb461111dcafc2a4'}     0            False   \n",
       "4  {'offer id': '4d5c57ea9a6940dd891ad53e9dbe8da0'}     0            False   \n",
       "\n",
       "   offer-received  offer-viewed  transaction  \n",
       "0            True         False        False  \n",
       "1            True         False        False  \n",
       "2            True         False        False  \n",
       "3            True         False        False  \n",
       "4            True         False        False  "
      ]
     },
     "execution_count": 30,
     "metadata": {},
     "output_type": "execute_result"
    }
   ],
   "source": [
    "# Data Cleaning\n",
    "# Create a copy of the original transcript dataframe for further manipulation.\n",
    "df_transcript = transcript.copy()\n",
    "\n",
    "# Rename the 'person' column to 'customer_id'.\n",
    "df_transcript.rename(columns={'person': 'customer_id'}, inplace=True)\n",
    "\n",
    "# Replace spaces in the 'event' column with hyphens.\n",
    "df_transcript['event'] = df_transcript['event'].str.replace(' ', '-')\n",
    "\n",
    "# Display the count of each unique event type.\n",
    "event_counts = df_transcript['event'].value_counts()\n",
    "print(event_counts)\n",
    "\n",
    "# Create dummy variables for the 'event' column.\n",
    "event_dummies = pd.get_dummies(df_transcript['event'])\n",
    "\n",
    "# Concatenate the dummy variables to the original dataframe.\n",
    "df_transcript = pd.concat([df_transcript, event_dummies], axis=1)\n",
    "\n",
    "# Display the first few rows of the modified dataframe.\n",
    "df_transcript.head()\n"
   ]
  },
  {
   "cell_type": "code",
   "execution_count": 31,
   "metadata": {},
   "outputs": [
    {
     "data": {
      "text/html": [
       "<div>\n",
       "<style scoped>\n",
       "    .dataframe tbody tr th:only-of-type {\n",
       "        vertical-align: middle;\n",
       "    }\n",
       "\n",
       "    .dataframe tbody tr th {\n",
       "        vertical-align: top;\n",
       "    }\n",
       "\n",
       "    .dataframe thead th {\n",
       "        text-align: right;\n",
       "    }\n",
       "</style>\n",
       "<table border=\"1\" class=\"dataframe\">\n",
       "  <thead>\n",
       "    <tr style=\"text-align: right;\">\n",
       "      <th></th>\n",
       "      <th>customer_id</th>\n",
       "      <th>event</th>\n",
       "      <th>time</th>\n",
       "      <th>offer-completed</th>\n",
       "      <th>offer-received</th>\n",
       "      <th>offer-viewed</th>\n",
       "      <th>transaction</th>\n",
       "      <th>offer_id</th>\n",
       "      <th>amount</th>\n",
       "    </tr>\n",
       "  </thead>\n",
       "  <tbody>\n",
       "    <tr>\n",
       "      <th>0</th>\n",
       "      <td>78afa995795e4d85b5d9ceeca43f5fef</td>\n",
       "      <td>offer-received</td>\n",
       "      <td>0</td>\n",
       "      <td>False</td>\n",
       "      <td>True</td>\n",
       "      <td>False</td>\n",
       "      <td>False</td>\n",
       "      <td>9b98b8c7a33c4b65b9aebfe6a799e6d9</td>\n",
       "      <td>NaN</td>\n",
       "    </tr>\n",
       "    <tr>\n",
       "      <th>1</th>\n",
       "      <td>a03223e636434f42ac4c3df47e8bac43</td>\n",
       "      <td>offer-received</td>\n",
       "      <td>0</td>\n",
       "      <td>False</td>\n",
       "      <td>True</td>\n",
       "      <td>False</td>\n",
       "      <td>False</td>\n",
       "      <td>0b1e1539f2cc45b7b9fa7c272da2e1d7</td>\n",
       "      <td>NaN</td>\n",
       "    </tr>\n",
       "    <tr>\n",
       "      <th>2</th>\n",
       "      <td>e2127556f4f64592b11af22de27a7932</td>\n",
       "      <td>offer-received</td>\n",
       "      <td>0</td>\n",
       "      <td>False</td>\n",
       "      <td>True</td>\n",
       "      <td>False</td>\n",
       "      <td>False</td>\n",
       "      <td>2906b810c7d4411798c6938adc9daaa5</td>\n",
       "      <td>NaN</td>\n",
       "    </tr>\n",
       "    <tr>\n",
       "      <th>3</th>\n",
       "      <td>8ec6ce2a7e7949b1bf142def7d0e0586</td>\n",
       "      <td>offer-received</td>\n",
       "      <td>0</td>\n",
       "      <td>False</td>\n",
       "      <td>True</td>\n",
       "      <td>False</td>\n",
       "      <td>False</td>\n",
       "      <td>fafdcd668e3743c1bb461111dcafc2a4</td>\n",
       "      <td>NaN</td>\n",
       "    </tr>\n",
       "    <tr>\n",
       "      <th>4</th>\n",
       "      <td>68617ca6246f4fbc85e91a2a49552598</td>\n",
       "      <td>offer-received</td>\n",
       "      <td>0</td>\n",
       "      <td>False</td>\n",
       "      <td>True</td>\n",
       "      <td>False</td>\n",
       "      <td>False</td>\n",
       "      <td>4d5c57ea9a6940dd891ad53e9dbe8da0</td>\n",
       "      <td>NaN</td>\n",
       "    </tr>\n",
       "  </tbody>\n",
       "</table>\n",
       "</div>"
      ],
      "text/plain": [
       "                        customer_id           event  time  offer-completed  \\\n",
       "0  78afa995795e4d85b5d9ceeca43f5fef  offer-received     0            False   \n",
       "1  a03223e636434f42ac4c3df47e8bac43  offer-received     0            False   \n",
       "2  e2127556f4f64592b11af22de27a7932  offer-received     0            False   \n",
       "3  8ec6ce2a7e7949b1bf142def7d0e0586  offer-received     0            False   \n",
       "4  68617ca6246f4fbc85e91a2a49552598  offer-received     0            False   \n",
       "\n",
       "   offer-received  offer-viewed  transaction  \\\n",
       "0            True         False        False   \n",
       "1            True         False        False   \n",
       "2            True         False        False   \n",
       "3            True         False        False   \n",
       "4            True         False        False   \n",
       "\n",
       "                           offer_id  amount  \n",
       "0  9b98b8c7a33c4b65b9aebfe6a799e6d9     NaN  \n",
       "1  0b1e1539f2cc45b7b9fa7c272da2e1d7     NaN  \n",
       "2  2906b810c7d4411798c6938adc9daaa5     NaN  \n",
       "3  fafdcd668e3743c1bb461111dcafc2a4     NaN  \n",
       "4  4d5c57ea9a6940dd891ad53e9dbe8da0     NaN  "
      ]
     },
     "execution_count": 31,
     "metadata": {},
     "output_type": "execute_result"
    }
   ],
   "source": [
    "df_transcript['offer_id'] = [[*i.values()][0]if [*i.keys()][0] in ['offer id','offer_id'] else None for i in df_transcript.value]\n",
    "df_transcript['amount'] = [np.round([*i.values()][0], decimals=2)if [*i.keys()][0] == 'amount' else None for i in df_transcript.value]\n",
    "df_transcript = df_transcript.drop(columns='value')\n",
    "df_transcript.head()"
   ]
  },
  {
   "cell_type": "markdown",
   "metadata": {},
   "source": [
    "### Data Manipulation"
   ]
  },
  {
   "cell_type": "code",
   "execution_count": 33,
   "metadata": {},
   "outputs": [
    {
     "data": {
      "text/html": [
       "<div>\n",
       "<style scoped>\n",
       "    .dataframe tbody tr th:only-of-type {\n",
       "        vertical-align: middle;\n",
       "    }\n",
       "\n",
       "    .dataframe tbody tr th {\n",
       "        vertical-align: top;\n",
       "    }\n",
       "\n",
       "    .dataframe thead th {\n",
       "        text-align: right;\n",
       "    }\n",
       "</style>\n",
       "<table border=\"1\" class=\"dataframe\">\n",
       "  <thead>\n",
       "    <tr style=\"text-align: right;\">\n",
       "      <th></th>\n",
       "      <th>customer_id</th>\n",
       "      <th>event</th>\n",
       "      <th>time</th>\n",
       "      <th>offer-completed</th>\n",
       "      <th>offer-received</th>\n",
       "      <th>offer-viewed</th>\n",
       "      <th>transaction</th>\n",
       "      <th>offer_id</th>\n",
       "      <th>amount</th>\n",
       "      <th>gender</th>\n",
       "      <th>age</th>\n",
       "      <th>became_member_on</th>\n",
       "      <th>income</th>\n",
       "    </tr>\n",
       "  </thead>\n",
       "  <tbody>\n",
       "    <tr>\n",
       "      <th>0</th>\n",
       "      <td>78afa995795e4d85b5d9ceeca43f5fef</td>\n",
       "      <td>offer-received</td>\n",
       "      <td>0</td>\n",
       "      <td>False</td>\n",
       "      <td>True</td>\n",
       "      <td>False</td>\n",
       "      <td>False</td>\n",
       "      <td>9b98b8c7a33c4b65b9aebfe6a799e6d9</td>\n",
       "      <td>NaN</td>\n",
       "      <td>F</td>\n",
       "      <td>75</td>\n",
       "      <td>2017-05-09</td>\n",
       "      <td>100000.0</td>\n",
       "    </tr>\n",
       "    <tr>\n",
       "      <th>1</th>\n",
       "      <td>a03223e636434f42ac4c3df47e8bac43</td>\n",
       "      <td>offer-received</td>\n",
       "      <td>0</td>\n",
       "      <td>False</td>\n",
       "      <td>True</td>\n",
       "      <td>False</td>\n",
       "      <td>False</td>\n",
       "      <td>0b1e1539f2cc45b7b9fa7c272da2e1d7</td>\n",
       "      <td>NaN</td>\n",
       "      <td>None</td>\n",
       "      <td>118</td>\n",
       "      <td>2017-08-04</td>\n",
       "      <td>NaN</td>\n",
       "    </tr>\n",
       "    <tr>\n",
       "      <th>2</th>\n",
       "      <td>e2127556f4f64592b11af22de27a7932</td>\n",
       "      <td>offer-received</td>\n",
       "      <td>0</td>\n",
       "      <td>False</td>\n",
       "      <td>True</td>\n",
       "      <td>False</td>\n",
       "      <td>False</td>\n",
       "      <td>2906b810c7d4411798c6938adc9daaa5</td>\n",
       "      <td>NaN</td>\n",
       "      <td>M</td>\n",
       "      <td>68</td>\n",
       "      <td>2018-04-26</td>\n",
       "      <td>70000.0</td>\n",
       "    </tr>\n",
       "    <tr>\n",
       "      <th>3</th>\n",
       "      <td>8ec6ce2a7e7949b1bf142def7d0e0586</td>\n",
       "      <td>offer-received</td>\n",
       "      <td>0</td>\n",
       "      <td>False</td>\n",
       "      <td>True</td>\n",
       "      <td>False</td>\n",
       "      <td>False</td>\n",
       "      <td>fafdcd668e3743c1bb461111dcafc2a4</td>\n",
       "      <td>NaN</td>\n",
       "      <td>None</td>\n",
       "      <td>118</td>\n",
       "      <td>2017-09-25</td>\n",
       "      <td>NaN</td>\n",
       "    </tr>\n",
       "    <tr>\n",
       "      <th>4</th>\n",
       "      <td>68617ca6246f4fbc85e91a2a49552598</td>\n",
       "      <td>offer-received</td>\n",
       "      <td>0</td>\n",
       "      <td>False</td>\n",
       "      <td>True</td>\n",
       "      <td>False</td>\n",
       "      <td>False</td>\n",
       "      <td>4d5c57ea9a6940dd891ad53e9dbe8da0</td>\n",
       "      <td>NaN</td>\n",
       "      <td>None</td>\n",
       "      <td>118</td>\n",
       "      <td>2017-10-02</td>\n",
       "      <td>NaN</td>\n",
       "    </tr>\n",
       "    <tr>\n",
       "      <th>...</th>\n",
       "      <td>...</td>\n",
       "      <td>...</td>\n",
       "      <td>...</td>\n",
       "      <td>...</td>\n",
       "      <td>...</td>\n",
       "      <td>...</td>\n",
       "      <td>...</td>\n",
       "      <td>...</td>\n",
       "      <td>...</td>\n",
       "      <td>...</td>\n",
       "      <td>...</td>\n",
       "      <td>...</td>\n",
       "      <td>...</td>\n",
       "    </tr>\n",
       "    <tr>\n",
       "      <th>306529</th>\n",
       "      <td>b3a1272bc9904337b331bf348c3e8c17</td>\n",
       "      <td>transaction</td>\n",
       "      <td>714</td>\n",
       "      <td>False</td>\n",
       "      <td>False</td>\n",
       "      <td>False</td>\n",
       "      <td>True</td>\n",
       "      <td>None</td>\n",
       "      <td>1.59</td>\n",
       "      <td>M</td>\n",
       "      <td>66</td>\n",
       "      <td>2018-01-01</td>\n",
       "      <td>47000.0</td>\n",
       "    </tr>\n",
       "    <tr>\n",
       "      <th>306530</th>\n",
       "      <td>68213b08d99a4ae1b0dcb72aebd9aa35</td>\n",
       "      <td>transaction</td>\n",
       "      <td>714</td>\n",
       "      <td>False</td>\n",
       "      <td>False</td>\n",
       "      <td>False</td>\n",
       "      <td>True</td>\n",
       "      <td>None</td>\n",
       "      <td>9.53</td>\n",
       "      <td>M</td>\n",
       "      <td>52</td>\n",
       "      <td>2018-04-08</td>\n",
       "      <td>62000.0</td>\n",
       "    </tr>\n",
       "    <tr>\n",
       "      <th>306531</th>\n",
       "      <td>a00058cf10334a308c68e7631c529907</td>\n",
       "      <td>transaction</td>\n",
       "      <td>714</td>\n",
       "      <td>False</td>\n",
       "      <td>False</td>\n",
       "      <td>False</td>\n",
       "      <td>True</td>\n",
       "      <td>None</td>\n",
       "      <td>3.61</td>\n",
       "      <td>F</td>\n",
       "      <td>63</td>\n",
       "      <td>2013-09-22</td>\n",
       "      <td>52000.0</td>\n",
       "    </tr>\n",
       "    <tr>\n",
       "      <th>306532</th>\n",
       "      <td>76ddbd6576844afe811f1a3c0fbb5bec</td>\n",
       "      <td>transaction</td>\n",
       "      <td>714</td>\n",
       "      <td>False</td>\n",
       "      <td>False</td>\n",
       "      <td>False</td>\n",
       "      <td>True</td>\n",
       "      <td>None</td>\n",
       "      <td>3.53</td>\n",
       "      <td>M</td>\n",
       "      <td>57</td>\n",
       "      <td>2016-07-09</td>\n",
       "      <td>40000.0</td>\n",
       "    </tr>\n",
       "    <tr>\n",
       "      <th>306533</th>\n",
       "      <td>c02b10e8752c4d8e9b73f918558531f7</td>\n",
       "      <td>transaction</td>\n",
       "      <td>714</td>\n",
       "      <td>False</td>\n",
       "      <td>False</td>\n",
       "      <td>False</td>\n",
       "      <td>True</td>\n",
       "      <td>None</td>\n",
       "      <td>4.05</td>\n",
       "      <td>None</td>\n",
       "      <td>118</td>\n",
       "      <td>2015-12-11</td>\n",
       "      <td>NaN</td>\n",
       "    </tr>\n",
       "  </tbody>\n",
       "</table>\n",
       "<p>306534 rows × 13 columns</p>\n",
       "</div>"
      ],
      "text/plain": [
       "                             customer_id           event  time  \\\n",
       "0       78afa995795e4d85b5d9ceeca43f5fef  offer-received     0   \n",
       "1       a03223e636434f42ac4c3df47e8bac43  offer-received     0   \n",
       "2       e2127556f4f64592b11af22de27a7932  offer-received     0   \n",
       "3       8ec6ce2a7e7949b1bf142def7d0e0586  offer-received     0   \n",
       "4       68617ca6246f4fbc85e91a2a49552598  offer-received     0   \n",
       "...                                  ...             ...   ...   \n",
       "306529  b3a1272bc9904337b331bf348c3e8c17     transaction   714   \n",
       "306530  68213b08d99a4ae1b0dcb72aebd9aa35     transaction   714   \n",
       "306531  a00058cf10334a308c68e7631c529907     transaction   714   \n",
       "306532  76ddbd6576844afe811f1a3c0fbb5bec     transaction   714   \n",
       "306533  c02b10e8752c4d8e9b73f918558531f7     transaction   714   \n",
       "\n",
       "        offer-completed  offer-received  offer-viewed  transaction  \\\n",
       "0                 False            True         False        False   \n",
       "1                 False            True         False        False   \n",
       "2                 False            True         False        False   \n",
       "3                 False            True         False        False   \n",
       "4                 False            True         False        False   \n",
       "...                 ...             ...           ...          ...   \n",
       "306529            False           False         False         True   \n",
       "306530            False           False         False         True   \n",
       "306531            False           False         False         True   \n",
       "306532            False           False         False         True   \n",
       "306533            False           False         False         True   \n",
       "\n",
       "                                offer_id  amount gender  age became_member_on  \\\n",
       "0       9b98b8c7a33c4b65b9aebfe6a799e6d9     NaN      F   75       2017-05-09   \n",
       "1       0b1e1539f2cc45b7b9fa7c272da2e1d7     NaN   None  118       2017-08-04   \n",
       "2       2906b810c7d4411798c6938adc9daaa5     NaN      M   68       2018-04-26   \n",
       "3       fafdcd668e3743c1bb461111dcafc2a4     NaN   None  118       2017-09-25   \n",
       "4       4d5c57ea9a6940dd891ad53e9dbe8da0     NaN   None  118       2017-10-02   \n",
       "...                                  ...     ...    ...  ...              ...   \n",
       "306529                              None    1.59      M   66       2018-01-01   \n",
       "306530                              None    9.53      M   52       2018-04-08   \n",
       "306531                              None    3.61      F   63       2013-09-22   \n",
       "306532                              None    3.53      M   57       2016-07-09   \n",
       "306533                              None    4.05   None  118       2015-12-11   \n",
       "\n",
       "          income  \n",
       "0       100000.0  \n",
       "1            NaN  \n",
       "2        70000.0  \n",
       "3            NaN  \n",
       "4            NaN  \n",
       "...          ...  \n",
       "306529   47000.0  \n",
       "306530   62000.0  \n",
       "306531   52000.0  \n",
       "306532   40000.0  \n",
       "306533       NaN  \n",
       "\n",
       "[306534 rows x 13 columns]"
      ]
     },
     "execution_count": 33,
     "metadata": {},
     "output_type": "execute_result"
    }
   ],
   "source": [
    "df_merge_transcript_profile = pd.merge(df_transcript, df_profile, on='customer_id')\n",
    "df_merge_transcript_profile"
   ]
  },
  {
   "cell_type": "code",
   "execution_count": 35,
   "metadata": {},
   "outputs": [
    {
     "data": {
      "text/html": [
       "<div>\n",
       "<style scoped>\n",
       "    .dataframe tbody tr th:only-of-type {\n",
       "        vertical-align: middle;\n",
       "    }\n",
       "\n",
       "    .dataframe tbody tr th {\n",
       "        vertical-align: top;\n",
       "    }\n",
       "\n",
       "    .dataframe thead th {\n",
       "        text-align: right;\n",
       "    }\n",
       "</style>\n",
       "<table border=\"1\" class=\"dataframe\">\n",
       "  <thead>\n",
       "    <tr style=\"text-align: right;\">\n",
       "      <th></th>\n",
       "      <th>customer_id</th>\n",
       "      <th>event</th>\n",
       "      <th>time</th>\n",
       "      <th>offer-completed</th>\n",
       "      <th>offer-received</th>\n",
       "      <th>offer-viewed</th>\n",
       "      <th>transaction</th>\n",
       "      <th>offer_id</th>\n",
       "      <th>amount</th>\n",
       "      <th>gender</th>\n",
       "      <th>...</th>\n",
       "      <th>became_member_on</th>\n",
       "      <th>income</th>\n",
       "      <th>reward</th>\n",
       "      <th>difficulty</th>\n",
       "      <th>duration</th>\n",
       "      <th>offer_type</th>\n",
       "      <th>email</th>\n",
       "      <th>mobile</th>\n",
       "      <th>social</th>\n",
       "      <th>web</th>\n",
       "    </tr>\n",
       "  </thead>\n",
       "  <tbody>\n",
       "    <tr>\n",
       "      <th>0</th>\n",
       "      <td>78afa995795e4d85b5d9ceeca43f5fef</td>\n",
       "      <td>offer-received</td>\n",
       "      <td>0</td>\n",
       "      <td>False</td>\n",
       "      <td>True</td>\n",
       "      <td>False</td>\n",
       "      <td>False</td>\n",
       "      <td>9b98b8c7a33c4b65b9aebfe6a799e6d9</td>\n",
       "      <td>NaN</td>\n",
       "      <td>F</td>\n",
       "      <td>...</td>\n",
       "      <td>2017-05-09</td>\n",
       "      <td>100000.0</td>\n",
       "      <td>5.0</td>\n",
       "      <td>5.0</td>\n",
       "      <td>7.0</td>\n",
       "      <td>bogo</td>\n",
       "      <td>1.0</td>\n",
       "      <td>1.0</td>\n",
       "      <td>0.0</td>\n",
       "      <td>1.0</td>\n",
       "    </tr>\n",
       "    <tr>\n",
       "      <th>1</th>\n",
       "      <td>a03223e636434f42ac4c3df47e8bac43</td>\n",
       "      <td>offer-received</td>\n",
       "      <td>0</td>\n",
       "      <td>False</td>\n",
       "      <td>True</td>\n",
       "      <td>False</td>\n",
       "      <td>False</td>\n",
       "      <td>0b1e1539f2cc45b7b9fa7c272da2e1d7</td>\n",
       "      <td>NaN</td>\n",
       "      <td>None</td>\n",
       "      <td>...</td>\n",
       "      <td>2017-08-04</td>\n",
       "      <td>NaN</td>\n",
       "      <td>5.0</td>\n",
       "      <td>20.0</td>\n",
       "      <td>10.0</td>\n",
       "      <td>discount</td>\n",
       "      <td>1.0</td>\n",
       "      <td>0.0</td>\n",
       "      <td>0.0</td>\n",
       "      <td>1.0</td>\n",
       "    </tr>\n",
       "    <tr>\n",
       "      <th>2</th>\n",
       "      <td>e2127556f4f64592b11af22de27a7932</td>\n",
       "      <td>offer-received</td>\n",
       "      <td>0</td>\n",
       "      <td>False</td>\n",
       "      <td>True</td>\n",
       "      <td>False</td>\n",
       "      <td>False</td>\n",
       "      <td>2906b810c7d4411798c6938adc9daaa5</td>\n",
       "      <td>NaN</td>\n",
       "      <td>M</td>\n",
       "      <td>...</td>\n",
       "      <td>2018-04-26</td>\n",
       "      <td>70000.0</td>\n",
       "      <td>2.0</td>\n",
       "      <td>10.0</td>\n",
       "      <td>7.0</td>\n",
       "      <td>discount</td>\n",
       "      <td>1.0</td>\n",
       "      <td>1.0</td>\n",
       "      <td>0.0</td>\n",
       "      <td>1.0</td>\n",
       "    </tr>\n",
       "    <tr>\n",
       "      <th>3</th>\n",
       "      <td>8ec6ce2a7e7949b1bf142def7d0e0586</td>\n",
       "      <td>offer-received</td>\n",
       "      <td>0</td>\n",
       "      <td>False</td>\n",
       "      <td>True</td>\n",
       "      <td>False</td>\n",
       "      <td>False</td>\n",
       "      <td>fafdcd668e3743c1bb461111dcafc2a4</td>\n",
       "      <td>NaN</td>\n",
       "      <td>None</td>\n",
       "      <td>...</td>\n",
       "      <td>2017-09-25</td>\n",
       "      <td>NaN</td>\n",
       "      <td>2.0</td>\n",
       "      <td>10.0</td>\n",
       "      <td>10.0</td>\n",
       "      <td>discount</td>\n",
       "      <td>1.0</td>\n",
       "      <td>1.0</td>\n",
       "      <td>1.0</td>\n",
       "      <td>1.0</td>\n",
       "    </tr>\n",
       "    <tr>\n",
       "      <th>4</th>\n",
       "      <td>68617ca6246f4fbc85e91a2a49552598</td>\n",
       "      <td>offer-received</td>\n",
       "      <td>0</td>\n",
       "      <td>False</td>\n",
       "      <td>True</td>\n",
       "      <td>False</td>\n",
       "      <td>False</td>\n",
       "      <td>4d5c57ea9a6940dd891ad53e9dbe8da0</td>\n",
       "      <td>NaN</td>\n",
       "      <td>None</td>\n",
       "      <td>...</td>\n",
       "      <td>2017-10-02</td>\n",
       "      <td>NaN</td>\n",
       "      <td>10.0</td>\n",
       "      <td>10.0</td>\n",
       "      <td>5.0</td>\n",
       "      <td>bogo</td>\n",
       "      <td>1.0</td>\n",
       "      <td>1.0</td>\n",
       "      <td>1.0</td>\n",
       "      <td>1.0</td>\n",
       "    </tr>\n",
       "    <tr>\n",
       "      <th>...</th>\n",
       "      <td>...</td>\n",
       "      <td>...</td>\n",
       "      <td>...</td>\n",
       "      <td>...</td>\n",
       "      <td>...</td>\n",
       "      <td>...</td>\n",
       "      <td>...</td>\n",
       "      <td>...</td>\n",
       "      <td>...</td>\n",
       "      <td>...</td>\n",
       "      <td>...</td>\n",
       "      <td>...</td>\n",
       "      <td>...</td>\n",
       "      <td>...</td>\n",
       "      <td>...</td>\n",
       "      <td>...</td>\n",
       "      <td>...</td>\n",
       "      <td>...</td>\n",
       "      <td>...</td>\n",
       "      <td>...</td>\n",
       "      <td>...</td>\n",
       "    </tr>\n",
       "    <tr>\n",
       "      <th>306529</th>\n",
       "      <td>b3a1272bc9904337b331bf348c3e8c17</td>\n",
       "      <td>transaction</td>\n",
       "      <td>714</td>\n",
       "      <td>False</td>\n",
       "      <td>False</td>\n",
       "      <td>False</td>\n",
       "      <td>True</td>\n",
       "      <td>None</td>\n",
       "      <td>1.59</td>\n",
       "      <td>M</td>\n",
       "      <td>...</td>\n",
       "      <td>2018-01-01</td>\n",
       "      <td>47000.0</td>\n",
       "      <td>NaN</td>\n",
       "      <td>NaN</td>\n",
       "      <td>NaN</td>\n",
       "      <td>NaN</td>\n",
       "      <td>NaN</td>\n",
       "      <td>NaN</td>\n",
       "      <td>NaN</td>\n",
       "      <td>NaN</td>\n",
       "    </tr>\n",
       "    <tr>\n",
       "      <th>306530</th>\n",
       "      <td>68213b08d99a4ae1b0dcb72aebd9aa35</td>\n",
       "      <td>transaction</td>\n",
       "      <td>714</td>\n",
       "      <td>False</td>\n",
       "      <td>False</td>\n",
       "      <td>False</td>\n",
       "      <td>True</td>\n",
       "      <td>None</td>\n",
       "      <td>9.53</td>\n",
       "      <td>M</td>\n",
       "      <td>...</td>\n",
       "      <td>2018-04-08</td>\n",
       "      <td>62000.0</td>\n",
       "      <td>NaN</td>\n",
       "      <td>NaN</td>\n",
       "      <td>NaN</td>\n",
       "      <td>NaN</td>\n",
       "      <td>NaN</td>\n",
       "      <td>NaN</td>\n",
       "      <td>NaN</td>\n",
       "      <td>NaN</td>\n",
       "    </tr>\n",
       "    <tr>\n",
       "      <th>306531</th>\n",
       "      <td>a00058cf10334a308c68e7631c529907</td>\n",
       "      <td>transaction</td>\n",
       "      <td>714</td>\n",
       "      <td>False</td>\n",
       "      <td>False</td>\n",
       "      <td>False</td>\n",
       "      <td>True</td>\n",
       "      <td>None</td>\n",
       "      <td>3.61</td>\n",
       "      <td>F</td>\n",
       "      <td>...</td>\n",
       "      <td>2013-09-22</td>\n",
       "      <td>52000.0</td>\n",
       "      <td>NaN</td>\n",
       "      <td>NaN</td>\n",
       "      <td>NaN</td>\n",
       "      <td>NaN</td>\n",
       "      <td>NaN</td>\n",
       "      <td>NaN</td>\n",
       "      <td>NaN</td>\n",
       "      <td>NaN</td>\n",
       "    </tr>\n",
       "    <tr>\n",
       "      <th>306532</th>\n",
       "      <td>76ddbd6576844afe811f1a3c0fbb5bec</td>\n",
       "      <td>transaction</td>\n",
       "      <td>714</td>\n",
       "      <td>False</td>\n",
       "      <td>False</td>\n",
       "      <td>False</td>\n",
       "      <td>True</td>\n",
       "      <td>None</td>\n",
       "      <td>3.53</td>\n",
       "      <td>M</td>\n",
       "      <td>...</td>\n",
       "      <td>2016-07-09</td>\n",
       "      <td>40000.0</td>\n",
       "      <td>NaN</td>\n",
       "      <td>NaN</td>\n",
       "      <td>NaN</td>\n",
       "      <td>NaN</td>\n",
       "      <td>NaN</td>\n",
       "      <td>NaN</td>\n",
       "      <td>NaN</td>\n",
       "      <td>NaN</td>\n",
       "    </tr>\n",
       "    <tr>\n",
       "      <th>306533</th>\n",
       "      <td>c02b10e8752c4d8e9b73f918558531f7</td>\n",
       "      <td>transaction</td>\n",
       "      <td>714</td>\n",
       "      <td>False</td>\n",
       "      <td>False</td>\n",
       "      <td>False</td>\n",
       "      <td>True</td>\n",
       "      <td>None</td>\n",
       "      <td>4.05</td>\n",
       "      <td>None</td>\n",
       "      <td>...</td>\n",
       "      <td>2015-12-11</td>\n",
       "      <td>NaN</td>\n",
       "      <td>NaN</td>\n",
       "      <td>NaN</td>\n",
       "      <td>NaN</td>\n",
       "      <td>NaN</td>\n",
       "      <td>NaN</td>\n",
       "      <td>NaN</td>\n",
       "      <td>NaN</td>\n",
       "      <td>NaN</td>\n",
       "    </tr>\n",
       "  </tbody>\n",
       "</table>\n",
       "<p>306534 rows × 21 columns</p>\n",
       "</div>"
      ],
      "text/plain": [
       "                             customer_id           event  time  \\\n",
       "0       78afa995795e4d85b5d9ceeca43f5fef  offer-received     0   \n",
       "1       a03223e636434f42ac4c3df47e8bac43  offer-received     0   \n",
       "2       e2127556f4f64592b11af22de27a7932  offer-received     0   \n",
       "3       8ec6ce2a7e7949b1bf142def7d0e0586  offer-received     0   \n",
       "4       68617ca6246f4fbc85e91a2a49552598  offer-received     0   \n",
       "...                                  ...             ...   ...   \n",
       "306529  b3a1272bc9904337b331bf348c3e8c17     transaction   714   \n",
       "306530  68213b08d99a4ae1b0dcb72aebd9aa35     transaction   714   \n",
       "306531  a00058cf10334a308c68e7631c529907     transaction   714   \n",
       "306532  76ddbd6576844afe811f1a3c0fbb5bec     transaction   714   \n",
       "306533  c02b10e8752c4d8e9b73f918558531f7     transaction   714   \n",
       "\n",
       "        offer-completed  offer-received  offer-viewed  transaction  \\\n",
       "0                 False            True         False        False   \n",
       "1                 False            True         False        False   \n",
       "2                 False            True         False        False   \n",
       "3                 False            True         False        False   \n",
       "4                 False            True         False        False   \n",
       "...                 ...             ...           ...          ...   \n",
       "306529            False           False         False         True   \n",
       "306530            False           False         False         True   \n",
       "306531            False           False         False         True   \n",
       "306532            False           False         False         True   \n",
       "306533            False           False         False         True   \n",
       "\n",
       "                                offer_id  amount gender  ...  \\\n",
       "0       9b98b8c7a33c4b65b9aebfe6a799e6d9     NaN      F  ...   \n",
       "1       0b1e1539f2cc45b7b9fa7c272da2e1d7     NaN   None  ...   \n",
       "2       2906b810c7d4411798c6938adc9daaa5     NaN      M  ...   \n",
       "3       fafdcd668e3743c1bb461111dcafc2a4     NaN   None  ...   \n",
       "4       4d5c57ea9a6940dd891ad53e9dbe8da0     NaN   None  ...   \n",
       "...                                  ...     ...    ...  ...   \n",
       "306529                              None    1.59      M  ...   \n",
       "306530                              None    9.53      M  ...   \n",
       "306531                              None    3.61      F  ...   \n",
       "306532                              None    3.53      M  ...   \n",
       "306533                              None    4.05   None  ...   \n",
       "\n",
       "        became_member_on    income  reward  difficulty  duration  offer_type  \\\n",
       "0             2017-05-09  100000.0     5.0         5.0       7.0        bogo   \n",
       "1             2017-08-04       NaN     5.0        20.0      10.0    discount   \n",
       "2             2018-04-26   70000.0     2.0        10.0       7.0    discount   \n",
       "3             2017-09-25       NaN     2.0        10.0      10.0    discount   \n",
       "4             2017-10-02       NaN    10.0        10.0       5.0        bogo   \n",
       "...                  ...       ...     ...         ...       ...         ...   \n",
       "306529        2018-01-01   47000.0     NaN         NaN       NaN         NaN   \n",
       "306530        2018-04-08   62000.0     NaN         NaN       NaN         NaN   \n",
       "306531        2013-09-22   52000.0     NaN         NaN       NaN         NaN   \n",
       "306532        2016-07-09   40000.0     NaN         NaN       NaN         NaN   \n",
       "306533        2015-12-11       NaN     NaN         NaN       NaN         NaN   \n",
       "\n",
       "       email  mobile  social  web  \n",
       "0        1.0     1.0     0.0  1.0  \n",
       "1        1.0     0.0     0.0  1.0  \n",
       "2        1.0     1.0     0.0  1.0  \n",
       "3        1.0     1.0     1.0  1.0  \n",
       "4        1.0     1.0     1.0  1.0  \n",
       "...      ...     ...     ...  ...  \n",
       "306529   NaN     NaN     NaN  NaN  \n",
       "306530   NaN     NaN     NaN  NaN  \n",
       "306531   NaN     NaN     NaN  NaN  \n",
       "306532   NaN     NaN     NaN  NaN  \n",
       "306533   NaN     NaN     NaN  NaN  \n",
       "\n",
       "[306534 rows x 21 columns]"
      ]
     },
     "execution_count": 35,
     "metadata": {},
     "output_type": "execute_result"
    }
   ],
   "source": [
    "df_all = pd.merge(df_merge_transcript_profile, df_portfolio, on='offer_id', how='left')\n",
    "df_all"
   ]
  },
  {
   "cell_type": "code",
   "execution_count": 36,
   "metadata": {},
   "outputs": [
    {
     "name": "stderr",
     "output_type": "stream",
     "text": [
      "C:\\Users\\feyza.cotuk\\AppData\\Local\\Temp\\ipykernel_592\\328840962.py:14: FutureWarning: A value is trying to be set on a copy of a DataFrame or Series through chained assignment using an inplace method.\n",
      "The behavior will change in pandas 3.0. This inplace method will never work because the intermediate object on which we are setting values always behaves as a copy.\n",
      "\n",
      "For example, when doing 'df[col].method(value, inplace=True)', try using 'df.method({col: value}, inplace=True)' or df[col] = df[col].method(value) instead, to perform the operation inplace on the original object.\n",
      "\n",
      "\n",
      "  df_all['offer_id'].replace(offer_dict[None], np.nan, inplace=True)\n"
     ]
    },
    {
     "data": {
      "text/html": [
       "<div>\n",
       "<style scoped>\n",
       "    .dataframe tbody tr th:only-of-type {\n",
       "        vertical-align: middle;\n",
       "    }\n",
       "\n",
       "    .dataframe tbody tr th {\n",
       "        vertical-align: top;\n",
       "    }\n",
       "\n",
       "    .dataframe thead th {\n",
       "        text-align: right;\n",
       "    }\n",
       "</style>\n",
       "<table border=\"1\" class=\"dataframe\">\n",
       "  <thead>\n",
       "    <tr style=\"text-align: right;\">\n",
       "      <th></th>\n",
       "      <th>customer_id</th>\n",
       "      <th>event</th>\n",
       "      <th>time</th>\n",
       "      <th>offer-completed</th>\n",
       "      <th>offer-received</th>\n",
       "      <th>offer-viewed</th>\n",
       "      <th>transaction</th>\n",
       "      <th>offer_id</th>\n",
       "      <th>amount</th>\n",
       "      <th>gender</th>\n",
       "      <th>...</th>\n",
       "      <th>became_member_on</th>\n",
       "      <th>income</th>\n",
       "      <th>reward</th>\n",
       "      <th>difficulty</th>\n",
       "      <th>duration</th>\n",
       "      <th>offer_type</th>\n",
       "      <th>email</th>\n",
       "      <th>mobile</th>\n",
       "      <th>social</th>\n",
       "      <th>web</th>\n",
       "    </tr>\n",
       "  </thead>\n",
       "  <tbody>\n",
       "    <tr>\n",
       "      <th>0</th>\n",
       "      <td>78afa995795e4d85b5d9ceeca43f5fef</td>\n",
       "      <td>offer-received</td>\n",
       "      <td>0</td>\n",
       "      <td>False</td>\n",
       "      <td>True</td>\n",
       "      <td>False</td>\n",
       "      <td>False</td>\n",
       "      <td>0.0</td>\n",
       "      <td>NaN</td>\n",
       "      <td>F</td>\n",
       "      <td>...</td>\n",
       "      <td>2017-05-09</td>\n",
       "      <td>100000.0</td>\n",
       "      <td>5.0</td>\n",
       "      <td>5.0</td>\n",
       "      <td>7.0</td>\n",
       "      <td>bogo</td>\n",
       "      <td>1.0</td>\n",
       "      <td>1.0</td>\n",
       "      <td>0.0</td>\n",
       "      <td>1.0</td>\n",
       "    </tr>\n",
       "    <tr>\n",
       "      <th>1</th>\n",
       "      <td>a03223e636434f42ac4c3df47e8bac43</td>\n",
       "      <td>offer-received</td>\n",
       "      <td>0</td>\n",
       "      <td>False</td>\n",
       "      <td>True</td>\n",
       "      <td>False</td>\n",
       "      <td>False</td>\n",
       "      <td>1.0</td>\n",
       "      <td>NaN</td>\n",
       "      <td>None</td>\n",
       "      <td>...</td>\n",
       "      <td>2017-08-04</td>\n",
       "      <td>NaN</td>\n",
       "      <td>5.0</td>\n",
       "      <td>20.0</td>\n",
       "      <td>10.0</td>\n",
       "      <td>discount</td>\n",
       "      <td>1.0</td>\n",
       "      <td>0.0</td>\n",
       "      <td>0.0</td>\n",
       "      <td>1.0</td>\n",
       "    </tr>\n",
       "    <tr>\n",
       "      <th>2</th>\n",
       "      <td>e2127556f4f64592b11af22de27a7932</td>\n",
       "      <td>offer-received</td>\n",
       "      <td>0</td>\n",
       "      <td>False</td>\n",
       "      <td>True</td>\n",
       "      <td>False</td>\n",
       "      <td>False</td>\n",
       "      <td>2.0</td>\n",
       "      <td>NaN</td>\n",
       "      <td>M</td>\n",
       "      <td>...</td>\n",
       "      <td>2018-04-26</td>\n",
       "      <td>70000.0</td>\n",
       "      <td>2.0</td>\n",
       "      <td>10.0</td>\n",
       "      <td>7.0</td>\n",
       "      <td>discount</td>\n",
       "      <td>1.0</td>\n",
       "      <td>1.0</td>\n",
       "      <td>0.0</td>\n",
       "      <td>1.0</td>\n",
       "    </tr>\n",
       "    <tr>\n",
       "      <th>3</th>\n",
       "      <td>8ec6ce2a7e7949b1bf142def7d0e0586</td>\n",
       "      <td>offer-received</td>\n",
       "      <td>0</td>\n",
       "      <td>False</td>\n",
       "      <td>True</td>\n",
       "      <td>False</td>\n",
       "      <td>False</td>\n",
       "      <td>3.0</td>\n",
       "      <td>NaN</td>\n",
       "      <td>None</td>\n",
       "      <td>...</td>\n",
       "      <td>2017-09-25</td>\n",
       "      <td>NaN</td>\n",
       "      <td>2.0</td>\n",
       "      <td>10.0</td>\n",
       "      <td>10.0</td>\n",
       "      <td>discount</td>\n",
       "      <td>1.0</td>\n",
       "      <td>1.0</td>\n",
       "      <td>1.0</td>\n",
       "      <td>1.0</td>\n",
       "    </tr>\n",
       "    <tr>\n",
       "      <th>4</th>\n",
       "      <td>68617ca6246f4fbc85e91a2a49552598</td>\n",
       "      <td>offer-received</td>\n",
       "      <td>0</td>\n",
       "      <td>False</td>\n",
       "      <td>True</td>\n",
       "      <td>False</td>\n",
       "      <td>False</td>\n",
       "      <td>4.0</td>\n",
       "      <td>NaN</td>\n",
       "      <td>None</td>\n",
       "      <td>...</td>\n",
       "      <td>2017-10-02</td>\n",
       "      <td>NaN</td>\n",
       "      <td>10.0</td>\n",
       "      <td>10.0</td>\n",
       "      <td>5.0</td>\n",
       "      <td>bogo</td>\n",
       "      <td>1.0</td>\n",
       "      <td>1.0</td>\n",
       "      <td>1.0</td>\n",
       "      <td>1.0</td>\n",
       "    </tr>\n",
       "  </tbody>\n",
       "</table>\n",
       "<p>5 rows × 21 columns</p>\n",
       "</div>"
      ],
      "text/plain": [
       "                        customer_id           event  time  offer-completed  \\\n",
       "0  78afa995795e4d85b5d9ceeca43f5fef  offer-received     0            False   \n",
       "1  a03223e636434f42ac4c3df47e8bac43  offer-received     0            False   \n",
       "2  e2127556f4f64592b11af22de27a7932  offer-received     0            False   \n",
       "3  8ec6ce2a7e7949b1bf142def7d0e0586  offer-received     0            False   \n",
       "4  68617ca6246f4fbc85e91a2a49552598  offer-received     0            False   \n",
       "\n",
       "   offer-received  offer-viewed  transaction  offer_id  amount gender  ...  \\\n",
       "0            True         False        False       0.0     NaN      F  ...   \n",
       "1            True         False        False       1.0     NaN   None  ...   \n",
       "2            True         False        False       2.0     NaN      M  ...   \n",
       "3            True         False        False       3.0     NaN   None  ...   \n",
       "4            True         False        False       4.0     NaN   None  ...   \n",
       "\n",
       "   became_member_on    income  reward  difficulty  duration  offer_type email  \\\n",
       "0        2017-05-09  100000.0     5.0         5.0       7.0        bogo   1.0   \n",
       "1        2017-08-04       NaN     5.0        20.0      10.0    discount   1.0   \n",
       "2        2018-04-26   70000.0     2.0        10.0       7.0    discount   1.0   \n",
       "3        2017-09-25       NaN     2.0        10.0      10.0    discount   1.0   \n",
       "4        2017-10-02       NaN    10.0        10.0       5.0        bogo   1.0   \n",
       "\n",
       "   mobile  social  web  \n",
       "0     1.0     0.0  1.0  \n",
       "1     0.0     0.0  1.0  \n",
       "2     1.0     0.0  1.0  \n",
       "3     1.0     1.0  1.0  \n",
       "4     1.0     1.0  1.0  \n",
       "\n",
       "[5 rows x 21 columns]"
      ]
     },
     "execution_count": 36,
     "metadata": {},
     "output_type": "execute_result"
    }
   ],
   "source": [
    "# Create a unique list of offer IDs\n",
    "offer_id = df_all['offer_id'].unique()\n",
    "\n",
    "# Create a dictionary that maps offer IDs to numerical indices\n",
    "offer_dict = {offer: idx for idx, offer in enumerate(offer_id)}\n",
    "\n",
    "# Map the offer IDs in the dataframe to their corresponding indices using the dictionary\n",
    "df_all['offer_id'] = df_all['offer_id'].map(offer_dict)\n",
    "\n",
    "# Display the first few rows of the dataframe to confirm the changes\n",
    "df_all.head()\n",
    "\n",
    "# Replace the index associated with None (which was mapped to 1) with NaN\n",
    "df_all['offer_id'].replace(offer_dict[None], np.nan, inplace=True)\n",
    "\n",
    "# Display the first few rows of the dataframe after replacing None with NaN\n",
    "df_all.head()\n"
   ]
  },
  {
   "cell_type": "code",
   "execution_count": 37,
   "metadata": {},
   "outputs": [
    {
     "data": {
      "text/plain": [
       "array([ 0.,  1.,  2.,  3.,  4.,  5.,  6.,  7.,  8.,  9., nan])"
      ]
     },
     "execution_count": 37,
     "metadata": {},
     "output_type": "execute_result"
    }
   ],
   "source": [
    "df_all['offer_id'].unique()"
   ]
  },
  {
   "cell_type": "code",
   "execution_count": 40,
   "metadata": {},
   "outputs": [
    {
     "data": {
      "text/html": [
       "<div>\n",
       "<style scoped>\n",
       "    .dataframe tbody tr th:only-of-type {\n",
       "        vertical-align: middle;\n",
       "    }\n",
       "\n",
       "    .dataframe tbody tr th {\n",
       "        vertical-align: top;\n",
       "    }\n",
       "\n",
       "    .dataframe thead th {\n",
       "        text-align: right;\n",
       "    }\n",
       "</style>\n",
       "<table border=\"1\" class=\"dataframe\">\n",
       "  <thead>\n",
       "    <tr style=\"text-align: right;\">\n",
       "      <th></th>\n",
       "      <th>customer_id</th>\n",
       "      <th>event</th>\n",
       "      <th>time</th>\n",
       "      <th>offer-completed</th>\n",
       "      <th>offer-received</th>\n",
       "      <th>offer-viewed</th>\n",
       "      <th>transaction</th>\n",
       "      <th>offer_id</th>\n",
       "      <th>amount</th>\n",
       "      <th>gender</th>\n",
       "      <th>...</th>\n",
       "      <th>income</th>\n",
       "      <th>reward</th>\n",
       "      <th>difficulty</th>\n",
       "      <th>duration</th>\n",
       "      <th>offer_type</th>\n",
       "      <th>email</th>\n",
       "      <th>mobile</th>\n",
       "      <th>social</th>\n",
       "      <th>web</th>\n",
       "      <th>event_id</th>\n",
       "    </tr>\n",
       "  </thead>\n",
       "  <tbody>\n",
       "    <tr>\n",
       "      <th>0</th>\n",
       "      <td>78afa995795e4d85b5d9ceeca43f5fef</td>\n",
       "      <td>offer-received</td>\n",
       "      <td>0</td>\n",
       "      <td>False</td>\n",
       "      <td>True</td>\n",
       "      <td>False</td>\n",
       "      <td>False</td>\n",
       "      <td>0.0</td>\n",
       "      <td>NaN</td>\n",
       "      <td>F</td>\n",
       "      <td>...</td>\n",
       "      <td>100000.0</td>\n",
       "      <td>5.0</td>\n",
       "      <td>5.0</td>\n",
       "      <td>7.0</td>\n",
       "      <td>bogo</td>\n",
       "      <td>1.0</td>\n",
       "      <td>1.0</td>\n",
       "      <td>0.0</td>\n",
       "      <td>1.0</td>\n",
       "      <td>0</td>\n",
       "    </tr>\n",
       "    <tr>\n",
       "      <th>1</th>\n",
       "      <td>a03223e636434f42ac4c3df47e8bac43</td>\n",
       "      <td>offer-received</td>\n",
       "      <td>0</td>\n",
       "      <td>False</td>\n",
       "      <td>True</td>\n",
       "      <td>False</td>\n",
       "      <td>False</td>\n",
       "      <td>1.0</td>\n",
       "      <td>NaN</td>\n",
       "      <td>None</td>\n",
       "      <td>...</td>\n",
       "      <td>NaN</td>\n",
       "      <td>5.0</td>\n",
       "      <td>20.0</td>\n",
       "      <td>10.0</td>\n",
       "      <td>discount</td>\n",
       "      <td>1.0</td>\n",
       "      <td>0.0</td>\n",
       "      <td>0.0</td>\n",
       "      <td>1.0</td>\n",
       "      <td>0</td>\n",
       "    </tr>\n",
       "    <tr>\n",
       "      <th>2</th>\n",
       "      <td>e2127556f4f64592b11af22de27a7932</td>\n",
       "      <td>offer-received</td>\n",
       "      <td>0</td>\n",
       "      <td>False</td>\n",
       "      <td>True</td>\n",
       "      <td>False</td>\n",
       "      <td>False</td>\n",
       "      <td>2.0</td>\n",
       "      <td>NaN</td>\n",
       "      <td>M</td>\n",
       "      <td>...</td>\n",
       "      <td>70000.0</td>\n",
       "      <td>2.0</td>\n",
       "      <td>10.0</td>\n",
       "      <td>7.0</td>\n",
       "      <td>discount</td>\n",
       "      <td>1.0</td>\n",
       "      <td>1.0</td>\n",
       "      <td>0.0</td>\n",
       "      <td>1.0</td>\n",
       "      <td>0</td>\n",
       "    </tr>\n",
       "    <tr>\n",
       "      <th>3</th>\n",
       "      <td>8ec6ce2a7e7949b1bf142def7d0e0586</td>\n",
       "      <td>offer-received</td>\n",
       "      <td>0</td>\n",
       "      <td>False</td>\n",
       "      <td>True</td>\n",
       "      <td>False</td>\n",
       "      <td>False</td>\n",
       "      <td>3.0</td>\n",
       "      <td>NaN</td>\n",
       "      <td>None</td>\n",
       "      <td>...</td>\n",
       "      <td>NaN</td>\n",
       "      <td>2.0</td>\n",
       "      <td>10.0</td>\n",
       "      <td>10.0</td>\n",
       "      <td>discount</td>\n",
       "      <td>1.0</td>\n",
       "      <td>1.0</td>\n",
       "      <td>1.0</td>\n",
       "      <td>1.0</td>\n",
       "      <td>0</td>\n",
       "    </tr>\n",
       "    <tr>\n",
       "      <th>4</th>\n",
       "      <td>68617ca6246f4fbc85e91a2a49552598</td>\n",
       "      <td>offer-received</td>\n",
       "      <td>0</td>\n",
       "      <td>False</td>\n",
       "      <td>True</td>\n",
       "      <td>False</td>\n",
       "      <td>False</td>\n",
       "      <td>4.0</td>\n",
       "      <td>NaN</td>\n",
       "      <td>None</td>\n",
       "      <td>...</td>\n",
       "      <td>NaN</td>\n",
       "      <td>10.0</td>\n",
       "      <td>10.0</td>\n",
       "      <td>5.0</td>\n",
       "      <td>bogo</td>\n",
       "      <td>1.0</td>\n",
       "      <td>1.0</td>\n",
       "      <td>1.0</td>\n",
       "      <td>1.0</td>\n",
       "      <td>0</td>\n",
       "    </tr>\n",
       "  </tbody>\n",
       "</table>\n",
       "<p>5 rows × 22 columns</p>\n",
       "</div>"
      ],
      "text/plain": [
       "                        customer_id           event  time  offer-completed  \\\n",
       "0  78afa995795e4d85b5d9ceeca43f5fef  offer-received     0            False   \n",
       "1  a03223e636434f42ac4c3df47e8bac43  offer-received     0            False   \n",
       "2  e2127556f4f64592b11af22de27a7932  offer-received     0            False   \n",
       "3  8ec6ce2a7e7949b1bf142def7d0e0586  offer-received     0            False   \n",
       "4  68617ca6246f4fbc85e91a2a49552598  offer-received     0            False   \n",
       "\n",
       "   offer-received  offer-viewed  transaction  offer_id  amount gender  ...  \\\n",
       "0            True         False        False       0.0     NaN      F  ...   \n",
       "1            True         False        False       1.0     NaN   None  ...   \n",
       "2            True         False        False       2.0     NaN      M  ...   \n",
       "3            True         False        False       3.0     NaN   None  ...   \n",
       "4            True         False        False       4.0     NaN   None  ...   \n",
       "\n",
       "     income reward  difficulty  duration  offer_type  email mobile  social  \\\n",
       "0  100000.0    5.0         5.0       7.0        bogo    1.0    1.0     0.0   \n",
       "1       NaN    5.0        20.0      10.0    discount    1.0    0.0     0.0   \n",
       "2   70000.0    2.0        10.0       7.0    discount    1.0    1.0     0.0   \n",
       "3       NaN    2.0        10.0      10.0    discount    1.0    1.0     1.0   \n",
       "4       NaN   10.0        10.0       5.0        bogo    1.0    1.0     1.0   \n",
       "\n",
       "   web  event_id  \n",
       "0  1.0         0  \n",
       "1  1.0         0  \n",
       "2  1.0         0  \n",
       "3  1.0         0  \n",
       "4  1.0         0  \n",
       "\n",
       "[5 rows x 22 columns]"
      ]
     },
     "execution_count": 40,
     "metadata": {},
     "output_type": "execute_result"
    }
   ],
   "source": [
    "# Get the unique event types\n",
    "event_ids = df_all['event'].unique()\n",
    "\n",
    "# Create a dictionary that maps each event type to a numerical index\n",
    "event_dict = {event: idx for idx, event in enumerate(event_ids)}\n",
    "\n",
    "# Map the event types in the dataframe to their corresponding indices using the dictionary\n",
    "df_all['event_id'] = df_all['event'].map(event_dict)\n",
    "\n",
    "# Display the first few rows of the dataframe to confirm the changes\n",
    "df_all.head()\n"
   ]
  },
  {
   "cell_type": "code",
   "execution_count": 41,
   "metadata": {},
   "outputs": [
    {
     "data": {
      "text/plain": [
       "(306534, 22)"
      ]
     },
     "execution_count": 41,
     "metadata": {},
     "output_type": "execute_result"
    }
   ],
   "source": [
    "df_all.shape"
   ]
  },
  {
   "cell_type": "code",
   "execution_count": 42,
   "metadata": {},
   "outputs": [
    {
     "data": {
      "text/plain": [
       "Index(['customer_id', 'event', 'time', 'offer-completed', 'offer-received',\n",
       "       'offer-viewed', 'transaction', 'offer_id', 'amount', 'gender', 'age',\n",
       "       'became_member_on', 'income', 'reward', 'difficulty', 'duration',\n",
       "       'offer_type', 'email', 'mobile', 'social', 'web', 'event_id'],\n",
       "      dtype='object')"
      ]
     },
     "execution_count": 42,
     "metadata": {},
     "output_type": "execute_result"
    }
   ],
   "source": [
    "df_all.columns"
   ]
  },
  {
   "cell_type": "code",
   "execution_count": 43,
   "metadata": {},
   "outputs": [
    {
     "name": "stdout",
     "output_type": "stream",
     "text": [
      "<class 'pandas.core.frame.DataFrame'>\n",
      "RangeIndex: 306534 entries, 0 to 306533\n",
      "Data columns (total 22 columns):\n",
      " #   Column            Non-Null Count   Dtype         \n",
      "---  ------            --------------   -----         \n",
      " 0   customer_id       306534 non-null  object        \n",
      " 1   event             306534 non-null  object        \n",
      " 2   time              306534 non-null  int64         \n",
      " 3   offer-completed   306534 non-null  bool          \n",
      " 4   offer-received    306534 non-null  bool          \n",
      " 5   offer-viewed      306534 non-null  bool          \n",
      " 6   transaction       306534 non-null  bool          \n",
      " 7   offer_id          167581 non-null  float64       \n",
      " 8   amount            138953 non-null  float64       \n",
      " 9   gender            272762 non-null  object        \n",
      " 10  age               306534 non-null  int64         \n",
      " 11  became_member_on  306534 non-null  datetime64[ns]\n",
      " 12  income            272762 non-null  float64       \n",
      " 13  reward            167581 non-null  float64       \n",
      " 14  difficulty        167581 non-null  float64       \n",
      " 15  duration          167581 non-null  float64       \n",
      " 16  offer_type        167581 non-null  object        \n",
      " 17  email             167581 non-null  float64       \n",
      " 18  mobile            167581 non-null  float64       \n",
      " 19  social            167581 non-null  float64       \n",
      " 20  web               167581 non-null  float64       \n",
      " 21  event_id          306534 non-null  int64         \n",
      "dtypes: bool(4), datetime64[ns](1), float64(10), int64(3), object(4)\n",
      "memory usage: 43.3+ MB\n"
     ]
    }
   ],
   "source": [
    "df_all.info()"
   ]
  },
  {
   "cell_type": "code",
   "execution_count": 45,
   "metadata": {},
   "outputs": [],
   "source": [
    "df_all.to_csv('data/data.csv', index=False)"
   ]
  },
  {
   "cell_type": "code",
   "execution_count": 46,
   "metadata": {},
   "outputs": [],
   "source": [
    "data = pd.read_csv('data/data.csv')"
   ]
  },
  {
   "cell_type": "markdown",
   "metadata": {},
   "source": [
    "### Data Exploration and Visualization\n",
    "\n",
    "**Data Exploration:**\n",
    "- Analyze dataset structure, check for missing values, and summarize key statistics.\n",
    "- Identify patterns, trends, and relationships between variables.\n",
    "\n",
    "**Data Visualization:**\n",
    "- Use histograms, bar charts, and scatter plots to visualize data distributions and relationships.\n",
    "- Highlight key insights with visual tools to support analysis.\n"
   ]
  },
  {
   "cell_type": "code",
   "execution_count": 47,
   "metadata": {},
   "outputs": [
    {
     "data": {
      "text/plain": [
       "count    306534.000000\n",
       "mean         60.909367\n",
       "std          26.032030\n",
       "min          18.000000\n",
       "25%          43.000000\n",
       "50%          57.000000\n",
       "75%          72.000000\n",
       "max         118.000000\n",
       "Name: age, dtype: float64"
      ]
     },
     "execution_count": 47,
     "metadata": {},
     "output_type": "execute_result"
    }
   ],
   "source": [
    "data.age.describe()"
   ]
  },
  {
   "cell_type": "code",
   "execution_count": 51,
   "metadata": {},
   "outputs": [
    {
     "name": "stderr",
     "output_type": "stream",
     "text": [
      "C:\\Users\\feyza.cotuk\\AppData\\Local\\Temp\\ipykernel_592\\783120529.py:20: UserWarning: FigureCanvasAgg is non-interactive, and thus cannot be shown\n",
      "  fig.show()\n"
     ]
    },
    {
     "data": {
      "image/png": "[encoded data removed]",
      "text/plain": [
       "<Figure size 640x480 with 1 Axes>"
      ]
     },
     "metadata": {},
     "output_type": "display_data"
    }
   ],
   "source": [
    "# Create a figure object\n",
    "fig = plt.figure()\n",
    "\n",
    "# Add a subplot to the figure\n",
    "ax = fig.add_subplot(1, 1, 1)\n",
    "\n",
    "# Generate the histogram data\n",
    "n, bins, patches = ax.hist(data.age, bins=30, edgecolor='white')\n",
    "\n",
    "# Set the color for each bin\n",
    "for i, patch in enumerate(patches):\n",
    "    patch.set_facecolor(plt.cm.viridis(i / len(patches)))\n",
    "\n",
    "# Set the labels and title\n",
    "ax.set_xlabel('Age Group')\n",
    "ax.set_ylabel('Count')\n",
    "ax.set_title('Age Group Distribution')\n",
    "\n",
    "# Display the interactive plot\n",
    "fig.show()\n"
   ]
  },
  {
   "cell_type": "markdown",
   "metadata": {},
   "source": [
    "### Observation\n",
    "\n",
    "- **Outliers Identified:** A significant number of users have an age greater than 115, which is likely erroneous.\n",
    "- **Typical User Age:** The majority of users are middle-aged, with the average age falling between 50 and 62 years.\n"
   ]
  },
  {
   "cell_type": "code",
   "execution_count": 52,
   "metadata": {},
   "outputs": [
    {
     "data": {
      "text/plain": [
       "count    272762.000000\n",
       "mean      64337.000755\n",
       "std       21243.762941\n",
       "min       30000.000000\n",
       "25%       48000.000000\n",
       "50%       62000.000000\n",
       "75%       78000.000000\n",
       "max      120000.000000\n",
       "Name: income, dtype: float64"
      ]
     },
     "execution_count": 52,
     "metadata": {},
     "output_type": "execute_result"
    }
   ],
   "source": [
    "data.income.describe()"
   ]
  },
  {
   "cell_type": "code",
   "execution_count": 53,
   "metadata": {},
   "outputs": [
    {
     "name": "stderr",
     "output_type": "stream",
     "text": [
      "C:\\Users\\feyza.cotuk\\AppData\\Local\\Temp\\ipykernel_592\\309730343.py:20: UserWarning: FigureCanvasAgg is non-interactive, and thus cannot be shown\n",
      "  fig.show()\n"
     ]
    },
    {
     "data": {
      "image/png": "[encoded data removed]",
      "text/plain": [
       "<Figure size 640x480 with 1 Axes>"
      ]
     },
     "metadata": {},
     "output_type": "display_data"
    }
   ],
   "source": [
    "# Create a figure object\n",
    "fig = plt.figure()\n",
    "\n",
    "# Add a subplot to the figure\n",
    "ax = fig.add_subplot(1, 1, 1)\n",
    "\n",
    "# Generate the histogram data\n",
    "n, bins, patches = ax.hist(data.income, bins=30, edgecolor='white')\n",
    "\n",
    "# Set different colors for each bin using a color map\n",
    "for i, patch in enumerate(patches):\n",
    "    patch.set_facecolor(plt.cm.plasma(i / len(patches)))\n",
    "\n",
    "# Set the labels and title\n",
    "ax.set_xlabel('Income Range')\n",
    "ax.set_ylabel('Count')\n",
    "ax.set_title('Income Range Distribution')\n",
    "\n",
    "# Display the interactive plot\n",
    "fig.show()"
   ]
  },
  {
   "cell_type": "markdown",
   "metadata": {},
   "source": [
    "### Observation\n",
    "\n",
    "- **Average Income:** The typical user falls within the middle-income group, with an average income ranging between $65,000 and $70,000.\n"
   ]
  },
  {
   "cell_type": "code",
   "execution_count": 54,
   "metadata": {},
   "outputs": [
    {
     "data": {
      "text/plain": [
       "gender\n",
       "M    155690\n",
       "F    113101\n",
       "O      3971\n",
       "Name: count, dtype: int64"
      ]
     },
     "execution_count": 54,
     "metadata": {},
     "output_type": "execute_result"
    }
   ],
   "source": [
    "data.gender.value_counts()"
   ]
  },
  {
   "cell_type": "code",
   "execution_count": 55,
   "metadata": {},
   "outputs": [
    {
     "data": {
      "text/plain": [
       "(57.0790652656895, 41.465086778950145, 1.4558479553603507)"
      ]
     },
     "execution_count": 55,
     "metadata": {},
     "output_type": "execute_result"
    }
   ],
   "source": [
    "# Calculate the proportion of each gender group\n",
    "male_proportion = (data.gender.value_counts(normalize=True)['M'] * 100)\n",
    "female_proportion = (data.gender.value_counts(normalize=True)['F'] * 100)\n",
    "others_proportion = (data.gender.value_counts(normalize=True)['O'] * 100)\n",
    "\n",
    "male_proportion, female_proportion, others_proportion\n"
   ]
  },
  {
   "cell_type": "code",
   "execution_count": 56,
   "metadata": {},
   "outputs": [
    {
     "data": {
      "image/png": "[encoded data removed]",
      "text/plain": [
       "<Figure size 640x480 with 1 Axes>"
      ]
     },
     "metadata": {},
     "output_type": "display_data"
    }
   ],
   "source": [
    "# Get the gender counts\n",
    "ax = data.gender.value_counts()\n",
    "\n",
    "# Create a bar plot with custom colors\n",
    "ax.plot(kind='bar', color=['#1f77b4', '#ff7f0e', '#2ca02c'])\n",
    "\n",
    "# Set the labels and title\n",
    "plt.ylabel('Number of People')\n",
    "plt.xlabel('Gender')\n",
    "plt.title('Gender Distribution')\n",
    "\n",
    "# Display the plot\n",
    "plt.show()"
   ]
  },
  {
   "cell_type": "markdown",
   "metadata": {},
   "source": [
    "### Observation\n",
    "\n",
    "- **Gender Distribution:** Males constitute more than 50% of the user base.\n"
   ]
  },
  {
   "cell_type": "code",
   "execution_count": 57,
   "metadata": {},
   "outputs": [
    {
     "data": {
      "text/plain": [
       "(offer_type\n",
       " discount         30543\n",
       " bogo             30499\n",
       " informational    15235\n",
       " Name: count, dtype: int64,\n",
       " offer_type\n",
       " bogo             25449\n",
       " discount         21445\n",
       " informational    10831\n",
       " Name: count, dtype: int64,\n",
       " offer_type\n",
       " discount    17910\n",
       " bogo        15669\n",
       " Name: count, dtype: int64)"
      ]
     },
     "execution_count": 57,
     "metadata": {},
     "output_type": "execute_result"
    }
   ],
   "source": [
    "offer_received = data[data['offer-received'] == 1].offer_type.value_counts()\n",
    "offer_viewed = data[data['offer-viewed'] == 1].offer_type.value_counts()\n",
    "offer_completed = data[data['offer-completed'] == 1].offer_type.value_counts()\n",
    "\n",
    "offer_received , offer_viewed , offer_completed "
   ]
  },
  {
   "cell_type": "code",
   "execution_count": 58,
   "metadata": {},
   "outputs": [
    {
     "data": {
      "image/png": "[encoded data removed]",
      "text/plain": [
       "<Figure size 1800x500 with 3 Axes>"
      ]
     },
     "metadata": {},
     "output_type": "display_data"
    }
   ],
   "source": [
    "# Create a figure and an array of subplots\n",
    "fig, axs = plt.subplots(1, 3, figsize=(18, 5))\n",
    "\n",
    "# Plot for Offer Received\n",
    "offer_received = data[data['offer-received'] == 1].offer_type.value_counts()\n",
    "offer_received.plot(kind='bar', ax=axs[0], color=['#1f77b4', '#ff7f0e', '#2ca02c'])\n",
    "axs[0].set_ylabel('Counts')\n",
    "axs[0].set_xlabel('Offer Type')\n",
    "axs[0].set_title('Offer Received by Type')\n",
    "\n",
    "# Plot for Offer Viewed\n",
    "offer_viewed = data[data['offer-viewed'] == 1].offer_type.value_counts()\n",
    "offer_viewed.plot(kind='bar', ax=axs[1], color=['#d62728', '#9467bd', '#8c564b'])\n",
    "axs[1].set_ylabel('Counts')\n",
    "axs[1].set_xlabel('Offer Type')\n",
    "axs[1].set_title('Offer Viewed by Type')\n",
    "\n",
    "# Plot for Offer Completed\n",
    "offer_completed = data[data['offer-completed'] == 1].offer_type.value_counts()\n",
    "offer_completed.plot(kind='bar', ax=axs[2], color=['#e377c2', '#7f7f7f', '#bcbd22'])\n",
    "axs[2].set_ylabel('Counts')\n",
    "axs[2].set_xlabel('Offer Type')\n",
    "axs[2].set_title('Offer Completed by Type')\n",
    "\n",
    "# Adjust layout\n",
    "plt.tight_layout()\n",
    "\n",
    "# Show the plot\n",
    "plt.show()"
   ]
  },
  {
   "cell_type": "code",
   "execution_count": 59,
   "metadata": {},
   "outputs": [
    {
     "data": {
      "text/plain": [
       "(30499, 25449, 15669, 0.8344208006819895, 0.5137545493294862)"
      ]
     },
     "execution_count": 59,
     "metadata": {},
     "output_type": "execute_result"
    }
   ],
   "source": [
    "# For BOGO Offer\n",
    "\n",
    "# Extract values for the BOGO offer type\n",
    "R = offer_received['bogo']\n",
    "V = offer_viewed['bogo']\n",
    "C = offer_completed['bogo']\n",
    "\n",
    "# Calculate the view and completion proportions\n",
    "view_prop = V / R\n",
    "com_prop = C / R\n",
    "\n",
    "# Display the values\n",
    "R, V, C, view_prop, com_prop\n"
   ]
  },
  {
   "cell_type": "code",
   "execution_count": 60,
   "metadata": {},
   "outputs": [
    {
     "data": {
      "text/plain": [
       "(30543, 21445, 17910, 0.702124873129686, 0.5863864060504862)"
      ]
     },
     "execution_count": 60,
     "metadata": {},
     "output_type": "execute_result"
    }
   ],
   "source": [
    "# For DISCOUNT Offer\n",
    "\n",
    "# Extract values for the DISCOUNT offer type\n",
    "R = offer_received['discount']\n",
    "V = offer_viewed['discount']\n",
    "C = offer_completed['discount']\n",
    "\n",
    "# Calculate the view and completion proportions\n",
    "view_prop = V / R\n",
    "com_prop = C / R\n",
    "\n",
    "# Display the values\n",
    "R, V, C, view_prop, com_prop\n"
   ]
  },
  {
   "cell_type": "markdown",
   "metadata": {},
   "source": [
    "### Observation\n",
    "\n",
    "- **BOGO Offers:** BOGO offers are highly popular. Out of 30,499 users who received a BOGO offer, 25,449 viewed it, and 15,669 completed it.\n",
    "- **BOGO Offer Viewership:** The percentage of users who viewed the BOGO offer is 83%.\n",
    "- **DISCOUNT Offer Viewership:** The percentage of users who viewed the DISCOUNT offer is 70%.\n"
   ]
  },
  {
   "cell_type": "code",
   "execution_count": 61,
   "metadata": {},
   "outputs": [
    {
     "data": {
      "text/plain": [
       "(offer_id\n",
       " 0.0    7677\n",
       " 1.0    7668\n",
       " 8.0    7658\n",
       " 6.0    7646\n",
       " 2.0    7632\n",
       " 9.0    7618\n",
       " 7.0    7617\n",
       " 3.0    7597\n",
       " 4.0    7593\n",
       " 5.0    7571\n",
       " Name: count, dtype: int64,\n",
       " offer_id\n",
       " 6.0    7337\n",
       " 3.0    7327\n",
       " 4.0    7298\n",
       " 5.0    7264\n",
       " 8.0    6716\n",
       " 9.0    6687\n",
       " 0.0    4171\n",
       " 7.0    4144\n",
       " 2.0    4118\n",
       " 1.0    2663\n",
       " Name: count, dtype: int64,\n",
       " offer_id\n",
       " 3.0    5317\n",
       " 6.0    5156\n",
       " 0.0    4354\n",
       " 5.0    4296\n",
       " 2.0    4017\n",
       " 8.0    3688\n",
       " 1.0    3420\n",
       " 4.0    3331\n",
       " Name: count, dtype: int64)"
      ]
     },
     "execution_count": 61,
     "metadata": {},
     "output_type": "execute_result"
    }
   ],
   "source": [
    "# Count the occurrences of each offer_id for received, viewed, and completed offers\n",
    "offer_received = data.loc[data['offer-received'] == 1, 'offer_id'].value_counts()\n",
    "offer_viewed = data.loc[data['offer-viewed'] == 1, 'offer_id'].value_counts()\n",
    "offer_completed = data.loc[data['offer-completed'] == 1, 'offer_id'].value_counts()\n",
    "\n",
    "offer_received, offer_viewed, offer_completed\n"
   ]
  },
  {
   "cell_type": "code",
   "execution_count": 62,
   "metadata": {},
   "outputs": [
    {
     "data": {
      "image/png": "[encoded data removed]",
      "text/plain": [
       "<Figure size 1800x500 with 3 Axes>"
      ]
     },
     "metadata": {},
     "output_type": "display_data"
    }
   ],
   "source": [
    "\n",
    "# Create a figure object\n",
    "fig = plt.figure(figsize=(18, 5))\n",
    "\n",
    "# Plot for Offer Received\n",
    "plt.subplot(131)\n",
    "offer_received = data[data['offer-received'] == 1].offer_id.value_counts()\n",
    "offer_received.plot(kind='bar', color=plt.cm.Paired(np.arange(len(offer_received))))\n",
    "plt.ylabel('Counts')\n",
    "plt.xlabel('Offer Id')\n",
    "plt.title('Offer Received by Offer Id')\n",
    "\n",
    "# Plot for Offer Viewed\n",
    "plt.subplot(132)\n",
    "offer_viewed = data[data['offer-viewed'] == 1].offer_id.value_counts()\n",
    "offer_viewed.plot(kind='bar', color=plt.cm.Pastel1(np.arange(len(offer_viewed))))\n",
    "plt.ylabel('Counts')\n",
    "plt.xlabel('Offer Id')\n",
    "plt.title('Offer Viewed by Offer Id')\n",
    "\n",
    "# Plot for Offer Completed\n",
    "plt.subplot(133)\n",
    "offer_completed = data[data['offer-completed'] == 1].offer_id.value_counts()\n",
    "offer_completed.plot(kind='bar', color=plt.cm.Set3(np.arange(len(offer_completed))))\n",
    "plt.ylabel('Counts')\n",
    "plt.xlabel('Offer Id')\n",
    "plt.title('Offer Completed by Offer Id')\n",
    "\n",
    "# Adjust layout to prevent overlap\n",
    "plt.tight_layout()\n",
    "\n",
    "# Display the plot\n",
    "plt.show()\n"
   ]
  },
  {
   "cell_type": "markdown",
   "metadata": {},
   "source": [
    "### Observation\n",
    "\n",
    "- **Equal Offer Distribution:** Every `offer_id` received an equal number of offers.\n",
    "- **Viewing Ratio:** The viewing ratio decreased for certain `offer_ids` such as 0, 6, 7, and 5.\n",
    "- **Completion Rate:** The offer completion rate is generally quite decent.\n"
   ]
  },
  {
   "cell_type": "code",
   "execution_count": 63,
   "metadata": {},
   "outputs": [
    {
     "data": {
      "text/plain": [
       "customer_id\n",
       "0009655768c64bdeb2e877511632db8f    3\n",
       "00116118485d4dfda04fdbaba9a87b5c    4\n",
       "0011e0d4e6b944f998e987f904e8c1e5    3\n",
       "0020c2b971eb4e9188eac86d93036a77    4\n",
       "0020ccbbb6d84e358d3414a3ff76cffd    6\n",
       "                                   ..\n",
       "fff3ba4757bd42088c044ca26d73817a    3\n",
       "fff7576017104bcc8677a8d63322b5e1    6\n",
       "fff8957ea8b240a6b5e634b6ee8eafcf    2\n",
       "fffad4f4828548d1b5583907f2e9906b    9\n",
       "ffff82501cea40309d5fdd7edcca4a07    3\n",
       "Name: offer-received, Length: 14992, dtype: int64"
      ]
     },
     "execution_count": 63,
     "metadata": {},
     "output_type": "execute_result"
    }
   ],
   "source": [
    "data[data['offer_type']=='bogo'].groupby('customer_id')['offer-received'].count()"
   ]
  },
  {
   "cell_type": "code",
   "execution_count": 68,
   "metadata": {},
   "outputs": [
    {
     "data": {
      "image/png": "[encoded data removed]",
      "text/plain": [
       "<Figure size 1000x600 with 1 Axes>"
      ]
     },
     "metadata": {},
     "output_type": "display_data"
    }
   ],
   "source": [
    "# Plotting the histogram for BOGO offers received by user\n",
    "plt.figure(figsize=(10, 6))\n",
    "\n",
    "# Get the counts for BOGO offers received\n",
    "counts = data[data['offer_type'] == 'bogo'].groupby('customer_id')['offer-received'].count()\n",
    "\n",
    "# Generate the histogram with different pastel pink colors for each bin\n",
    "n, bins, patches = plt.hist(counts, bins=20, edgecolor='black')\n",
    "\n",
    "# Create a pastel pink color gradient manually\n",
    "colors = [plt.cm.RdPu(i / len(patches)) for i in range(len(patches))]\n",
    "\n",
    "# Apply pastel pink colors to each bin\n",
    "for patch, color in zip(patches, colors):\n",
    "    patch.set_facecolor(color)\n",
    "\n",
    "# Set the title and labels\n",
    "plt.title('Distribution of BOGO Offers Received by User')\n",
    "plt.xlabel('Number of BOGO Offers Received')\n",
    "plt.ylabel('Number of Users')\n",
    "\n",
    "# Display the plot\n",
    "plt.show()\n"
   ]
  },
  {
   "cell_type": "markdown",
   "metadata": {},
   "source": [
    "### Observation\n",
    "\n",
    "- **BOGO Offer Engagement:** A significant number of users have received the BOGO offer, indicating good user engagement with this type of promotion.\n"
   ]
  },
  {
   "cell_type": "code",
   "execution_count": 69,
   "metadata": {},
   "outputs": [
    {
     "data": {
      "text/plain": [
       "customer_id\n",
       "0009655768c64bdeb2e877511632db8f    4\n",
       "0011e0d4e6b944f998e987f904e8c1e5    4\n",
       "0020c2b971eb4e9188eac86d93036a77    2\n",
       "0020ccbbb6d84e358d3414a3ff76cffd    2\n",
       "003d66b6608740288d6cc97a6903f4f0    4\n",
       "                                   ..\n",
       "ffecb1f8543f4bf7bade023de366d6bf    2\n",
       "fff0f0aac6c547b9b263080f09a5586a    4\n",
       "fff3ba4757bd42088c044ca26d73817a    3\n",
       "fff8957ea8b240a6b5e634b6ee8eafcf    1\n",
       "fffad4f4828548d1b5583907f2e9906b    2\n",
       "Name: offer-viewed, Length: 10547, dtype: int64"
      ]
     },
     "execution_count": 69,
     "metadata": {},
     "output_type": "execute_result"
    }
   ],
   "source": [
    "\n",
    "data[data['offer_type']=='informational'].groupby('customer_id')['offer-viewed'].count()"
   ]
  },
  {
   "cell_type": "code",
   "execution_count": 70,
   "metadata": {},
   "outputs": [
    {
     "data": {
      "image/png": "[encoded data removed]",
      "text/plain": [
       "<Figure size 1000x600 with 1 Axes>"
      ]
     },
     "metadata": {},
     "output_type": "display_data"
    }
   ],
   "source": [
    "# Plotting the histogram for Informational offers viewed by user\n",
    "plt.figure(figsize=(10, 6))\n",
    "\n",
    "# Get the counts for Informational offers viewed\n",
    "counts = data[data['offer_type'] == 'informational'].groupby('customer_id')['offer-viewed'].count()\n",
    "\n",
    "# Generate the histogram with different colors for each bin\n",
    "n, bins, patches = plt.hist(counts, bins=20, edgecolor='black')\n",
    "\n",
    "# Apply different colors to each bin\n",
    "for i in range(len(patches)):\n",
    "    patches[i].set_facecolor(plt.cm.viridis(i / len(patches)))\n",
    "\n",
    "# Set the title and labels\n",
    "plt.title('Distribution of Informational Offers Viewed by User')\n",
    "plt.xlabel('Number of Informational Offers Viewed')\n",
    "plt.ylabel('Number of Users')\n",
    "\n",
    "# Display the plot\n",
    "plt.show()\n"
   ]
  },
  {
   "cell_type": "markdown",
   "metadata": {},
   "source": [
    "### Observation\n",
    "\n",
    "- **High View Ratio:** The ratio of 2 to 4 informational offers viewed per user is notably high.\n",
    "- **Significant Difference:** There is a substantial difference in the number of users viewing a few offers versus many offers, indicating strong engagement with a subset of users.\n"
   ]
  },
  {
   "cell_type": "code",
   "execution_count": 71,
   "metadata": {},
   "outputs": [
    {
     "data": {
      "text/plain": [
       "customer_id\n",
       "0009655768c64bdeb2e877511632db8f     5\n",
       "0011e0d4e6b944f998e987f904e8c1e5     6\n",
       "0020c2b971eb4e9188eac86d93036a77     5\n",
       "0020ccbbb6d84e358d3414a3ff76cffd     3\n",
       "003d66b6608740288d6cc97a6903f4f0     8\n",
       "                                    ..\n",
       "fff29fb549084123bd046dbc5ceb4faa     3\n",
       "fff3ba4757bd42088c044ca26d73817a     6\n",
       "fff7576017104bcc8677a8d63322b5e1     6\n",
       "fff8957ea8b240a6b5e634b6ee8eafcf     2\n",
       "ffff82501cea40309d5fdd7edcca4a07    15\n",
       "Name: offer-completed, Length: 14945, dtype: int64"
      ]
     },
     "execution_count": 71,
     "metadata": {},
     "output_type": "execute_result"
    }
   ],
   "source": [
    "\n",
    "data[data['offer_type']=='discount'].groupby('customer_id')['offer-completed'].count()"
   ]
  },
  {
   "cell_type": "code",
   "execution_count": 72,
   "metadata": {},
   "outputs": [
    {
     "data": {
      "image/png": "[encoded data removed]",
      "text/plain": [
       "<Figure size 1000x600 with 1 Axes>"
      ]
     },
     "metadata": {},
     "output_type": "display_data"
    }
   ],
   "source": [
    "# Plotting the histogram for Discount offers completed by user\n",
    "plt.figure(figsize=(10, 6))\n",
    "\n",
    "# Get the counts for Discount offers completed\n",
    "counts = data[data['offer_type'] == 'discount'].groupby('customer_id')['offer-completed'].count()\n",
    "\n",
    "# Generate the histogram with pastel colors for each bin\n",
    "n, bins, patches = plt.hist(counts, bins=20, edgecolor='black')\n",
    "\n",
    "# Create a pastel color palette (soft colors)\n",
    "colors = [plt.cm.Pastel1(i / len(patches)) for i in range(len(patches))]\n",
    "\n",
    "# Apply pastel colors to each bin\n",
    "for patch, color in zip(patches, colors):\n",
    "    patch.set_facecolor(color)\n",
    "\n",
    "# Set the title and labels\n",
    "plt.title('Distribution of Discount Offers Completed by User')\n",
    "plt.xlabel('Number of Discount Offers Completed')\n",
    "plt.ylabel('Number of Users')\n",
    "\n",
    "# Display the plot\n",
    "plt.show()"
   ]
  },
  {
   "cell_type": "markdown",
   "metadata": {},
   "source": [
    "### Observation\n",
    "\n",
    "- **High Completion Ratio:** The ratio of customers completing an offer 2 to 4 times is notably high.\n"
   ]
  },
  {
   "cell_type": "markdown",
   "metadata": {},
   "source": [
    "### Modeling and Predictions\n",
    "\n",
    "**Pre-Model Preparation:**\n",
    "- Apply one-hot encoding to the `Gender` column and the `Offer_type` column to prepare the data for modeling.\n"
   ]
  },
  {
   "cell_type": "code",
   "execution_count": 73,
   "metadata": {},
   "outputs": [
    {
     "name": "stdout",
     "output_type": "stream",
     "text": [
      "offer_type\n",
      "bogo             71617\n",
      "discount         69898\n",
      "informational    26066\n",
      "Name: count, dtype: int64\n"
     ]
    }
   ],
   "source": [
    "# Map gender values to numerical categories\n",
    "gender_mapping = {'O': 0, 'M': 1, 'F': 2}\n",
    "data['gender'] = data['gender'].map(gender_mapping)\n",
    "\n",
    "# Display the value counts for offer types\n",
    "offer_type_counts = data['offer_type'].value_counts()\n",
    "print(offer_type_counts)\n",
    "\n",
    "# Map offer types to numerical categories\n",
    "offer_type_mapping = {'bogo': 0, 'discount': 1, 'informational': 2}\n",
    "data['offer_type'] = data['offer_type'].map(offer_type_mapping)\n"
   ]
  },
  {
   "cell_type": "code",
   "execution_count": 74,
   "metadata": {},
   "outputs": [
    {
     "data": {
      "text/html": [
       "<div>\n",
       "<style scoped>\n",
       "    .dataframe tbody tr th:only-of-type {\n",
       "        vertical-align: middle;\n",
       "    }\n",
       "\n",
       "    .dataframe tbody tr th {\n",
       "        vertical-align: top;\n",
       "    }\n",
       "\n",
       "    .dataframe thead th {\n",
       "        text-align: right;\n",
       "    }\n",
       "</style>\n",
       "<table border=\"1\" class=\"dataframe\">\n",
       "  <thead>\n",
       "    <tr style=\"text-align: right;\">\n",
       "      <th></th>\n",
       "      <th>customer_id</th>\n",
       "      <th>event</th>\n",
       "      <th>time</th>\n",
       "      <th>offer-completed</th>\n",
       "      <th>offer-received</th>\n",
       "      <th>offer-viewed</th>\n",
       "      <th>transaction</th>\n",
       "      <th>offer_id</th>\n",
       "      <th>amount</th>\n",
       "      <th>gender</th>\n",
       "      <th>...</th>\n",
       "      <th>income</th>\n",
       "      <th>reward</th>\n",
       "      <th>difficulty</th>\n",
       "      <th>duration</th>\n",
       "      <th>offer_type</th>\n",
       "      <th>email</th>\n",
       "      <th>mobile</th>\n",
       "      <th>social</th>\n",
       "      <th>web</th>\n",
       "      <th>event_id</th>\n",
       "    </tr>\n",
       "  </thead>\n",
       "  <tbody>\n",
       "    <tr>\n",
       "      <th>0</th>\n",
       "      <td>78afa995795e4d85b5d9ceeca43f5fef</td>\n",
       "      <td>offer-received</td>\n",
       "      <td>0</td>\n",
       "      <td>False</td>\n",
       "      <td>True</td>\n",
       "      <td>False</td>\n",
       "      <td>False</td>\n",
       "      <td>0.0</td>\n",
       "      <td>NaN</td>\n",
       "      <td>2.0</td>\n",
       "      <td>...</td>\n",
       "      <td>100000.0</td>\n",
       "      <td>5.0</td>\n",
       "      <td>5.0</td>\n",
       "      <td>7.0</td>\n",
       "      <td>0.0</td>\n",
       "      <td>1.0</td>\n",
       "      <td>1.0</td>\n",
       "      <td>0.0</td>\n",
       "      <td>1.0</td>\n",
       "      <td>0</td>\n",
       "    </tr>\n",
       "    <tr>\n",
       "      <th>1</th>\n",
       "      <td>a03223e636434f42ac4c3df47e8bac43</td>\n",
       "      <td>offer-received</td>\n",
       "      <td>0</td>\n",
       "      <td>False</td>\n",
       "      <td>True</td>\n",
       "      <td>False</td>\n",
       "      <td>False</td>\n",
       "      <td>1.0</td>\n",
       "      <td>NaN</td>\n",
       "      <td>NaN</td>\n",
       "      <td>...</td>\n",
       "      <td>NaN</td>\n",
       "      <td>5.0</td>\n",
       "      <td>20.0</td>\n",
       "      <td>10.0</td>\n",
       "      <td>1.0</td>\n",
       "      <td>1.0</td>\n",
       "      <td>0.0</td>\n",
       "      <td>0.0</td>\n",
       "      <td>1.0</td>\n",
       "      <td>0</td>\n",
       "    </tr>\n",
       "    <tr>\n",
       "      <th>2</th>\n",
       "      <td>e2127556f4f64592b11af22de27a7932</td>\n",
       "      <td>offer-received</td>\n",
       "      <td>0</td>\n",
       "      <td>False</td>\n",
       "      <td>True</td>\n",
       "      <td>False</td>\n",
       "      <td>False</td>\n",
       "      <td>2.0</td>\n",
       "      <td>NaN</td>\n",
       "      <td>1.0</td>\n",
       "      <td>...</td>\n",
       "      <td>70000.0</td>\n",
       "      <td>2.0</td>\n",
       "      <td>10.0</td>\n",
       "      <td>7.0</td>\n",
       "      <td>1.0</td>\n",
       "      <td>1.0</td>\n",
       "      <td>1.0</td>\n",
       "      <td>0.0</td>\n",
       "      <td>1.0</td>\n",
       "      <td>0</td>\n",
       "    </tr>\n",
       "    <tr>\n",
       "      <th>3</th>\n",
       "      <td>8ec6ce2a7e7949b1bf142def7d0e0586</td>\n",
       "      <td>offer-received</td>\n",
       "      <td>0</td>\n",
       "      <td>False</td>\n",
       "      <td>True</td>\n",
       "      <td>False</td>\n",
       "      <td>False</td>\n",
       "      <td>3.0</td>\n",
       "      <td>NaN</td>\n",
       "      <td>NaN</td>\n",
       "      <td>...</td>\n",
       "      <td>NaN</td>\n",
       "      <td>2.0</td>\n",
       "      <td>10.0</td>\n",
       "      <td>10.0</td>\n",
       "      <td>1.0</td>\n",
       "      <td>1.0</td>\n",
       "      <td>1.0</td>\n",
       "      <td>1.0</td>\n",
       "      <td>1.0</td>\n",
       "      <td>0</td>\n",
       "    </tr>\n",
       "    <tr>\n",
       "      <th>4</th>\n",
       "      <td>68617ca6246f4fbc85e91a2a49552598</td>\n",
       "      <td>offer-received</td>\n",
       "      <td>0</td>\n",
       "      <td>False</td>\n",
       "      <td>True</td>\n",
       "      <td>False</td>\n",
       "      <td>False</td>\n",
       "      <td>4.0</td>\n",
       "      <td>NaN</td>\n",
       "      <td>NaN</td>\n",
       "      <td>...</td>\n",
       "      <td>NaN</td>\n",
       "      <td>10.0</td>\n",
       "      <td>10.0</td>\n",
       "      <td>5.0</td>\n",
       "      <td>0.0</td>\n",
       "      <td>1.0</td>\n",
       "      <td>1.0</td>\n",
       "      <td>1.0</td>\n",
       "      <td>1.0</td>\n",
       "      <td>0</td>\n",
       "    </tr>\n",
       "  </tbody>\n",
       "</table>\n",
       "<p>5 rows × 22 columns</p>\n",
       "</div>"
      ],
      "text/plain": [
       "                        customer_id           event  time  offer-completed  \\\n",
       "0  78afa995795e4d85b5d9ceeca43f5fef  offer-received     0            False   \n",
       "1  a03223e636434f42ac4c3df47e8bac43  offer-received     0            False   \n",
       "2  e2127556f4f64592b11af22de27a7932  offer-received     0            False   \n",
       "3  8ec6ce2a7e7949b1bf142def7d0e0586  offer-received     0            False   \n",
       "4  68617ca6246f4fbc85e91a2a49552598  offer-received     0            False   \n",
       "\n",
       "   offer-received  offer-viewed  transaction  offer_id  amount  gender  ...  \\\n",
       "0            True         False        False       0.0     NaN     2.0  ...   \n",
       "1            True         False        False       1.0     NaN     NaN  ...   \n",
       "2            True         False        False       2.0     NaN     1.0  ...   \n",
       "3            True         False        False       3.0     NaN     NaN  ...   \n",
       "4            True         False        False       4.0     NaN     NaN  ...   \n",
       "\n",
       "     income reward  difficulty  duration  offer_type  email  mobile  social  \\\n",
       "0  100000.0    5.0         5.0       7.0         0.0    1.0     1.0     0.0   \n",
       "1       NaN    5.0        20.0      10.0         1.0    1.0     0.0     0.0   \n",
       "2   70000.0    2.0        10.0       7.0         1.0    1.0     1.0     0.0   \n",
       "3       NaN    2.0        10.0      10.0         1.0    1.0     1.0     1.0   \n",
       "4       NaN   10.0        10.0       5.0         0.0    1.0     1.0     1.0   \n",
       "\n",
       "   web  event_id  \n",
       "0  1.0         0  \n",
       "1  1.0         0  \n",
       "2  1.0         0  \n",
       "3  1.0         0  \n",
       "4  1.0         0  \n",
       "\n",
       "[5 rows x 22 columns]"
      ]
     },
     "execution_count": 74,
     "metadata": {},
     "output_type": "execute_result"
    }
   ],
   "source": [
    "data.head()"
   ]
  },
  {
   "cell_type": "code",
   "execution_count": 75,
   "metadata": {},
   "outputs": [
    {
     "data": {
      "text/plain": [
       "Index(['customer_id', 'event', 'time', 'offer-completed', 'offer-received',\n",
       "       'offer-viewed', 'transaction', 'offer_id', 'amount', 'gender', 'age',\n",
       "       'became_member_on', 'income', 'reward', 'difficulty', 'duration',\n",
       "       'offer_type', 'email', 'mobile', 'social', 'web', 'event_id'],\n",
       "      dtype='object')"
      ]
     },
     "execution_count": 75,
     "metadata": {},
     "output_type": "execute_result"
    }
   ],
   "source": [
    "data.columns"
   ]
  },
  {
   "cell_type": "code",
   "execution_count": 76,
   "metadata": {},
   "outputs": [],
   "source": [
    "X = data.drop(['customer_id', 'event_id' , 'event' , 'became_member_on','offer-completed', 'offer-received',\n",
    "       'offer-viewed', 'transaction'], axis=1)\n",
    "Y = data['event_id']"
   ]
  },
  {
   "cell_type": "code",
   "execution_count": 77,
   "metadata": {},
   "outputs": [
    {
     "data": {
      "text/plain": [
       "((306534, 14), (306534,))"
      ]
     },
     "execution_count": 77,
     "metadata": {},
     "output_type": "execute_result"
    }
   ],
   "source": [
    "X.shape , Y.shape"
   ]
  },
  {
   "cell_type": "markdown",
   "metadata": {},
   "source": [
    "### Feature Scaling\n",
    "\n",
    "**Standardization & Normalization:**\n",
    "\n",
    "- **Normalization:** This technique scales values so they fall within a range of 0 to 1, also known as Min-Max scaling. It shifts and resizes the data, making it useful when you want to compare different scales of features directly.\n",
    "\n",
    "- **Standardization:** In this technique, values are centered around the mean and scaled to have a unit standard deviation. This process results in a distribution where the mean is zero and the standard deviation is one, making it useful for algorithms that assume normally distributed data.\n"
   ]
  },
  {
   "cell_type": "code",
   "execution_count": 78,
   "metadata": {},
   "outputs": [
    {
     "name": "stdout",
     "output_type": "stream",
     "text": [
      "(214573, 14) (91961, 14) (214573,) (91961,)\n"
     ]
    }
   ],
   "source": [
    "# Define class names\n",
    "class_names = ['offer received', 'offer viewed', 'transaction', 'offer completed']\n",
    "\n",
    "# Split the dataset into training and testing sets\n",
    "X_train, X_test, y_train, y_test = train_test_split(X, Y, test_size=0.3, random_state=42)\n",
    "\n",
    "# Display the shapes of the splits\n",
    "print(X_train.shape, X_test.shape, y_train.shape, y_test.shape)\n",
    "\n",
    "# Initialize the StandardScaler\n",
    "scaler = StandardScaler()\n",
    "\n",
    "# Apply standardization to the 'income' and 'age' columns in the training set\n",
    "X_train['income'] = scaler.fit_transform(X_train['income'].values.reshape(-1, 1))\n",
    "X_train['age'] = scaler.fit_transform(X_train['age'].values.reshape(-1, 1))\n",
    "\n",
    "# Reset the index and drop the old index column\n",
    "X_train.reset_index(drop=True, inplace=True)\n"
   ]
  },
  {
   "cell_type": "code",
   "execution_count": 79,
   "metadata": {},
   "outputs": [],
   "source": [
    "# Apply the same standardization to the 'income' and 'age' columns in the test set\n",
    "X_test['income'] = scaler.transform(X_test['income'].values.reshape(-1, 1))\n",
    "X_test['age'] = scaler.transform(X_test['age'].values.reshape(-1, 1))\n",
    "\n",
    "# Reset the index and drop the old index column\n",
    "X_test.reset_index(drop=True, inplace=True)\n"
   ]
  },
  {
   "cell_type": "code",
   "execution_count": 80,
   "metadata": {},
   "outputs": [
    {
     "data": {
      "text/plain": [
       "((214573, 14), (91961, 14))"
      ]
     },
     "execution_count": 80,
     "metadata": {},
     "output_type": "execute_result"
    }
   ],
   "source": [
    "X_train.shape, X_test.shape"
   ]
  },
  {
   "cell_type": "code",
   "execution_count": 81,
   "metadata": {},
   "outputs": [],
   "source": [
    "X_train = X_train.values\n",
    "X_test = X_test.values\n",
    "y_train = y_train.values\n",
    "y_test = y_test.values"
   ]
  },
  {
   "cell_type": "markdown",
   "metadata": {},
   "source": [
    "### Build a Model 1 "
   ]
  },
  {
   "cell_type": "code",
   "execution_count": 86,
   "metadata": {},
   "outputs": [],
   "source": [
    "model_keras = keras.models.Sequential()"
   ]
  },
  {
   "cell_type": "code",
   "execution_count": 87,
   "metadata": {},
   "outputs": [],
   "source": [
    "model_keras.add(keras.layers.Dense(6, activation='relu'))\n",
    "model_keras.add(keras.layers.Dense(6, activation='relu'))\n",
    "model_keras.add(keras.layers.Dense(4, activation = 'softmax'))"
   ]
  },
  {
   "cell_type": "code",
   "execution_count": 88,
   "metadata": {},
   "outputs": [],
   "source": [
    "model_keras.compile(optimizer = 'adam', \n",
    "            loss = 'sparse_categorical_crossentropy', \n",
    "            metrics = ['accuracy'])"
   ]
  },
  {
   "cell_type": "code",
   "execution_count": 89,
   "metadata": {},
   "outputs": [
    {
     "name": "stdout",
     "output_type": "stream",
     "text": [
      "Epoch 1/15\n",
      "2146/2146 - 6s - 3ms/step - accuracy: 0.4537 - loss: 1.2768 - val_accuracy: 0.4522 - val_loss: 1.2629\n",
      "Epoch 2/15\n",
      "2146/2146 - 5s - 3ms/step - accuracy: 0.4538 - loss: 1.2609 - val_accuracy: 0.4522 - val_loss: 1.2629\n",
      "Epoch 3/15\n",
      "2146/2146 - 8s - 4ms/step - accuracy: 0.4538 - loss: 1.2609 - val_accuracy: 0.4522 - val_loss: 1.2629\n",
      "Epoch 4/15\n",
      "2146/2146 - 4s - 2ms/step - accuracy: 0.4538 - loss: 1.2609 - val_accuracy: 0.4522 - val_loss: 1.2629\n",
      "Epoch 5/15\n",
      "2146/2146 - 5s - 2ms/step - accuracy: 0.4538 - loss: 1.2609 - val_accuracy: 0.4522 - val_loss: 1.2629\n",
      "Epoch 6/15\n",
      "2146/2146 - 3s - 2ms/step - accuracy: 0.4538 - loss: 1.2609 - val_accuracy: 0.4522 - val_loss: 1.2629\n",
      "Epoch 7/15\n",
      "2146/2146 - 3s - 1ms/step - accuracy: 0.4538 - loss: 1.2609 - val_accuracy: 0.4522 - val_loss: 1.2629\n",
      "Epoch 8/15\n",
      "2146/2146 - 3s - 2ms/step - accuracy: 0.4538 - loss: 1.2609 - val_accuracy: 0.4522 - val_loss: 1.2629\n",
      "Epoch 9/15\n",
      "2146/2146 - 5s - 2ms/step - accuracy: 0.4538 - loss: 1.2609 - val_accuracy: 0.4522 - val_loss: 1.2629\n",
      "Epoch 10/15\n",
      "2146/2146 - 3s - 2ms/step - accuracy: 0.4538 - loss: 1.2609 - val_accuracy: 0.4522 - val_loss: 1.2629\n",
      "Epoch 11/15\n",
      "2146/2146 - 5s - 2ms/step - accuracy: 0.4538 - loss: 1.2609 - val_accuracy: 0.4522 - val_loss: 1.2629\n",
      "Epoch 12/15\n",
      "2146/2146 - 5s - 2ms/step - accuracy: 0.4538 - loss: 1.2609 - val_accuracy: 0.4522 - val_loss: 1.2630\n",
      "Epoch 13/15\n",
      "2146/2146 - 4s - 2ms/step - accuracy: 0.4538 - loss: 1.2609 - val_accuracy: 0.4522 - val_loss: 1.2630\n",
      "Epoch 14/15\n",
      "2146/2146 - 4s - 2ms/step - accuracy: 0.4538 - loss: 1.2609 - val_accuracy: 0.4522 - val_loss: 1.2629\n",
      "Epoch 15/15\n",
      "2146/2146 - 4s - 2ms/step - accuracy: 0.4538 - loss: 1.2609 - val_accuracy: 0.4522 - val_loss: 1.2629\n"
     ]
    }
   ],
   "source": [
    "model_keras_history = model_keras.fit(X_train, y_train, validation_data=(X_test, y_test), epochs=15, batch_size=100 , verbose = 2)"
   ]
  },
  {
   "cell_type": "code",
   "execution_count": 90,
   "metadata": {},
   "outputs": [
    {
     "data": {
      "text/html": [
       "<pre style=\"white-space:pre;overflow-x:auto;line-height:normal;font-family:Menlo,'DejaVu Sans Mono',consolas,'Courier New',monospace\"><span style=\"font-weight: bold\">Model: \"sequential_2\"</span>\n",
       "</pre>\n"
      ],
      "text/plain": [
       "\u001b[1mModel: \"sequential_2\"\u001b[0m\n"
      ]
     },
     "metadata": {},
     "output_type": "display_data"
    },
    {
     "data": {
      "text/html": [
       "<pre style=\"white-space:pre;overflow-x:auto;line-height:normal;font-family:Menlo,'DejaVu Sans Mono',consolas,'Courier New',monospace\">┏━━━━━━━━━━━━━━━━━━━━━━━━━━━━━━━━━┳━━━━━━━━━━━━━━━━━━━━━━━━┳━━━━━━━━━━━━━━━┓\n",
       "┃<span style=\"font-weight: bold\"> Layer (type)                    </span>┃<span style=\"font-weight: bold\"> Output Shape           </span>┃<span style=\"font-weight: bold\">       Param # </span>┃\n",
       "┡━━━━━━━━━━━━━━━━━━━━━━━━━━━━━━━━━╇━━━━━━━━━━━━━━━━━━━━━━━━╇━━━━━━━━━━━━━━━┩\n",
       "│ dense_6 (<span style=\"color: #0087ff; text-decoration-color: #0087ff\">Dense</span>)                 │ (<span style=\"color: #00d7ff; text-decoration-color: #00d7ff\">None</span>, <span style=\"color: #00af00; text-decoration-color: #00af00\">6</span>)              │            <span style=\"color: #00af00; text-decoration-color: #00af00\">90</span> │\n",
       "├─────────────────────────────────┼────────────────────────┼───────────────┤\n",
       "│ dense_7 (<span style=\"color: #0087ff; text-decoration-color: #0087ff\">Dense</span>)                 │ (<span style=\"color: #00d7ff; text-decoration-color: #00d7ff\">None</span>, <span style=\"color: #00af00; text-decoration-color: #00af00\">6</span>)              │            <span style=\"color: #00af00; text-decoration-color: #00af00\">42</span> │\n",
       "├─────────────────────────────────┼────────────────────────┼───────────────┤\n",
       "│ dense_8 (<span style=\"color: #0087ff; text-decoration-color: #0087ff\">Dense</span>)                 │ (<span style=\"color: #00d7ff; text-decoration-color: #00d7ff\">None</span>, <span style=\"color: #00af00; text-decoration-color: #00af00\">4</span>)              │            <span style=\"color: #00af00; text-decoration-color: #00af00\">28</span> │\n",
       "└─────────────────────────────────┴────────────────────────┴───────────────┘\n",
       "</pre>\n"
      ],
      "text/plain": [
       "┏━━━━━━━━━━━━━━━━━━━━━━━━━━━━━━━━━┳━━━━━━━━━━━━━━━━━━━━━━━━┳━━━━━━━━━━━━━━━┓\n",
       "┃\u001b[1m \u001b[0m\u001b[1mLayer (type)                   \u001b[0m\u001b[1m \u001b[0m┃\u001b[1m \u001b[0m\u001b[1mOutput Shape          \u001b[0m\u001b[1m \u001b[0m┃\u001b[1m \u001b[0m\u001b[1m      Param #\u001b[0m\u001b[1m \u001b[0m┃\n",
       "┡━━━━━━━━━━━━━━━━━━━━━━━━━━━━━━━━━╇━━━━━━━━━━━━━━━━━━━━━━━━╇━━━━━━━━━━━━━━━┩\n",
       "│ dense_6 (\u001b[38;5;33mDense\u001b[0m)                 │ (\u001b[38;5;45mNone\u001b[0m, \u001b[38;5;34m6\u001b[0m)              │            \u001b[38;5;34m90\u001b[0m │\n",
       "├─────────────────────────────────┼────────────────────────┼───────────────┤\n",
       "│ dense_7 (\u001b[38;5;33mDense\u001b[0m)                 │ (\u001b[38;5;45mNone\u001b[0m, \u001b[38;5;34m6\u001b[0m)              │            \u001b[38;5;34m42\u001b[0m │\n",
       "├─────────────────────────────────┼────────────────────────┼───────────────┤\n",
       "│ dense_8 (\u001b[38;5;33mDense\u001b[0m)                 │ (\u001b[38;5;45mNone\u001b[0m, \u001b[38;5;34m4\u001b[0m)              │            \u001b[38;5;34m28\u001b[0m │\n",
       "└─────────────────────────────────┴────────────────────────┴───────────────┘\n"
      ]
     },
     "metadata": {},
     "output_type": "display_data"
    },
    {
     "data": {
      "text/html": [
       "<pre style=\"white-space:pre;overflow-x:auto;line-height:normal;font-family:Menlo,'DejaVu Sans Mono',consolas,'Courier New',monospace\"><span style=\"font-weight: bold\"> Total params: </span><span style=\"color: #00af00; text-decoration-color: #00af00\">482</span> (1.89 KB)\n",
       "</pre>\n"
      ],
      "text/plain": [
       "\u001b[1m Total params: \u001b[0m\u001b[38;5;34m482\u001b[0m (1.89 KB)\n"
      ]
     },
     "metadata": {},
     "output_type": "display_data"
    },
    {
     "data": {
      "text/html": [
       "<pre style=\"white-space:pre;overflow-x:auto;line-height:normal;font-family:Menlo,'DejaVu Sans Mono',consolas,'Courier New',monospace\"><span style=\"font-weight: bold\"> Trainable params: </span><span style=\"color: #00af00; text-decoration-color: #00af00\">160</span> (640.00 B)\n",
       "</pre>\n"
      ],
      "text/plain": [
       "\u001b[1m Trainable params: \u001b[0m\u001b[38;5;34m160\u001b[0m (640.00 B)\n"
      ]
     },
     "metadata": {},
     "output_type": "display_data"
    },
    {
     "data": {
      "text/html": [
       "<pre style=\"white-space:pre;overflow-x:auto;line-height:normal;font-family:Menlo,'DejaVu Sans Mono',consolas,'Courier New',monospace\"><span style=\"font-weight: bold\"> Non-trainable params: </span><span style=\"color: #00af00; text-decoration-color: #00af00\">0</span> (0.00 B)\n",
       "</pre>\n"
      ],
      "text/plain": [
       "\u001b[1m Non-trainable params: \u001b[0m\u001b[38;5;34m0\u001b[0m (0.00 B)\n"
      ]
     },
     "metadata": {},
     "output_type": "display_data"
    },
    {
     "data": {
      "text/html": [
       "<pre style=\"white-space:pre;overflow-x:auto;line-height:normal;font-family:Menlo,'DejaVu Sans Mono',consolas,'Courier New',monospace\"><span style=\"font-weight: bold\"> Optimizer params: </span><span style=\"color: #00af00; text-decoration-color: #00af00\">322</span> (1.26 KB)\n",
       "</pre>\n"
      ],
      "text/plain": [
       "\u001b[1m Optimizer params: \u001b[0m\u001b[38;5;34m322\u001b[0m (1.26 KB)\n"
      ]
     },
     "metadata": {},
     "output_type": "display_data"
    }
   ],
   "source": [
    "model_keras.summary()   "
   ]
  },
  {
   "cell_type": "code",
   "execution_count": 91,
   "metadata": {},
   "outputs": [
    {
     "data": {
      "text/plain": [
       "{'verbose': 2, 'epochs': 15, 'steps': 2146}"
      ]
     },
     "execution_count": 91,
     "metadata": {},
     "output_type": "execute_result"
    }
   ],
   "source": [
    "model_keras.history.params"
   ]
  },
  {
   "cell_type": "code",
   "execution_count": 92,
   "metadata": {},
   "outputs": [
    {
     "data": {
      "image/png": "[encoded data removed]",
      "text/plain": [
       "<Figure size 800x500 with 1 Axes>"
      ]
     },
     "metadata": {},
     "output_type": "display_data"
    }
   ],
   "source": [
    "pd.DataFrame(model_keras.history.history).plot(figsize=(8,5))\n",
    "plt.grid(True)\n",
    "plt.gca().set_ylim(0,1)               # Y AXIS RANGE LIMIT \n",
    "plt.show()"
   ]
  },
  {
   "cell_type": "markdown",
   "metadata": {},
   "source": [
    "### Evaluation Metrics\n",
    "\n",
    "- **Accuracy:** The model's performance can be evaluated based on the accuracy, which measures the proportion of correctly predicted instances out of the total instances.\n",
    "- **Loss:** Another key metric is the loss, which indicates how well the model's predictions match the true labels. Lower loss values signify better model performance.\n"
   ]
  },
  {
   "cell_type": "code",
   "execution_count": 103,
   "metadata": {},
   "outputs": [
    {
     "ename": "InvalidArgumentError",
     "evalue": "Graph execution error:\n\nDetected at node sequential_2_1/dense_6_1/Relu defined at (most recent call last):\n  File \"<frozen runpy>\", line 198, in _run_module_as_main\n\n  File \"<frozen runpy>\", line 88, in _run_code\n\n  File \"c:\\Users\\feyza.cotuk\\AppData\\Local\\anaconda3\\envs\\ava\\Lib\\site-packages\\ipykernel_launcher.py\", line 18, in <module>\n\n  File \"c:\\Users\\feyza.cotuk\\AppData\\Local\\anaconda3\\envs\\ava\\Lib\\site-packages\\traitlets\\config\\application.py\", line 1075, in launch_instance\n\n  File \"c:\\Users\\feyza.cotuk\\AppData\\Local\\anaconda3\\envs\\ava\\Lib\\site-packages\\ipykernel\\kernelapp.py\", line 739, in start\n\n  File \"c:\\Users\\feyza.cotuk\\AppData\\Local\\anaconda3\\envs\\ava\\Lib\\site-packages\\tornado\\platform\\asyncio.py\", line 205, in start\n\n  File \"c:\\Users\\feyza.cotuk\\AppData\\Local\\anaconda3\\envs\\ava\\Lib\\asyncio\\base_events.py\", line 608, in run_forever\n\n  File \"c:\\Users\\feyza.cotuk\\AppData\\Local\\anaconda3\\envs\\ava\\Lib\\asyncio\\base_events.py\", line 1936, in _run_once\n\n  File \"c:\\Users\\feyza.cotuk\\AppData\\Local\\anaconda3\\envs\\ava\\Lib\\asyncio\\events.py\", line 84, in _run\n\n  File \"c:\\Users\\feyza.cotuk\\AppData\\Local\\anaconda3\\envs\\ava\\Lib\\site-packages\\ipykernel\\kernelbase.py\", line 545, in dispatch_queue\n\n  File \"c:\\Users\\feyza.cotuk\\AppData\\Local\\anaconda3\\envs\\ava\\Lib\\site-packages\\ipykernel\\kernelbase.py\", line 534, in process_one\n\n  File \"c:\\Users\\feyza.cotuk\\AppData\\Local\\anaconda3\\envs\\ava\\Lib\\site-packages\\ipykernel\\kernelbase.py\", line 437, in dispatch_shell\n\n  File \"c:\\Users\\feyza.cotuk\\AppData\\Local\\anaconda3\\envs\\ava\\Lib\\site-packages\\ipykernel\\ipkernel.py\", line 362, in execute_request\n\n  File \"c:\\Users\\feyza.cotuk\\AppData\\Local\\anaconda3\\envs\\ava\\Lib\\site-packages\\ipykernel\\kernelbase.py\", line 778, in execute_request\n\n  File \"c:\\Users\\feyza.cotuk\\AppData\\Local\\anaconda3\\envs\\ava\\Lib\\site-packages\\ipykernel\\ipkernel.py\", line 449, in do_execute\n\n  File \"c:\\Users\\feyza.cotuk\\AppData\\Local\\anaconda3\\envs\\ava\\Lib\\site-packages\\ipykernel\\zmqshell.py\", line 549, in run_cell\n\n  File \"c:\\Users\\feyza.cotuk\\AppData\\Local\\anaconda3\\envs\\ava\\Lib\\site-packages\\IPython\\core\\interactiveshell.py\", line 3075, in run_cell\n\n  File \"c:\\Users\\feyza.cotuk\\AppData\\Local\\anaconda3\\envs\\ava\\Lib\\site-packages\\IPython\\core\\interactiveshell.py\", line 3130, in _run_cell\n\n  File \"c:\\Users\\feyza.cotuk\\AppData\\Local\\anaconda3\\envs\\ava\\Lib\\site-packages\\IPython\\core\\async_helpers.py\", line 129, in _pseudo_sync_runner\n\n  File \"c:\\Users\\feyza.cotuk\\AppData\\Local\\anaconda3\\envs\\ava\\Lib\\site-packages\\IPython\\core\\interactiveshell.py\", line 3334, in run_cell_async\n\n  File \"c:\\Users\\feyza.cotuk\\AppData\\Local\\anaconda3\\envs\\ava\\Lib\\site-packages\\IPython\\core\\interactiveshell.py\", line 3517, in run_ast_nodes\n\n  File \"c:\\Users\\feyza.cotuk\\AppData\\Local\\anaconda3\\envs\\ava\\Lib\\site-packages\\IPython\\core\\interactiveshell.py\", line 3577, in run_code\n\n  File \"C:\\Users\\feyza.cotuk\\AppData\\Local\\Temp\\ipykernel_592\\2573822495.py\", line 1, in <module>\n\n  File \"c:\\Users\\feyza.cotuk\\AppData\\Local\\anaconda3\\envs\\ava\\Lib\\site-packages\\keras\\src\\utils\\traceback_utils.py\", line 117, in error_handler\n\n  File \"c:\\Users\\feyza.cotuk\\AppData\\Local\\anaconda3\\envs\\ava\\Lib\\site-packages\\keras\\src\\backend\\tensorflow\\trainer.py\", line 433, in evaluate\n\n  File \"c:\\Users\\feyza.cotuk\\AppData\\Local\\anaconda3\\envs\\ava\\Lib\\site-packages\\keras\\src\\backend\\tensorflow\\trainer.py\", line 165, in one_step_on_iterator\n\n  File \"c:\\Users\\feyza.cotuk\\AppData\\Local\\anaconda3\\envs\\ava\\Lib\\site-packages\\keras\\src\\backend\\tensorflow\\trainer.py\", line 154, in one_step_on_data\n\n  File \"c:\\Users\\feyza.cotuk\\AppData\\Local\\anaconda3\\envs\\ava\\Lib\\site-packages\\keras\\src\\backend\\tensorflow\\trainer.py\", line 82, in test_step\n\n  File \"c:\\Users\\feyza.cotuk\\AppData\\Local\\anaconda3\\envs\\ava\\Lib\\site-packages\\keras\\src\\utils\\traceback_utils.py\", line 117, in error_handler\n\n  File \"c:\\Users\\feyza.cotuk\\AppData\\Local\\anaconda3\\envs\\ava\\Lib\\site-packages\\keras\\src\\layers\\layer.py\", line 901, in __call__\n\n  File \"c:\\Users\\feyza.cotuk\\AppData\\Local\\anaconda3\\envs\\ava\\Lib\\site-packages\\keras\\src\\utils\\traceback_utils.py\", line 117, in error_handler\n\n  File \"c:\\Users\\feyza.cotuk\\AppData\\Local\\anaconda3\\envs\\ava\\Lib\\site-packages\\keras\\src\\ops\\operation.py\", line 46, in __call__\n\n  File \"c:\\Users\\feyza.cotuk\\AppData\\Local\\anaconda3\\envs\\ava\\Lib\\site-packages\\keras\\src\\utils\\traceback_utils.py\", line 156, in error_handler\n\n  File \"c:\\Users\\feyza.cotuk\\AppData\\Local\\anaconda3\\envs\\ava\\Lib\\site-packages\\keras\\src\\models\\sequential.py\", line 212, in call\n\n  File \"c:\\Users\\feyza.cotuk\\AppData\\Local\\anaconda3\\envs\\ava\\Lib\\site-packages\\keras\\src\\models\\functional.py\", line 175, in call\n\n  File \"c:\\Users\\feyza.cotuk\\AppData\\Local\\anaconda3\\envs\\ava\\Lib\\site-packages\\keras\\src\\ops\\function.py\", line 171, in _run_through_graph\n\n  File \"c:\\Users\\feyza.cotuk\\AppData\\Local\\anaconda3\\envs\\ava\\Lib\\site-packages\\keras\\src\\models\\functional.py\", line 560, in call\n\n  File \"c:\\Users\\feyza.cotuk\\AppData\\Local\\anaconda3\\envs\\ava\\Lib\\site-packages\\keras\\src\\utils\\traceback_utils.py\", line 117, in error_handler\n\n  File \"c:\\Users\\feyza.cotuk\\AppData\\Local\\anaconda3\\envs\\ava\\Lib\\site-packages\\keras\\src\\layers\\layer.py\", line 901, in __call__\n\n  File \"c:\\Users\\feyza.cotuk\\AppData\\Local\\anaconda3\\envs\\ava\\Lib\\site-packages\\keras\\src\\utils\\traceback_utils.py\", line 117, in error_handler\n\n  File \"c:\\Users\\feyza.cotuk\\AppData\\Local\\anaconda3\\envs\\ava\\Lib\\site-packages\\keras\\src\\ops\\operation.py\", line 46, in __call__\n\n  File \"c:\\Users\\feyza.cotuk\\AppData\\Local\\anaconda3\\envs\\ava\\Lib\\site-packages\\keras\\src\\utils\\traceback_utils.py\", line 156, in error_handler\n\n  File \"c:\\Users\\feyza.cotuk\\AppData\\Local\\anaconda3\\envs\\ava\\Lib\\site-packages\\keras\\src\\layers\\core\\dense.py\", line 148, in call\n\n  File \"c:\\Users\\feyza.cotuk\\AppData\\Local\\anaconda3\\envs\\ava\\Lib\\site-packages\\keras\\src\\activations\\activations.py\", line 47, in relu\n\n  File \"c:\\Users\\feyza.cotuk\\AppData\\Local\\anaconda3\\envs\\ava\\Lib\\site-packages\\keras\\src\\activations\\activations.py\", line 99, in static_call\n\n  File \"c:\\Users\\feyza.cotuk\\AppData\\Local\\anaconda3\\envs\\ava\\Lib\\site-packages\\keras\\src\\backend\\tensorflow\\nn.py\", line 15, in relu\n\nMatrix size-incompatible: In[0]: [32,7], In[1]: [14,6]\n\t [[{{node sequential_2_1/dense_6_1/Relu}}]] [Op:__inference_one_step_on_iterator_101154]",
     "output_type": "error",
     "traceback": [
      "\u001b[1;31m---------------------------------------------------------------------------\u001b[0m",
      "\u001b[1;31mInvalidArgumentError\u001b[0m                      Traceback (most recent call last)",
      "Cell \u001b[1;32mIn[103], line 1\u001b[0m\n\u001b[1;32m----> 1\u001b[0m \u001b[43mmodel_keras\u001b[49m\u001b[38;5;241;43m.\u001b[39;49m\u001b[43mevaluate\u001b[49m\u001b[43m(\u001b[49m\u001b[43mX_test\u001b[49m\u001b[43m \u001b[49m\u001b[43m,\u001b[49m\u001b[43m \u001b[49m\u001b[43my_test\u001b[49m\u001b[43m)\u001b[49m\n",
      "File \u001b[1;32mc:\\Users\\feyza.cotuk\\AppData\\Local\\anaconda3\\envs\\ava\\Lib\\site-packages\\keras\\src\\utils\\traceback_utils.py:122\u001b[0m, in \u001b[0;36mfilter_traceback.<locals>.error_handler\u001b[1;34m(*args, **kwargs)\u001b[0m\n\u001b[0;32m    119\u001b[0m     filtered_tb \u001b[38;5;241m=\u001b[39m _process_traceback_frames(e\u001b[38;5;241m.\u001b[39m__traceback__)\n\u001b[0;32m    120\u001b[0m     \u001b[38;5;66;03m# To get the full stack trace, call:\u001b[39;00m\n\u001b[0;32m    121\u001b[0m     \u001b[38;5;66;03m# `keras.config.disable_traceback_filtering()`\u001b[39;00m\n\u001b[1;32m--> 122\u001b[0m     \u001b[38;5;28;01mraise\u001b[39;00m e\u001b[38;5;241m.\u001b[39mwith_traceback(filtered_tb) \u001b[38;5;28;01mfrom\u001b[39;00m \u001b[38;5;28;01mNone\u001b[39;00m\n\u001b[0;32m    123\u001b[0m \u001b[38;5;28;01mfinally\u001b[39;00m:\n\u001b[0;32m    124\u001b[0m     \u001b[38;5;28;01mdel\u001b[39;00m filtered_tb\n",
      "File \u001b[1;32mc:\\Users\\feyza.cotuk\\AppData\\Local\\anaconda3\\envs\\ava\\Lib\\site-packages\\tensorflow\\python\\eager\\execute.py:53\u001b[0m, in \u001b[0;36mquick_execute\u001b[1;34m(op_name, num_outputs, inputs, attrs, ctx, name)\u001b[0m\n\u001b[0;32m     51\u001b[0m \u001b[38;5;28;01mtry\u001b[39;00m:\n\u001b[0;32m     52\u001b[0m   ctx\u001b[38;5;241m.\u001b[39mensure_initialized()\n\u001b[1;32m---> 53\u001b[0m   tensors \u001b[38;5;241m=\u001b[39m pywrap_tfe\u001b[38;5;241m.\u001b[39mTFE_Py_Execute(ctx\u001b[38;5;241m.\u001b[39m_handle, device_name, op_name,\n\u001b[0;32m     54\u001b[0m                                       inputs, attrs, num_outputs)\n\u001b[0;32m     55\u001b[0m \u001b[38;5;28;01mexcept\u001b[39;00m core\u001b[38;5;241m.\u001b[39m_NotOkStatusException \u001b[38;5;28;01mas\u001b[39;00m e:\n\u001b[0;32m     56\u001b[0m   \u001b[38;5;28;01mif\u001b[39;00m name \u001b[38;5;129;01mis\u001b[39;00m \u001b[38;5;129;01mnot\u001b[39;00m \u001b[38;5;28;01mNone\u001b[39;00m:\n",
      "\u001b[1;31mInvalidArgumentError\u001b[0m: Graph execution error:\n\nDetected at node sequential_2_1/dense_6_1/Relu defined at (most recent call last):\n  File \"<frozen runpy>\", line 198, in _run_module_as_main\n\n  File \"<frozen runpy>\", line 88, in _run_code\n\n  File \"c:\\Users\\feyza.cotuk\\AppData\\Local\\anaconda3\\envs\\ava\\Lib\\site-packages\\ipykernel_launcher.py\", line 18, in <module>\n\n  File \"c:\\Users\\feyza.cotuk\\AppData\\Local\\anaconda3\\envs\\ava\\Lib\\site-packages\\traitlets\\config\\application.py\", line 1075, in launch_instance\n\n  File \"c:\\Users\\feyza.cotuk\\AppData\\Local\\anaconda3\\envs\\ava\\Lib\\site-packages\\ipykernel\\kernelapp.py\", line 739, in start\n\n  File \"c:\\Users\\feyza.cotuk\\AppData\\Local\\anaconda3\\envs\\ava\\Lib\\site-packages\\tornado\\platform\\asyncio.py\", line 205, in start\n\n  File \"c:\\Users\\feyza.cotuk\\AppData\\Local\\anaconda3\\envs\\ava\\Lib\\asyncio\\base_events.py\", line 608, in run_forever\n\n  File \"c:\\Users\\feyza.cotuk\\AppData\\Local\\anaconda3\\envs\\ava\\Lib\\asyncio\\base_events.py\", line 1936, in _run_once\n\n  File \"c:\\Users\\feyza.cotuk\\AppData\\Local\\anaconda3\\envs\\ava\\Lib\\asyncio\\events.py\", line 84, in _run\n\n  File \"c:\\Users\\feyza.cotuk\\AppData\\Local\\anaconda3\\envs\\ava\\Lib\\site-packages\\ipykernel\\kernelbase.py\", line 545, in dispatch_queue\n\n  File \"c:\\Users\\feyza.cotuk\\AppData\\Local\\anaconda3\\envs\\ava\\Lib\\site-packages\\ipykernel\\kernelbase.py\", line 534, in process_one\n\n  File \"c:\\Users\\feyza.cotuk\\AppData\\Local\\anaconda3\\envs\\ava\\Lib\\site-packages\\ipykernel\\kernelbase.py\", line 437, in dispatch_shell\n\n  File \"c:\\Users\\feyza.cotuk\\AppData\\Local\\anaconda3\\envs\\ava\\Lib\\site-packages\\ipykernel\\ipkernel.py\", line 362, in execute_request\n\n  File \"c:\\Users\\feyza.cotuk\\AppData\\Local\\anaconda3\\envs\\ava\\Lib\\site-packages\\ipykernel\\kernelbase.py\", line 778, in execute_request\n\n  File \"c:\\Users\\feyza.cotuk\\AppData\\Local\\anaconda3\\envs\\ava\\Lib\\site-packages\\ipykernel\\ipkernel.py\", line 449, in do_execute\n\n  File \"c:\\Users\\feyza.cotuk\\AppData\\Local\\anaconda3\\envs\\ava\\Lib\\site-packages\\ipykernel\\zmqshell.py\", line 549, in run_cell\n\n  File \"c:\\Users\\feyza.cotuk\\AppData\\Local\\anaconda3\\envs\\ava\\Lib\\site-packages\\IPython\\core\\interactiveshell.py\", line 3075, in run_cell\n\n  File \"c:\\Users\\feyza.cotuk\\AppData\\Local\\anaconda3\\envs\\ava\\Lib\\site-packages\\IPython\\core\\interactiveshell.py\", line 3130, in _run_cell\n\n  File \"c:\\Users\\feyza.cotuk\\AppData\\Local\\anaconda3\\envs\\ava\\Lib\\site-packages\\IPython\\core\\async_helpers.py\", line 129, in _pseudo_sync_runner\n\n  File \"c:\\Users\\feyza.cotuk\\AppData\\Local\\anaconda3\\envs\\ava\\Lib\\site-packages\\IPython\\core\\interactiveshell.py\", line 3334, in run_cell_async\n\n  File \"c:\\Users\\feyza.cotuk\\AppData\\Local\\anaconda3\\envs\\ava\\Lib\\site-packages\\IPython\\core\\interactiveshell.py\", line 3517, in run_ast_nodes\n\n  File \"c:\\Users\\feyza.cotuk\\AppData\\Local\\anaconda3\\envs\\ava\\Lib\\site-packages\\IPython\\core\\interactiveshell.py\", line 3577, in run_code\n\n  File \"C:\\Users\\feyza.cotuk\\AppData\\Local\\Temp\\ipykernel_592\\2573822495.py\", line 1, in <module>\n\n  File \"c:\\Users\\feyza.cotuk\\AppData\\Local\\anaconda3\\envs\\ava\\Lib\\site-packages\\keras\\src\\utils\\traceback_utils.py\", line 117, in error_handler\n\n  File \"c:\\Users\\feyza.cotuk\\AppData\\Local\\anaconda3\\envs\\ava\\Lib\\site-packages\\keras\\src\\backend\\tensorflow\\trainer.py\", line 433, in evaluate\n\n  File \"c:\\Users\\feyza.cotuk\\AppData\\Local\\anaconda3\\envs\\ava\\Lib\\site-packages\\keras\\src\\backend\\tensorflow\\trainer.py\", line 165, in one_step_on_iterator\n\n  File \"c:\\Users\\feyza.cotuk\\AppData\\Local\\anaconda3\\envs\\ava\\Lib\\site-packages\\keras\\src\\backend\\tensorflow\\trainer.py\", line 154, in one_step_on_data\n\n  File \"c:\\Users\\feyza.cotuk\\AppData\\Local\\anaconda3\\envs\\ava\\Lib\\site-packages\\keras\\src\\backend\\tensorflow\\trainer.py\", line 82, in test_step\n\n  File \"c:\\Users\\feyza.cotuk\\AppData\\Local\\anaconda3\\envs\\ava\\Lib\\site-packages\\keras\\src\\utils\\traceback_utils.py\", line 117, in error_handler\n\n  File \"c:\\Users\\feyza.cotuk\\AppData\\Local\\anaconda3\\envs\\ava\\Lib\\site-packages\\keras\\src\\layers\\layer.py\", line 901, in __call__\n\n  File \"c:\\Users\\feyza.cotuk\\AppData\\Local\\anaconda3\\envs\\ava\\Lib\\site-packages\\keras\\src\\utils\\traceback_utils.py\", line 117, in error_handler\n\n  File \"c:\\Users\\feyza.cotuk\\AppData\\Local\\anaconda3\\envs\\ava\\Lib\\site-packages\\keras\\src\\ops\\operation.py\", line 46, in __call__\n\n  File \"c:\\Users\\feyza.cotuk\\AppData\\Local\\anaconda3\\envs\\ava\\Lib\\site-packages\\keras\\src\\utils\\traceback_utils.py\", line 156, in error_handler\n\n  File \"c:\\Users\\feyza.cotuk\\AppData\\Local\\anaconda3\\envs\\ava\\Lib\\site-packages\\keras\\src\\models\\sequential.py\", line 212, in call\n\n  File \"c:\\Users\\feyza.cotuk\\AppData\\Local\\anaconda3\\envs\\ava\\Lib\\site-packages\\keras\\src\\models\\functional.py\", line 175, in call\n\n  File \"c:\\Users\\feyza.cotuk\\AppData\\Local\\anaconda3\\envs\\ava\\Lib\\site-packages\\keras\\src\\ops\\function.py\", line 171, in _run_through_graph\n\n  File \"c:\\Users\\feyza.cotuk\\AppData\\Local\\anaconda3\\envs\\ava\\Lib\\site-packages\\keras\\src\\models\\functional.py\", line 560, in call\n\n  File \"c:\\Users\\feyza.cotuk\\AppData\\Local\\anaconda3\\envs\\ava\\Lib\\site-packages\\keras\\src\\utils\\traceback_utils.py\", line 117, in error_handler\n\n  File \"c:\\Users\\feyza.cotuk\\AppData\\Local\\anaconda3\\envs\\ava\\Lib\\site-packages\\keras\\src\\layers\\layer.py\", line 901, in __call__\n\n  File \"c:\\Users\\feyza.cotuk\\AppData\\Local\\anaconda3\\envs\\ava\\Lib\\site-packages\\keras\\src\\utils\\traceback_utils.py\", line 117, in error_handler\n\n  File \"c:\\Users\\feyza.cotuk\\AppData\\Local\\anaconda3\\envs\\ava\\Lib\\site-packages\\keras\\src\\ops\\operation.py\", line 46, in __call__\n\n  File \"c:\\Users\\feyza.cotuk\\AppData\\Local\\anaconda3\\envs\\ava\\Lib\\site-packages\\keras\\src\\utils\\traceback_utils.py\", line 156, in error_handler\n\n  File \"c:\\Users\\feyza.cotuk\\AppData\\Local\\anaconda3\\envs\\ava\\Lib\\site-packages\\keras\\src\\layers\\core\\dense.py\", line 148, in call\n\n  File \"c:\\Users\\feyza.cotuk\\AppData\\Local\\anaconda3\\envs\\ava\\Lib\\site-packages\\keras\\src\\activations\\activations.py\", line 47, in relu\n\n  File \"c:\\Users\\feyza.cotuk\\AppData\\Local\\anaconda3\\envs\\ava\\Lib\\site-packages\\keras\\src\\activations\\activations.py\", line 99, in static_call\n\n  File \"c:\\Users\\feyza.cotuk\\AppData\\Local\\anaconda3\\envs\\ava\\Lib\\site-packages\\keras\\src\\backend\\tensorflow\\nn.py\", line 15, in relu\n\nMatrix size-incompatible: In[0]: [32,7], In[1]: [14,6]\n\t [[{{node sequential_2_1/dense_6_1/Relu}}]] [Op:__inference_one_step_on_iterator_101154]"
     ]
    }
   ],
   "source": [
    "model_keras.evaluate(X_test , y_test)"
   ]
  },
  {
   "cell_type": "markdown",
   "metadata": {},
   "source": [
    "\n",
    "### Observation:\n",
    "#### Model Performance:\n",
    "\n",
    "- **Accuracy:** Achieved ~45.23%, indicating moderate predictive capability.\n",
    "- **Loss**: Final loss of ~1.2629 suggests room for improvement.\n",
    "\n",
    "#### Model Complexity:\n",
    "A simple architecture with 3 layers and 482 trainable parameters, which may limit performance.\n",
    "\n",
    "#### Next Steps:\n",
    "Consider tuning hyperparameters or increasing model complexity to enhance accuracy."
   ]
  },
  {
   "cell_type": "markdown",
   "metadata": {},
   "source": [
    "### Refinement: Improving Prediction Model\n",
    "\n",
    "- **Feature Selection:** Create a new `X` DataFrame by selecting highly recommended and dependent features to improve model predictions.\n",
    "- **Model Enhancement:**\n",
    "  - **More Hidden Layers:** Add additional hidden layers to the neural network to capture more complex patterns in the data.\n",
    "  - **More Hidden Units:** Increase the number of neurons in each hidden layer to enhance the model's learning capacity.\n"
   ]
  },
  {
   "cell_type": "code",
   "execution_count": 95,
   "metadata": {},
   "outputs": [
    {
     "data": {
      "text/plain": [
       "Index(['customer_id', 'event', 'time', 'offer-completed', 'offer-received',\n",
       "       'offer-viewed', 'transaction', 'offer_id', 'amount', 'gender', 'age',\n",
       "       'became_member_on', 'income', 'reward', 'difficulty', 'duration',\n",
       "       'offer_type', 'email', 'mobile', 'social', 'web', 'event_id'],\n",
       "      dtype='object')"
      ]
     },
     "execution_count": 95,
     "metadata": {},
     "output_type": "execute_result"
    }
   ],
   "source": [
    "data.columns"
   ]
  },
  {
   "cell_type": "code",
   "execution_count": 96,
   "metadata": {},
   "outputs": [],
   "source": [
    "\n",
    "X = data.drop(['customer_id', 'event_id' ,  'amount','event' , 'became_member_on','offer-completed', 'offer-received',\n",
    "       'offer-viewed','email', 'mobile', 'social', 'web', 'time','transaction', 'duration'], axis=1)\n",
    "Y = data['event_id']"
   ]
  },
  {
   "cell_type": "code",
   "execution_count": 97,
   "metadata": {},
   "outputs": [],
   "source": [
    "X_train, X_test, y_train, y_test = train_test_split(X, Y, test_size=0.3, random_state=42)"
   ]
  },
  {
   "cell_type": "code",
   "execution_count": 98,
   "metadata": {},
   "outputs": [
    {
     "data": {
      "text/plain": [
       "((214573, 7), (91961, 7), (214573,), (91961,))"
      ]
     },
     "execution_count": 98,
     "metadata": {},
     "output_type": "execute_result"
    }
   ],
   "source": [
    "X_train.shape, X_test.shape, y_train.shape, y_test.shape"
   ]
  },
  {
   "cell_type": "code",
   "execution_count": 100,
   "metadata": {},
   "outputs": [],
   "source": [
    "# Standardize the 'income' and 'age' columns in the training set\n",
    "X_train['income'] = scaler.fit_transform(X_train['income'].values.reshape(-1, 1))\n",
    "X_train['age'] = scaler.fit_transform(X_train['age'].values.reshape(-1, 1))\n",
    "\n",
    "# Reset the index and drop the old index column\n",
    "X_train.reset_index(drop=True, inplace=True)\n"
   ]
  },
  {
   "cell_type": "code",
   "execution_count": 101,
   "metadata": {},
   "outputs": [],
   "source": [
    "# Standardize the 'income' and 'age' columns in the test set\n",
    "X_test['income'] = scaler.transform(X_test['income'].values.reshape(-1, 1))\n",
    "X_test['age'] = scaler.transform(X_test['age'].values.reshape(-1, 1))\n",
    "\n",
    "# Reset the index and drop the old index column\n",
    "X_test.reset_index(drop=True, inplace=True)\n"
   ]
  },
  {
   "cell_type": "code",
   "execution_count": 102,
   "metadata": {},
   "outputs": [],
   "source": [
    "# Convert the pandas dataframe into numpy array\n",
    "\n",
    "X_train = X_train.values\n",
    "X_test = X_test.values\n",
    "y_train = y_train.values\n",
    "y_test = y_test.values"
   ]
  },
  {
   "cell_type": "markdown",
   "metadata": {},
   "source": [
    "### Build a Model 2"
   ]
  },
  {
   "cell_type": "code",
   "execution_count": 106,
   "metadata": {},
   "outputs": [],
   "source": [
    "# Initialize the Sequential model\n",
    "ann = keras.models.Sequential()\n",
    "\n",
    "# Add the first hidden layer with 32 neurons, specifying input dimensions and ReLU activation\n",
    "ann.add(keras.layers.Dense(units=32, input_dim=7, kernel_initializer='normal', activation='relu'))\n",
    "\n",
    "# Add the second hidden layer with 15 neurons and ReLU activation\n",
    "ann.add(keras.layers.Dense(units=15, kernel_initializer='normal', activation='relu'))\n",
    "\n",
    "# Add the third hidden layer with 10 neurons and ReLU activation\n",
    "ann.add(keras.layers.Dense(units=10, kernel_initializer='normal', activation='relu'))\n",
    "\n",
    "# Add the fourth hidden layer with 6 neurons and ReLU activation\n",
    "ann.add(keras.layers.Dense(units=6, kernel_initializer='normal', activation='relu'))\n",
    "\n",
    "# Add the output layer with 4 neurons and softmax activation for multi-class classification\n",
    "ann.add(keras.layers.Dense(units=4, kernel_initializer='normal', activation='softmax'))"
   ]
  },
  {
   "cell_type": "code",
   "execution_count": 107,
   "metadata": {},
   "outputs": [],
   "source": [
    "ann.compile(optimizer = 'adam', \n",
    "            loss = 'sparse_categorical_crossentropy', \n",
    "            metrics = ['accuracy'])"
   ]
  },
  {
   "cell_type": "code",
   "execution_count": 108,
   "metadata": {},
   "outputs": [
    {
     "name": "stdout",
     "output_type": "stream",
     "text": [
      "Epoch 1/15\n",
      "2146/2146 - 5s - 2ms/step - accuracy: 0.4537 - loss: 1.2777 - val_accuracy: 0.4522 - val_loss: 1.2629\n",
      "Epoch 2/15\n",
      "2146/2146 - 6s - 3ms/step - accuracy: 0.4538 - loss: 1.2609 - val_accuracy: 0.4522 - val_loss: 1.2629\n",
      "Epoch 3/15\n",
      "2146/2146 - 5s - 2ms/step - accuracy: 0.4538 - loss: 1.2609 - val_accuracy: 0.4522 - val_loss: 1.2629\n",
      "Epoch 4/15\n",
      "2146/2146 - 5s - 2ms/step - accuracy: 0.4538 - loss: 1.2609 - val_accuracy: 0.4522 - val_loss: 1.2629\n",
      "Epoch 5/15\n",
      "2146/2146 - 5s - 2ms/step - accuracy: 0.4538 - loss: 1.2609 - val_accuracy: 0.4522 - val_loss: 1.2629\n",
      "Epoch 6/15\n",
      "2146/2146 - 5s - 2ms/step - accuracy: 0.4538 - loss: 1.2609 - val_accuracy: 0.4522 - val_loss: 1.2629\n",
      "Epoch 7/15\n",
      "2146/2146 - 7s - 3ms/step - accuracy: 0.4538 - loss: 1.2609 - val_accuracy: 0.4522 - val_loss: 1.2629\n",
      "Epoch 8/15\n",
      "2146/2146 - 5s - 2ms/step - accuracy: 0.4538 - loss: 1.2609 - val_accuracy: 0.4522 - val_loss: 1.2629\n",
      "Epoch 9/15\n",
      "2146/2146 - 3s - 2ms/step - accuracy: 0.4538 - loss: 1.2609 - val_accuracy: 0.4522 - val_loss: 1.2629\n",
      "Epoch 10/15\n",
      "2146/2146 - 3s - 2ms/step - accuracy: 0.4538 - loss: 1.2609 - val_accuracy: 0.4522 - val_loss: 1.2630\n",
      "Epoch 11/15\n",
      "2146/2146 - 5s - 2ms/step - accuracy: 0.4538 - loss: 1.2609 - val_accuracy: 0.4522 - val_loss: 1.2629\n",
      "Epoch 12/15\n",
      "2146/2146 - 4s - 2ms/step - accuracy: 0.4538 - loss: 1.2609 - val_accuracy: 0.4522 - val_loss: 1.2629\n",
      "Epoch 13/15\n",
      "2146/2146 - 4s - 2ms/step - accuracy: 0.4538 - loss: 1.2609 - val_accuracy: 0.4522 - val_loss: 1.2629\n",
      "Epoch 14/15\n",
      "2146/2146 - 4s - 2ms/step - accuracy: 0.4538 - loss: 1.2609 - val_accuracy: 0.4522 - val_loss: 1.2629\n",
      "Epoch 15/15\n",
      "2146/2146 - 5s - 2ms/step - accuracy: 0.4538 - loss: 1.2609 - val_accuracy: 0.4522 - val_loss: 1.2629\n"
     ]
    }
   ],
   "source": [
    "ann_history = ann.fit(X_train, y_train, validation_data=(X_test, y_test), epochs=15, batch_size=100 , verbose = 2)"
   ]
  },
  {
   "cell_type": "code",
   "execution_count": 109,
   "metadata": {},
   "outputs": [
    {
     "data": {
      "text/html": [
       "<pre style=\"white-space:pre;overflow-x:auto;line-height:normal;font-family:Menlo,'DejaVu Sans Mono',consolas,'Courier New',monospace\"><span style=\"font-weight: bold\">Model: \"sequential_4\"</span>\n",
       "</pre>\n"
      ],
      "text/plain": [
       "\u001b[1mModel: \"sequential_4\"\u001b[0m\n"
      ]
     },
     "metadata": {},
     "output_type": "display_data"
    },
    {
     "data": {
      "text/html": [
       "<pre style=\"white-space:pre;overflow-x:auto;line-height:normal;font-family:Menlo,'DejaVu Sans Mono',consolas,'Courier New',monospace\">┏━━━━━━━━━━━━━━━━━━━━━━━━━━━━━━━━━┳━━━━━━━━━━━━━━━━━━━━━━━━┳━━━━━━━━━━━━━━━┓\n",
       "┃<span style=\"font-weight: bold\"> Layer (type)                    </span>┃<span style=\"font-weight: bold\"> Output Shape           </span>┃<span style=\"font-weight: bold\">       Param # </span>┃\n",
       "┡━━━━━━━━━━━━━━━━━━━━━━━━━━━━━━━━━╇━━━━━━━━━━━━━━━━━━━━━━━━╇━━━━━━━━━━━━━━━┩\n",
       "│ dense_14 (<span style=\"color: #0087ff; text-decoration-color: #0087ff\">Dense</span>)                │ (<span style=\"color: #00d7ff; text-decoration-color: #00d7ff\">None</span>, <span style=\"color: #00af00; text-decoration-color: #00af00\">32</span>)             │           <span style=\"color: #00af00; text-decoration-color: #00af00\">256</span> │\n",
       "├─────────────────────────────────┼────────────────────────┼───────────────┤\n",
       "│ dense_15 (<span style=\"color: #0087ff; text-decoration-color: #0087ff\">Dense</span>)                │ (<span style=\"color: #00d7ff; text-decoration-color: #00d7ff\">None</span>, <span style=\"color: #00af00; text-decoration-color: #00af00\">15</span>)             │           <span style=\"color: #00af00; text-decoration-color: #00af00\">495</span> │\n",
       "├─────────────────────────────────┼────────────────────────┼───────────────┤\n",
       "│ dense_16 (<span style=\"color: #0087ff; text-decoration-color: #0087ff\">Dense</span>)                │ (<span style=\"color: #00d7ff; text-decoration-color: #00d7ff\">None</span>, <span style=\"color: #00af00; text-decoration-color: #00af00\">10</span>)             │           <span style=\"color: #00af00; text-decoration-color: #00af00\">160</span> │\n",
       "├─────────────────────────────────┼────────────────────────┼───────────────┤\n",
       "│ dense_17 (<span style=\"color: #0087ff; text-decoration-color: #0087ff\">Dense</span>)                │ (<span style=\"color: #00d7ff; text-decoration-color: #00d7ff\">None</span>, <span style=\"color: #00af00; text-decoration-color: #00af00\">6</span>)              │            <span style=\"color: #00af00; text-decoration-color: #00af00\">66</span> │\n",
       "├─────────────────────────────────┼────────────────────────┼───────────────┤\n",
       "│ dense_18 (<span style=\"color: #0087ff; text-decoration-color: #0087ff\">Dense</span>)                │ (<span style=\"color: #00d7ff; text-decoration-color: #00d7ff\">None</span>, <span style=\"color: #00af00; text-decoration-color: #00af00\">4</span>)              │            <span style=\"color: #00af00; text-decoration-color: #00af00\">28</span> │\n",
       "└─────────────────────────────────┴────────────────────────┴───────────────┘\n",
       "</pre>\n"
      ],
      "text/plain": [
       "┏━━━━━━━━━━━━━━━━━━━━━━━━━━━━━━━━━┳━━━━━━━━━━━━━━━━━━━━━━━━┳━━━━━━━━━━━━━━━┓\n",
       "┃\u001b[1m \u001b[0m\u001b[1mLayer (type)                   \u001b[0m\u001b[1m \u001b[0m┃\u001b[1m \u001b[0m\u001b[1mOutput Shape          \u001b[0m\u001b[1m \u001b[0m┃\u001b[1m \u001b[0m\u001b[1m      Param #\u001b[0m\u001b[1m \u001b[0m┃\n",
       "┡━━━━━━━━━━━━━━━━━━━━━━━━━━━━━━━━━╇━━━━━━━━━━━━━━━━━━━━━━━━╇━━━━━━━━━━━━━━━┩\n",
       "│ dense_14 (\u001b[38;5;33mDense\u001b[0m)                │ (\u001b[38;5;45mNone\u001b[0m, \u001b[38;5;34m32\u001b[0m)             │           \u001b[38;5;34m256\u001b[0m │\n",
       "├─────────────────────────────────┼────────────────────────┼───────────────┤\n",
       "│ dense_15 (\u001b[38;5;33mDense\u001b[0m)                │ (\u001b[38;5;45mNone\u001b[0m, \u001b[38;5;34m15\u001b[0m)             │           \u001b[38;5;34m495\u001b[0m │\n",
       "├─────────────────────────────────┼────────────────────────┼───────────────┤\n",
       "│ dense_16 (\u001b[38;5;33mDense\u001b[0m)                │ (\u001b[38;5;45mNone\u001b[0m, \u001b[38;5;34m10\u001b[0m)             │           \u001b[38;5;34m160\u001b[0m │\n",
       "├─────────────────────────────────┼────────────────────────┼───────────────┤\n",
       "│ dense_17 (\u001b[38;5;33mDense\u001b[0m)                │ (\u001b[38;5;45mNone\u001b[0m, \u001b[38;5;34m6\u001b[0m)              │            \u001b[38;5;34m66\u001b[0m │\n",
       "├─────────────────────────────────┼────────────────────────┼───────────────┤\n",
       "│ dense_18 (\u001b[38;5;33mDense\u001b[0m)                │ (\u001b[38;5;45mNone\u001b[0m, \u001b[38;5;34m4\u001b[0m)              │            \u001b[38;5;34m28\u001b[0m │\n",
       "└─────────────────────────────────┴────────────────────────┴───────────────┘\n"
      ]
     },
     "metadata": {},
     "output_type": "display_data"
    },
    {
     "data": {
      "text/html": [
       "<pre style=\"white-space:pre;overflow-x:auto;line-height:normal;font-family:Menlo,'DejaVu Sans Mono',consolas,'Courier New',monospace\"><span style=\"font-weight: bold\"> Total params: </span><span style=\"color: #00af00; text-decoration-color: #00af00\">3,017</span> (11.79 KB)\n",
       "</pre>\n"
      ],
      "text/plain": [
       "\u001b[1m Total params: \u001b[0m\u001b[38;5;34m3,017\u001b[0m (11.79 KB)\n"
      ]
     },
     "metadata": {},
     "output_type": "display_data"
    },
    {
     "data": {
      "text/html": [
       "<pre style=\"white-space:pre;overflow-x:auto;line-height:normal;font-family:Menlo,'DejaVu Sans Mono',consolas,'Courier New',monospace\"><span style=\"font-weight: bold\"> Trainable params: </span><span style=\"color: #00af00; text-decoration-color: #00af00\">1,005</span> (3.93 KB)\n",
       "</pre>\n"
      ],
      "text/plain": [
       "\u001b[1m Trainable params: \u001b[0m\u001b[38;5;34m1,005\u001b[0m (3.93 KB)\n"
      ]
     },
     "metadata": {},
     "output_type": "display_data"
    },
    {
     "data": {
      "text/html": [
       "<pre style=\"white-space:pre;overflow-x:auto;line-height:normal;font-family:Menlo,'DejaVu Sans Mono',consolas,'Courier New',monospace\"><span style=\"font-weight: bold\"> Non-trainable params: </span><span style=\"color: #00af00; text-decoration-color: #00af00\">0</span> (0.00 B)\n",
       "</pre>\n"
      ],
      "text/plain": [
       "\u001b[1m Non-trainable params: \u001b[0m\u001b[38;5;34m0\u001b[0m (0.00 B)\n"
      ]
     },
     "metadata": {},
     "output_type": "display_data"
    },
    {
     "data": {
      "text/html": [
       "<pre style=\"white-space:pre;overflow-x:auto;line-height:normal;font-family:Menlo,'DejaVu Sans Mono',consolas,'Courier New',monospace\"><span style=\"font-weight: bold\"> Optimizer params: </span><span style=\"color: #00af00; text-decoration-color: #00af00\">2,012</span> (7.86 KB)\n",
       "</pre>\n"
      ],
      "text/plain": [
       "\u001b[1m Optimizer params: \u001b[0m\u001b[38;5;34m2,012\u001b[0m (7.86 KB)\n"
      ]
     },
     "metadata": {},
     "output_type": "display_data"
    }
   ],
   "source": [
    "ann.summary()"
   ]
  },
  {
   "cell_type": "code",
   "execution_count": 110,
   "metadata": {},
   "outputs": [
    {
     "data": {
      "text/plain": [
       "{'verbose': 2, 'epochs': 15, 'steps': 2146}"
      ]
     },
     "execution_count": 110,
     "metadata": {},
     "output_type": "execute_result"
    }
   ],
   "source": [
    "ann.history.params"
   ]
  },
  {
   "cell_type": "code",
   "execution_count": 111,
   "metadata": {},
   "outputs": [
    {
     "data": {
      "image/png": "[encoded data removed]",
      "text/plain": [
       "<Figure size 800x500 with 1 Axes>"
      ]
     },
     "metadata": {},
     "output_type": "display_data"
    }
   ],
   "source": [
    "pd.DataFrame(ann.history.history).plot(figsize=(8,5))\n",
    "plt.grid(True)\n",
    "plt.gca().set_ylim(0,1)               # Y AXIS RANGE LIMIT \n",
    "plt.show()"
   ]
  },
  {
   "cell_type": "markdown",
   "metadata": {},
   "source": [
    "### Evaluation Metrics\n",
    "\n",
    "- **Accuracy:** The model's performance can be assessed based on the accuracy, which indicates the proportion of correctly predicted instances out of the total instances.\n",
    "- **Loss:** The loss function provides a measure of how well the model's predictions align with the true labels. Lower loss values indicate better performance.\n"
   ]
  },
  {
   "cell_type": "code",
   "execution_count": 112,
   "metadata": {},
   "outputs": [
    {
     "name": "stdout",
     "output_type": "stream",
     "text": [
      "\u001b[1m2874/2874\u001b[0m \u001b[32m━━━━━━━━━━━━━━━━━━━━\u001b[0m\u001b[37m\u001b[0m \u001b[1m4s\u001b[0m 1ms/step - accuracy: 0.4543 - loss: 1.2612\n"
     ]
    },
    {
     "data": {
      "text/plain": [
       "[1.2628921270370483, 0.4521590769290924]"
      ]
     },
     "execution_count": 112,
     "metadata": {},
     "output_type": "execute_result"
    }
   ],
   "source": [
    "ann.evaluate(X_test , y_test)"
   ]
  },
  {
   "cell_type": "code",
   "execution_count": 113,
   "metadata": {},
   "outputs": [
    {
     "name": "stdout",
     "output_type": "stream",
     "text": [
      "\u001b[1m1/1\u001b[0m \u001b[32m━━━━━━━━━━━━━━━━━━━━\u001b[0m\u001b[37m\u001b[0m \u001b[1m0s\u001b[0m 75ms/step\n",
      "[[0.25 0.19 0.45 0.11]\n",
      " [0.25 0.19 0.45 0.11]\n",
      " [0.25 0.19 0.45 0.11]]\n",
      "\u001b[1m1/1\u001b[0m \u001b[32m━━━━━━━━━━━━━━━━━━━━\u001b[0m\u001b[37m\u001b[0m \u001b[1m0s\u001b[0m 33ms/step\n",
      "[2 2 2]\n",
      "['transaction' 'transaction' 'transaction']\n"
     ]
    }
   ],
   "source": [
    "# Select a few examples from the test set\n",
    "x_new = X_test[:3]\n",
    "\n",
    "# Predict the probabilities for each class\n",
    "y_prob = ann.predict(x_new)\n",
    "y_prob = y_prob.round(2)  # Round results to 2 decimal places\n",
    "print(y_prob)\n",
    "\n",
    "# Predict the class for each example\n",
    "y_pred = np.argmax(ann.predict(x_new), axis=-1)\n",
    "print(y_pred)\n",
    "\n",
    "# Map the predicted class indices to the class names\n",
    "class_names = ['offer received', 'offer viewed', 'transaction', 'offer completed']\n",
    "predicted_classes = np.array(class_names)[y_pred]\n",
    "print(predicted_classes)"
   ]
  },
  {
   "cell_type": "markdown",
   "metadata": {},
   "source": [
    "### Observation:\n",
    "\n",
    "- **Model Architecture:** The model is structured with four hidden layers and one output layer, indicating a deep neural network designed for complex data processing.\n",
    "  \n",
    "- **Hidden Layers:**\n",
    "  - **First Layer:** Consists of 32 neurons, which is a relatively large number for an initial layer, allowing the model to capture a broad range of features from the input data.\n",
    "  - **Subsequent Layers:** The model then gradually reduces the number of neurons in each hidden layer (15, 10, 6), which helps in refining and focusing the learning process as it progresses through the layers.\n",
    "  - **ReLU Activation:** All hidden layers use the ReLU activation function, which is a standard choice for deep networks due to its effectiveness in handling non-linear relationships and avoiding issues like vanishing gradients.\n",
    "\n",
    "- **Output Layer:**\n",
    "  - **Softmax Activation:** The output layer has 4 neurons, corresponding to 4 possible classes in the classification task. The softmax activation function is used here to output probabilities for each class, which is typical for multi-class classification problems.\n",
    "  \n",
    "- **Kernel Initialization:** The use of `kernel_initializer='normal'` across all layers suggests that the model's weights are initialized with values drawn from a normal distribution, which can help in faster convergence during training.\n",
    "\n",
    "### Summary:\n",
    "The model appears well-structured for a multi-class classification task, with a gradual reduction in neurons across the layers to focus learning, and a softmax output layer to handle the classification. This architecture should provide a good balance between complexity and performance, allowing the model to learn intricate patterns while maintaining computational efficiency. Further evaluation on training data will reveal how well this architecture performs in practice.\n"
   ]
  }
 ],
 "metadata": {
  "kernelspec": {
   "display_name": "ava",
   "language": "python",
   "name": "python3"
  },
  "language_info": {
   "codemirror_mode": {
    "name": "ipython",
    "version": 3
   },
   "file_extension": ".py",
   "mimetype": "text/x-python",
   "name": "python",
   "nbconvert_exporter": "python",
   "pygments_lexer": "ipython3",
   "version": "3.11.9"
  }
 },
 "nbformat": 4,
 "nbformat_minor": 2
}
